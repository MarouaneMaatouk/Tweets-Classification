{
  "nbformat": 4,
  "nbformat_minor": 0,
  "metadata": {
    "colab": {
      "name": "orcl.ipynb",
      "provenance": [],
      "collapsed_sections": [],
      "toc_visible": true,
      "include_colab_link": true
    },
    "kernelspec": {
      "name": "python3",
      "display_name": "Python 3"
    },
    "accelerator": "GPU",
    "widgets": {
      "application/vnd.jupyter.widget-state+json": {
        "98550fba7d4d400aa0b636a57efce687": {
          "model_module": "@jupyter-widgets/controls",
          "model_name": "HBoxModel",
          "state": {
            "_view_name": "HBoxView",
            "_dom_classes": [],
            "_model_name": "HBoxModel",
            "_view_module": "@jupyter-widgets/controls",
            "_model_module_version": "1.5.0",
            "_view_count": null,
            "_view_module_version": "1.5.0",
            "box_style": "",
            "layout": "IPY_MODEL_fe680a802efb45c7814c634db1f090c6",
            "_model_module": "@jupyter-widgets/controls",
            "children": [
              "IPY_MODEL_a1dfca5db6d547a3aab2147add3b9a4e",
              "IPY_MODEL_1781989d482a4bde92e3f9def88f4c24"
            ]
          }
        },
        "fe680a802efb45c7814c634db1f090c6": {
          "model_module": "@jupyter-widgets/base",
          "model_name": "LayoutModel",
          "state": {
            "_view_name": "LayoutView",
            "grid_template_rows": null,
            "right": null,
            "justify_content": null,
            "_view_module": "@jupyter-widgets/base",
            "overflow": null,
            "_model_module_version": "1.2.0",
            "_view_count": null,
            "flex_flow": null,
            "width": null,
            "min_width": null,
            "border": null,
            "align_items": null,
            "bottom": null,
            "_model_module": "@jupyter-widgets/base",
            "top": null,
            "grid_column": null,
            "overflow_y": null,
            "overflow_x": null,
            "grid_auto_flow": null,
            "grid_area": null,
            "grid_template_columns": null,
            "flex": null,
            "_model_name": "LayoutModel",
            "justify_items": null,
            "grid_row": null,
            "max_height": null,
            "align_content": null,
            "visibility": null,
            "align_self": null,
            "height": null,
            "min_height": null,
            "padding": null,
            "grid_auto_rows": null,
            "grid_gap": null,
            "max_width": null,
            "order": null,
            "_view_module_version": "1.2.0",
            "grid_template_areas": null,
            "object_position": null,
            "object_fit": null,
            "grid_auto_columns": null,
            "margin": null,
            "display": null,
            "left": null
          }
        },
        "a1dfca5db6d547a3aab2147add3b9a4e": {
          "model_module": "@jupyter-widgets/controls",
          "model_name": "IntProgressModel",
          "state": {
            "_view_name": "ProgressView",
            "style": "IPY_MODEL_3dfef7d49aeb411792c511d2dac496fa",
            "_dom_classes": [],
            "description": "",
            "_model_name": "IntProgressModel",
            "bar_style": "success",
            "max": 1,
            "_view_module": "@jupyter-widgets/controls",
            "_model_module_version": "1.5.0",
            "value": 1,
            "_view_count": null,
            "_view_module_version": "1.5.0",
            "orientation": "horizontal",
            "min": 0,
            "description_tooltip": null,
            "_model_module": "@jupyter-widgets/controls",
            "layout": "IPY_MODEL_62560cd619ad4075b97ac80c102fb520"
          }
        },
        "1781989d482a4bde92e3f9def88f4c24": {
          "model_module": "@jupyter-widgets/controls",
          "model_name": "HTMLModel",
          "state": {
            "_view_name": "HTMLView",
            "style": "IPY_MODEL_e4c72393ff0342d2b0c84e688ba90bd0",
            "_dom_classes": [],
            "description": "",
            "_model_name": "HTMLModel",
            "placeholder": "​",
            "_view_module": "@jupyter-widgets/controls",
            "_model_module_version": "1.5.0",
            "value": "100% 1/1 [00:00&lt;00:00, 28.97it/s]",
            "_view_count": null,
            "_view_module_version": "1.5.0",
            "description_tooltip": null,
            "_model_module": "@jupyter-widgets/controls",
            "layout": "IPY_MODEL_1192c64f98234b1cbb87d9b768550f38"
          }
        },
        "3dfef7d49aeb411792c511d2dac496fa": {
          "model_module": "@jupyter-widgets/controls",
          "model_name": "ProgressStyleModel",
          "state": {
            "_view_name": "StyleView",
            "_model_name": "ProgressStyleModel",
            "description_width": "",
            "_view_module": "@jupyter-widgets/base",
            "_model_module_version": "1.5.0",
            "_view_count": null,
            "_view_module_version": "1.2.0",
            "bar_color": null,
            "_model_module": "@jupyter-widgets/controls"
          }
        },
        "62560cd619ad4075b97ac80c102fb520": {
          "model_module": "@jupyter-widgets/base",
          "model_name": "LayoutModel",
          "state": {
            "_view_name": "LayoutView",
            "grid_template_rows": null,
            "right": null,
            "justify_content": null,
            "_view_module": "@jupyter-widgets/base",
            "overflow": null,
            "_model_module_version": "1.2.0",
            "_view_count": null,
            "flex_flow": null,
            "width": null,
            "min_width": null,
            "border": null,
            "align_items": null,
            "bottom": null,
            "_model_module": "@jupyter-widgets/base",
            "top": null,
            "grid_column": null,
            "overflow_y": null,
            "overflow_x": null,
            "grid_auto_flow": null,
            "grid_area": null,
            "grid_template_columns": null,
            "flex": null,
            "_model_name": "LayoutModel",
            "justify_items": null,
            "grid_row": null,
            "max_height": null,
            "align_content": null,
            "visibility": null,
            "align_self": null,
            "height": null,
            "min_height": null,
            "padding": null,
            "grid_auto_rows": null,
            "grid_gap": null,
            "max_width": null,
            "order": null,
            "_view_module_version": "1.2.0",
            "grid_template_areas": null,
            "object_position": null,
            "object_fit": null,
            "grid_auto_columns": null,
            "margin": null,
            "display": null,
            "left": null
          }
        },
        "e4c72393ff0342d2b0c84e688ba90bd0": {
          "model_module": "@jupyter-widgets/controls",
          "model_name": "DescriptionStyleModel",
          "state": {
            "_view_name": "StyleView",
            "_model_name": "DescriptionStyleModel",
            "description_width": "",
            "_view_module": "@jupyter-widgets/base",
            "_model_module_version": "1.5.0",
            "_view_count": null,
            "_view_module_version": "1.2.0",
            "_model_module": "@jupyter-widgets/controls"
          }
        },
        "1192c64f98234b1cbb87d9b768550f38": {
          "model_module": "@jupyter-widgets/base",
          "model_name": "LayoutModel",
          "state": {
            "_view_name": "LayoutView",
            "grid_template_rows": null,
            "right": null,
            "justify_content": null,
            "_view_module": "@jupyter-widgets/base",
            "overflow": null,
            "_model_module_version": "1.2.0",
            "_view_count": null,
            "flex_flow": null,
            "width": null,
            "min_width": null,
            "border": null,
            "align_items": null,
            "bottom": null,
            "_model_module": "@jupyter-widgets/base",
            "top": null,
            "grid_column": null,
            "overflow_y": null,
            "overflow_x": null,
            "grid_auto_flow": null,
            "grid_area": null,
            "grid_template_columns": null,
            "flex": null,
            "_model_name": "LayoutModel",
            "justify_items": null,
            "grid_row": null,
            "max_height": null,
            "align_content": null,
            "visibility": null,
            "align_self": null,
            "height": null,
            "min_height": null,
            "padding": null,
            "grid_auto_rows": null,
            "grid_gap": null,
            "max_width": null,
            "order": null,
            "_view_module_version": "1.2.0",
            "grid_template_areas": null,
            "object_position": null,
            "object_fit": null,
            "grid_auto_columns": null,
            "margin": null,
            "display": null,
            "left": null
          }
        },
        "084e01ba1bab48e2bbecdc9ee79c66b1": {
          "model_module": "@jupyter-widgets/controls",
          "model_name": "HBoxModel",
          "state": {
            "_view_name": "HBoxView",
            "_dom_classes": [],
            "_model_name": "HBoxModel",
            "_view_module": "@jupyter-widgets/controls",
            "_model_module_version": "1.5.0",
            "_view_count": null,
            "_view_module_version": "1.5.0",
            "box_style": "",
            "layout": "IPY_MODEL_12695f9dff1d4d9bba3bb4b430a9884e",
            "_model_module": "@jupyter-widgets/controls",
            "children": [
              "IPY_MODEL_1d6bfa38bc1e41878a1929f892292b0a",
              "IPY_MODEL_25f35e3c86294834ad582550a2572ff6"
            ]
          }
        },
        "12695f9dff1d4d9bba3bb4b430a9884e": {
          "model_module": "@jupyter-widgets/base",
          "model_name": "LayoutModel",
          "state": {
            "_view_name": "LayoutView",
            "grid_template_rows": null,
            "right": null,
            "justify_content": null,
            "_view_module": "@jupyter-widgets/base",
            "overflow": null,
            "_model_module_version": "1.2.0",
            "_view_count": null,
            "flex_flow": null,
            "width": null,
            "min_width": null,
            "border": null,
            "align_items": null,
            "bottom": null,
            "_model_module": "@jupyter-widgets/base",
            "top": null,
            "grid_column": null,
            "overflow_y": null,
            "overflow_x": null,
            "grid_auto_flow": null,
            "grid_area": null,
            "grid_template_columns": null,
            "flex": null,
            "_model_name": "LayoutModel",
            "justify_items": null,
            "grid_row": null,
            "max_height": null,
            "align_content": null,
            "visibility": null,
            "align_self": null,
            "height": null,
            "min_height": null,
            "padding": null,
            "grid_auto_rows": null,
            "grid_gap": null,
            "max_width": null,
            "order": null,
            "_view_module_version": "1.2.0",
            "grid_template_areas": null,
            "object_position": null,
            "object_fit": null,
            "grid_auto_columns": null,
            "margin": null,
            "display": null,
            "left": null
          }
        },
        "1d6bfa38bc1e41878a1929f892292b0a": {
          "model_module": "@jupyter-widgets/controls",
          "model_name": "IntProgressModel",
          "state": {
            "_view_name": "ProgressView",
            "style": "IPY_MODEL_46139e0bb03943d486a54cd0c92f5e2d",
            "_dom_classes": [],
            "description": "",
            "_model_name": "IntProgressModel",
            "bar_style": "success",
            "max": 4543,
            "_view_module": "@jupyter-widgets/controls",
            "_model_module_version": "1.5.0",
            "value": 4543,
            "_view_count": null,
            "_view_module_version": "1.5.0",
            "orientation": "horizontal",
            "min": 0,
            "description_tooltip": null,
            "_model_module": "@jupyter-widgets/controls",
            "layout": "IPY_MODEL_c7b60f4890664344b9d4d60bbd6ea4cc"
          }
        },
        "25f35e3c86294834ad582550a2572ff6": {
          "model_module": "@jupyter-widgets/controls",
          "model_name": "HTMLModel",
          "state": {
            "_view_name": "HTMLView",
            "style": "IPY_MODEL_c16566a323a34c1d88432fab981887a4",
            "_dom_classes": [],
            "description": "",
            "_model_name": "HTMLModel",
            "placeholder": "​",
            "_view_module": "@jupyter-widgets/controls",
            "_model_module_version": "1.5.0",
            "value": "100% 4543/4543 [00:01&lt;00:00, 3223.62it/s]",
            "_view_count": null,
            "_view_module_version": "1.5.0",
            "description_tooltip": null,
            "_model_module": "@jupyter-widgets/controls",
            "layout": "IPY_MODEL_f6b9c2f5faae4c01a52c931e05cbfb72"
          }
        },
        "46139e0bb03943d486a54cd0c92f5e2d": {
          "model_module": "@jupyter-widgets/controls",
          "model_name": "ProgressStyleModel",
          "state": {
            "_view_name": "StyleView",
            "_model_name": "ProgressStyleModel",
            "description_width": "",
            "_view_module": "@jupyter-widgets/base",
            "_model_module_version": "1.5.0",
            "_view_count": null,
            "_view_module_version": "1.2.0",
            "bar_color": null,
            "_model_module": "@jupyter-widgets/controls"
          }
        },
        "c7b60f4890664344b9d4d60bbd6ea4cc": {
          "model_module": "@jupyter-widgets/base",
          "model_name": "LayoutModel",
          "state": {
            "_view_name": "LayoutView",
            "grid_template_rows": null,
            "right": null,
            "justify_content": null,
            "_view_module": "@jupyter-widgets/base",
            "overflow": null,
            "_model_module_version": "1.2.0",
            "_view_count": null,
            "flex_flow": null,
            "width": null,
            "min_width": null,
            "border": null,
            "align_items": null,
            "bottom": null,
            "_model_module": "@jupyter-widgets/base",
            "top": null,
            "grid_column": null,
            "overflow_y": null,
            "overflow_x": null,
            "grid_auto_flow": null,
            "grid_area": null,
            "grid_template_columns": null,
            "flex": null,
            "_model_name": "LayoutModel",
            "justify_items": null,
            "grid_row": null,
            "max_height": null,
            "align_content": null,
            "visibility": null,
            "align_self": null,
            "height": null,
            "min_height": null,
            "padding": null,
            "grid_auto_rows": null,
            "grid_gap": null,
            "max_width": null,
            "order": null,
            "_view_module_version": "1.2.0",
            "grid_template_areas": null,
            "object_position": null,
            "object_fit": null,
            "grid_auto_columns": null,
            "margin": null,
            "display": null,
            "left": null
          }
        },
        "c16566a323a34c1d88432fab981887a4": {
          "model_module": "@jupyter-widgets/controls",
          "model_name": "DescriptionStyleModel",
          "state": {
            "_view_name": "StyleView",
            "_model_name": "DescriptionStyleModel",
            "description_width": "",
            "_view_module": "@jupyter-widgets/base",
            "_model_module_version": "1.5.0",
            "_view_count": null,
            "_view_module_version": "1.2.0",
            "_model_module": "@jupyter-widgets/controls"
          }
        },
        "f6b9c2f5faae4c01a52c931e05cbfb72": {
          "model_module": "@jupyter-widgets/base",
          "model_name": "LayoutModel",
          "state": {
            "_view_name": "LayoutView",
            "grid_template_rows": null,
            "right": null,
            "justify_content": null,
            "_view_module": "@jupyter-widgets/base",
            "overflow": null,
            "_model_module_version": "1.2.0",
            "_view_count": null,
            "flex_flow": null,
            "width": null,
            "min_width": null,
            "border": null,
            "align_items": null,
            "bottom": null,
            "_model_module": "@jupyter-widgets/base",
            "top": null,
            "grid_column": null,
            "overflow_y": null,
            "overflow_x": null,
            "grid_auto_flow": null,
            "grid_area": null,
            "grid_template_columns": null,
            "flex": null,
            "_model_name": "LayoutModel",
            "justify_items": null,
            "grid_row": null,
            "max_height": null,
            "align_content": null,
            "visibility": null,
            "align_self": null,
            "height": null,
            "min_height": null,
            "padding": null,
            "grid_auto_rows": null,
            "grid_gap": null,
            "max_width": null,
            "order": null,
            "_view_module_version": "1.2.0",
            "grid_template_areas": null,
            "object_position": null,
            "object_fit": null,
            "grid_auto_columns": null,
            "margin": null,
            "display": null,
            "left": null
          }
        },
        "858d29dde40c490d9f18853c709abd74": {
          "model_module": "@jupyter-widgets/controls",
          "model_name": "HBoxModel",
          "state": {
            "_view_name": "HBoxView",
            "_dom_classes": [],
            "_model_name": "HBoxModel",
            "_view_module": "@jupyter-widgets/controls",
            "_model_module_version": "1.5.0",
            "_view_count": null,
            "_view_module_version": "1.5.0",
            "box_style": "",
            "layout": "IPY_MODEL_aa099dd694bd440ca4a6258607bb7d17",
            "_model_module": "@jupyter-widgets/controls",
            "children": [
              "IPY_MODEL_5e32a5d1f38a48a2934801e31ee1e222",
              "IPY_MODEL_9367810267114a8cafd7cae86b635285"
            ]
          }
        },
        "aa099dd694bd440ca4a6258607bb7d17": {
          "model_module": "@jupyter-widgets/base",
          "model_name": "LayoutModel",
          "state": {
            "_view_name": "LayoutView",
            "grid_template_rows": null,
            "right": null,
            "justify_content": null,
            "_view_module": "@jupyter-widgets/base",
            "overflow": null,
            "_model_module_version": "1.2.0",
            "_view_count": null,
            "flex_flow": null,
            "width": null,
            "min_width": null,
            "border": null,
            "align_items": null,
            "bottom": null,
            "_model_module": "@jupyter-widgets/base",
            "top": null,
            "grid_column": null,
            "overflow_y": null,
            "overflow_x": null,
            "grid_auto_flow": null,
            "grid_area": null,
            "grid_template_columns": null,
            "flex": null,
            "_model_name": "LayoutModel",
            "justify_items": null,
            "grid_row": null,
            "max_height": null,
            "align_content": null,
            "visibility": null,
            "align_self": null,
            "height": null,
            "min_height": null,
            "padding": null,
            "grid_auto_rows": null,
            "grid_gap": null,
            "max_width": null,
            "order": null,
            "_view_module_version": "1.2.0",
            "grid_template_areas": null,
            "object_position": null,
            "object_fit": null,
            "grid_auto_columns": null,
            "margin": null,
            "display": null,
            "left": null
          }
        },
        "5e32a5d1f38a48a2934801e31ee1e222": {
          "model_module": "@jupyter-widgets/controls",
          "model_name": "IntProgressModel",
          "state": {
            "_view_name": "ProgressView",
            "style": "IPY_MODEL_1bb7fac27577403e8c967805ac0118dd",
            "_dom_classes": [],
            "description": "",
            "_model_name": "IntProgressModel",
            "bar_style": "success",
            "max": 1168,
            "_view_module": "@jupyter-widgets/controls",
            "_model_module_version": "1.5.0",
            "value": 1168,
            "_view_count": null,
            "_view_module_version": "1.5.0",
            "orientation": "horizontal",
            "min": 0,
            "description_tooltip": null,
            "_model_module": "@jupyter-widgets/controls",
            "layout": "IPY_MODEL_c0349908452f4d2dafa5cda773f3b343"
          }
        },
        "9367810267114a8cafd7cae86b635285": {
          "model_module": "@jupyter-widgets/controls",
          "model_name": "HTMLModel",
          "state": {
            "_view_name": "HTMLView",
            "style": "IPY_MODEL_64e8c176f2d1414b97e9e979aa8d142c",
            "_dom_classes": [],
            "description": "",
            "_model_name": "HTMLModel",
            "placeholder": "​",
            "_view_module": "@jupyter-widgets/controls",
            "_model_module_version": "1.5.0",
            "value": "100% 1168/1168 [00:00&lt;00:00, 3097.46it/s]",
            "_view_count": null,
            "_view_module_version": "1.5.0",
            "description_tooltip": null,
            "_model_module": "@jupyter-widgets/controls",
            "layout": "IPY_MODEL_3eb489c4f2484bfd865035468f1c0e0c"
          }
        },
        "1bb7fac27577403e8c967805ac0118dd": {
          "model_module": "@jupyter-widgets/controls",
          "model_name": "ProgressStyleModel",
          "state": {
            "_view_name": "StyleView",
            "_model_name": "ProgressStyleModel",
            "description_width": "",
            "_view_module": "@jupyter-widgets/base",
            "_model_module_version": "1.5.0",
            "_view_count": null,
            "_view_module_version": "1.2.0",
            "bar_color": null,
            "_model_module": "@jupyter-widgets/controls"
          }
        },
        "c0349908452f4d2dafa5cda773f3b343": {
          "model_module": "@jupyter-widgets/base",
          "model_name": "LayoutModel",
          "state": {
            "_view_name": "LayoutView",
            "grid_template_rows": null,
            "right": null,
            "justify_content": null,
            "_view_module": "@jupyter-widgets/base",
            "overflow": null,
            "_model_module_version": "1.2.0",
            "_view_count": null,
            "flex_flow": null,
            "width": null,
            "min_width": null,
            "border": null,
            "align_items": null,
            "bottom": null,
            "_model_module": "@jupyter-widgets/base",
            "top": null,
            "grid_column": null,
            "overflow_y": null,
            "overflow_x": null,
            "grid_auto_flow": null,
            "grid_area": null,
            "grid_template_columns": null,
            "flex": null,
            "_model_name": "LayoutModel",
            "justify_items": null,
            "grid_row": null,
            "max_height": null,
            "align_content": null,
            "visibility": null,
            "align_self": null,
            "height": null,
            "min_height": null,
            "padding": null,
            "grid_auto_rows": null,
            "grid_gap": null,
            "max_width": null,
            "order": null,
            "_view_module_version": "1.2.0",
            "grid_template_areas": null,
            "object_position": null,
            "object_fit": null,
            "grid_auto_columns": null,
            "margin": null,
            "display": null,
            "left": null
          }
        },
        "64e8c176f2d1414b97e9e979aa8d142c": {
          "model_module": "@jupyter-widgets/controls",
          "model_name": "DescriptionStyleModel",
          "state": {
            "_view_name": "StyleView",
            "_model_name": "DescriptionStyleModel",
            "description_width": "",
            "_view_module": "@jupyter-widgets/base",
            "_model_module_version": "1.5.0",
            "_view_count": null,
            "_view_module_version": "1.2.0",
            "_model_module": "@jupyter-widgets/controls"
          }
        },
        "3eb489c4f2484bfd865035468f1c0e0c": {
          "model_module": "@jupyter-widgets/base",
          "model_name": "LayoutModel",
          "state": {
            "_view_name": "LayoutView",
            "grid_template_rows": null,
            "right": null,
            "justify_content": null,
            "_view_module": "@jupyter-widgets/base",
            "overflow": null,
            "_model_module_version": "1.2.0",
            "_view_count": null,
            "flex_flow": null,
            "width": null,
            "min_width": null,
            "border": null,
            "align_items": null,
            "bottom": null,
            "_model_module": "@jupyter-widgets/base",
            "top": null,
            "grid_column": null,
            "overflow_y": null,
            "overflow_x": null,
            "grid_auto_flow": null,
            "grid_area": null,
            "grid_template_columns": null,
            "flex": null,
            "_model_name": "LayoutModel",
            "justify_items": null,
            "grid_row": null,
            "max_height": null,
            "align_content": null,
            "visibility": null,
            "align_self": null,
            "height": null,
            "min_height": null,
            "padding": null,
            "grid_auto_rows": null,
            "grid_gap": null,
            "max_width": null,
            "order": null,
            "_view_module_version": "1.2.0",
            "grid_template_areas": null,
            "object_position": null,
            "object_fit": null,
            "grid_auto_columns": null,
            "margin": null,
            "display": null,
            "left": null
          }
        },
        "0e1ba91450744c54bdf42528f4481d2e": {
          "model_module": "@jupyter-widgets/controls",
          "model_name": "HBoxModel",
          "state": {
            "_view_name": "HBoxView",
            "_dom_classes": [],
            "_model_name": "HBoxModel",
            "_view_module": "@jupyter-widgets/controls",
            "_model_module_version": "1.5.0",
            "_view_count": null,
            "_view_module_version": "1.5.0",
            "box_style": "",
            "layout": "IPY_MODEL_b6d33c1e78e445a0a232a5d44bce6f83",
            "_model_module": "@jupyter-widgets/controls",
            "children": [
              "IPY_MODEL_9999cdd033a34cd2a28e6937c152c76e",
              "IPY_MODEL_0ff416ceb2d24fdaa4cee32167e056d2"
            ]
          }
        },
        "b6d33c1e78e445a0a232a5d44bce6f83": {
          "model_module": "@jupyter-widgets/base",
          "model_name": "LayoutModel",
          "state": {
            "_view_name": "LayoutView",
            "grid_template_rows": null,
            "right": null,
            "justify_content": null,
            "_view_module": "@jupyter-widgets/base",
            "overflow": null,
            "_model_module_version": "1.2.0",
            "_view_count": null,
            "flex_flow": null,
            "width": null,
            "min_width": null,
            "border": null,
            "align_items": null,
            "bottom": null,
            "_model_module": "@jupyter-widgets/base",
            "top": null,
            "grid_column": null,
            "overflow_y": null,
            "overflow_x": null,
            "grid_auto_flow": null,
            "grid_area": null,
            "grid_template_columns": null,
            "flex": null,
            "_model_name": "LayoutModel",
            "justify_items": null,
            "grid_row": null,
            "max_height": null,
            "align_content": null,
            "visibility": null,
            "align_self": null,
            "height": null,
            "min_height": null,
            "padding": null,
            "grid_auto_rows": null,
            "grid_gap": null,
            "max_width": null,
            "order": null,
            "_view_module_version": "1.2.0",
            "grid_template_areas": null,
            "object_position": null,
            "object_fit": null,
            "grid_auto_columns": null,
            "margin": null,
            "display": null,
            "left": null
          }
        },
        "9999cdd033a34cd2a28e6937c152c76e": {
          "model_module": "@jupyter-widgets/controls",
          "model_name": "IntProgressModel",
          "state": {
            "_view_name": "ProgressView",
            "style": "IPY_MODEL_de7d92d6179648b3bd387b090709a2a1",
            "_dom_classes": [],
            "description": "",
            "_model_name": "IntProgressModel",
            "bar_style": "success",
            "max": 779,
            "_view_module": "@jupyter-widgets/controls",
            "_model_module_version": "1.5.0",
            "value": 779,
            "_view_count": null,
            "_view_module_version": "1.5.0",
            "orientation": "horizontal",
            "min": 0,
            "description_tooltip": null,
            "_model_module": "@jupyter-widgets/controls",
            "layout": "IPY_MODEL_dd4b00e016414424abfb13778309839d"
          }
        },
        "0ff416ceb2d24fdaa4cee32167e056d2": {
          "model_module": "@jupyter-widgets/controls",
          "model_name": "HTMLModel",
          "state": {
            "_view_name": "HTMLView",
            "style": "IPY_MODEL_417c89f52aaa43f0bc9fbfbf628647b2",
            "_dom_classes": [],
            "description": "",
            "_model_name": "HTMLModel",
            "placeholder": "​",
            "_view_module": "@jupyter-widgets/controls",
            "_model_module_version": "1.5.0",
            "value": "100% 779/779 [00:00&lt;00:00, 2857.56it/s]",
            "_view_count": null,
            "_view_module_version": "1.5.0",
            "description_tooltip": null,
            "_model_module": "@jupyter-widgets/controls",
            "layout": "IPY_MODEL_99c9e6a954784eef8e553756bacd65d0"
          }
        },
        "de7d92d6179648b3bd387b090709a2a1": {
          "model_module": "@jupyter-widgets/controls",
          "model_name": "ProgressStyleModel",
          "state": {
            "_view_name": "StyleView",
            "_model_name": "ProgressStyleModel",
            "description_width": "",
            "_view_module": "@jupyter-widgets/base",
            "_model_module_version": "1.5.0",
            "_view_count": null,
            "_view_module_version": "1.2.0",
            "bar_color": null,
            "_model_module": "@jupyter-widgets/controls"
          }
        },
        "dd4b00e016414424abfb13778309839d": {
          "model_module": "@jupyter-widgets/base",
          "model_name": "LayoutModel",
          "state": {
            "_view_name": "LayoutView",
            "grid_template_rows": null,
            "right": null,
            "justify_content": null,
            "_view_module": "@jupyter-widgets/base",
            "overflow": null,
            "_model_module_version": "1.2.0",
            "_view_count": null,
            "flex_flow": null,
            "width": null,
            "min_width": null,
            "border": null,
            "align_items": null,
            "bottom": null,
            "_model_module": "@jupyter-widgets/base",
            "top": null,
            "grid_column": null,
            "overflow_y": null,
            "overflow_x": null,
            "grid_auto_flow": null,
            "grid_area": null,
            "grid_template_columns": null,
            "flex": null,
            "_model_name": "LayoutModel",
            "justify_items": null,
            "grid_row": null,
            "max_height": null,
            "align_content": null,
            "visibility": null,
            "align_self": null,
            "height": null,
            "min_height": null,
            "padding": null,
            "grid_auto_rows": null,
            "grid_gap": null,
            "max_width": null,
            "order": null,
            "_view_module_version": "1.2.0",
            "grid_template_areas": null,
            "object_position": null,
            "object_fit": null,
            "grid_auto_columns": null,
            "margin": null,
            "display": null,
            "left": null
          }
        },
        "417c89f52aaa43f0bc9fbfbf628647b2": {
          "model_module": "@jupyter-widgets/controls",
          "model_name": "DescriptionStyleModel",
          "state": {
            "_view_name": "StyleView",
            "_model_name": "DescriptionStyleModel",
            "description_width": "",
            "_view_module": "@jupyter-widgets/base",
            "_model_module_version": "1.5.0",
            "_view_count": null,
            "_view_module_version": "1.2.0",
            "_model_module": "@jupyter-widgets/controls"
          }
        },
        "99c9e6a954784eef8e553756bacd65d0": {
          "model_module": "@jupyter-widgets/base",
          "model_name": "LayoutModel",
          "state": {
            "_view_name": "LayoutView",
            "grid_template_rows": null,
            "right": null,
            "justify_content": null,
            "_view_module": "@jupyter-widgets/base",
            "overflow": null,
            "_model_module_version": "1.2.0",
            "_view_count": null,
            "flex_flow": null,
            "width": null,
            "min_width": null,
            "border": null,
            "align_items": null,
            "bottom": null,
            "_model_module": "@jupyter-widgets/base",
            "top": null,
            "grid_column": null,
            "overflow_y": null,
            "overflow_x": null,
            "grid_auto_flow": null,
            "grid_area": null,
            "grid_template_columns": null,
            "flex": null,
            "_model_name": "LayoutModel",
            "justify_items": null,
            "grid_row": null,
            "max_height": null,
            "align_content": null,
            "visibility": null,
            "align_self": null,
            "height": null,
            "min_height": null,
            "padding": null,
            "grid_auto_rows": null,
            "grid_gap": null,
            "max_width": null,
            "order": null,
            "_view_module_version": "1.2.0",
            "grid_template_areas": null,
            "object_position": null,
            "object_fit": null,
            "grid_auto_columns": null,
            "margin": null,
            "display": null,
            "left": null
          }
        },
        "b0276fb8eae44f3f86ba756df71c977b": {
          "model_module": "@jupyter-widgets/controls",
          "model_name": "HBoxModel",
          "state": {
            "_view_name": "HBoxView",
            "_dom_classes": [],
            "_model_name": "HBoxModel",
            "_view_module": "@jupyter-widgets/controls",
            "_model_module_version": "1.5.0",
            "_view_count": null,
            "_view_module_version": "1.5.0",
            "box_style": "",
            "layout": "IPY_MODEL_f9f2a17dece34dbd9acbe86a7fdae436",
            "_model_module": "@jupyter-widgets/controls",
            "children": [
              "IPY_MODEL_c01a3e3b4c144ed3aab3023bbe40b4b3",
              "IPY_MODEL_0d775d01d90d4854978c55c6d8cdb51d"
            ]
          }
        },
        "f9f2a17dece34dbd9acbe86a7fdae436": {
          "model_module": "@jupyter-widgets/base",
          "model_name": "LayoutModel",
          "state": {
            "_view_name": "LayoutView",
            "grid_template_rows": null,
            "right": null,
            "justify_content": null,
            "_view_module": "@jupyter-widgets/base",
            "overflow": null,
            "_model_module_version": "1.2.0",
            "_view_count": null,
            "flex_flow": null,
            "width": null,
            "min_width": null,
            "border": null,
            "align_items": null,
            "bottom": null,
            "_model_module": "@jupyter-widgets/base",
            "top": null,
            "grid_column": null,
            "overflow_y": null,
            "overflow_x": null,
            "grid_auto_flow": null,
            "grid_area": null,
            "grid_template_columns": null,
            "flex": null,
            "_model_name": "LayoutModel",
            "justify_items": null,
            "grid_row": null,
            "max_height": null,
            "align_content": null,
            "visibility": null,
            "align_self": null,
            "height": null,
            "min_height": null,
            "padding": null,
            "grid_auto_rows": null,
            "grid_gap": null,
            "max_width": null,
            "order": null,
            "_view_module_version": "1.2.0",
            "grid_template_areas": null,
            "object_position": null,
            "object_fit": null,
            "grid_auto_columns": null,
            "margin": null,
            "display": null,
            "left": null
          }
        },
        "c01a3e3b4c144ed3aab3023bbe40b4b3": {
          "model_module": "@jupyter-widgets/controls",
          "model_name": "IntProgressModel",
          "state": {
            "_view_name": "ProgressView",
            "style": "IPY_MODEL_7024296c07424662865cdbae1a0be822",
            "_dom_classes": [],
            "description": "",
            "_model_name": "IntProgressModel",
            "bar_style": "success",
            "max": 2610,
            "_view_module": "@jupyter-widgets/controls",
            "_model_module_version": "1.5.0",
            "value": 2610,
            "_view_count": null,
            "_view_module_version": "1.5.0",
            "orientation": "horizontal",
            "min": 0,
            "description_tooltip": null,
            "_model_module": "@jupyter-widgets/controls",
            "layout": "IPY_MODEL_298ec4111f564f9fa82ac9d5d2929f7b"
          }
        },
        "0d775d01d90d4854978c55c6d8cdb51d": {
          "model_module": "@jupyter-widgets/controls",
          "model_name": "HTMLModel",
          "state": {
            "_view_name": "HTMLView",
            "style": "IPY_MODEL_f3e57d7b8d3f4b14bd550f926679fe23",
            "_dom_classes": [],
            "description": "",
            "_model_name": "HTMLModel",
            "placeholder": "​",
            "_view_module": "@jupyter-widgets/controls",
            "_model_module_version": "1.5.0",
            "value": "100% 2610/2610 [00:00&lt;00:00, 3346.93it/s]",
            "_view_count": null,
            "_view_module_version": "1.5.0",
            "description_tooltip": null,
            "_model_module": "@jupyter-widgets/controls",
            "layout": "IPY_MODEL_9f33a6a920fc43f9a9e8cee0bf581cd6"
          }
        },
        "7024296c07424662865cdbae1a0be822": {
          "model_module": "@jupyter-widgets/controls",
          "model_name": "ProgressStyleModel",
          "state": {
            "_view_name": "StyleView",
            "_model_name": "ProgressStyleModel",
            "description_width": "",
            "_view_module": "@jupyter-widgets/base",
            "_model_module_version": "1.5.0",
            "_view_count": null,
            "_view_module_version": "1.2.0",
            "bar_color": null,
            "_model_module": "@jupyter-widgets/controls"
          }
        },
        "298ec4111f564f9fa82ac9d5d2929f7b": {
          "model_module": "@jupyter-widgets/base",
          "model_name": "LayoutModel",
          "state": {
            "_view_name": "LayoutView",
            "grid_template_rows": null,
            "right": null,
            "justify_content": null,
            "_view_module": "@jupyter-widgets/base",
            "overflow": null,
            "_model_module_version": "1.2.0",
            "_view_count": null,
            "flex_flow": null,
            "width": null,
            "min_width": null,
            "border": null,
            "align_items": null,
            "bottom": null,
            "_model_module": "@jupyter-widgets/base",
            "top": null,
            "grid_column": null,
            "overflow_y": null,
            "overflow_x": null,
            "grid_auto_flow": null,
            "grid_area": null,
            "grid_template_columns": null,
            "flex": null,
            "_model_name": "LayoutModel",
            "justify_items": null,
            "grid_row": null,
            "max_height": null,
            "align_content": null,
            "visibility": null,
            "align_self": null,
            "height": null,
            "min_height": null,
            "padding": null,
            "grid_auto_rows": null,
            "grid_gap": null,
            "max_width": null,
            "order": null,
            "_view_module_version": "1.2.0",
            "grid_template_areas": null,
            "object_position": null,
            "object_fit": null,
            "grid_auto_columns": null,
            "margin": null,
            "display": null,
            "left": null
          }
        },
        "f3e57d7b8d3f4b14bd550f926679fe23": {
          "model_module": "@jupyter-widgets/controls",
          "model_name": "DescriptionStyleModel",
          "state": {
            "_view_name": "StyleView",
            "_model_name": "DescriptionStyleModel",
            "description_width": "",
            "_view_module": "@jupyter-widgets/base",
            "_model_module_version": "1.5.0",
            "_view_count": null,
            "_view_module_version": "1.2.0",
            "_model_module": "@jupyter-widgets/controls"
          }
        },
        "9f33a6a920fc43f9a9e8cee0bf581cd6": {
          "model_module": "@jupyter-widgets/base",
          "model_name": "LayoutModel",
          "state": {
            "_view_name": "LayoutView",
            "grid_template_rows": null,
            "right": null,
            "justify_content": null,
            "_view_module": "@jupyter-widgets/base",
            "overflow": null,
            "_model_module_version": "1.2.0",
            "_view_count": null,
            "flex_flow": null,
            "width": null,
            "min_width": null,
            "border": null,
            "align_items": null,
            "bottom": null,
            "_model_module": "@jupyter-widgets/base",
            "top": null,
            "grid_column": null,
            "overflow_y": null,
            "overflow_x": null,
            "grid_auto_flow": null,
            "grid_area": null,
            "grid_template_columns": null,
            "flex": null,
            "_model_name": "LayoutModel",
            "justify_items": null,
            "grid_row": null,
            "max_height": null,
            "align_content": null,
            "visibility": null,
            "align_self": null,
            "height": null,
            "min_height": null,
            "padding": null,
            "grid_auto_rows": null,
            "grid_gap": null,
            "max_width": null,
            "order": null,
            "_view_module_version": "1.2.0",
            "grid_template_areas": null,
            "object_position": null,
            "object_fit": null,
            "grid_auto_columns": null,
            "margin": null,
            "display": null,
            "left": null
          }
        },
        "9669fed5cb164be7929bcc7f65d4d606": {
          "model_module": "@jupyter-widgets/controls",
          "model_name": "HBoxModel",
          "state": {
            "_view_name": "HBoxView",
            "_dom_classes": [],
            "_model_name": "HBoxModel",
            "_view_module": "@jupyter-widgets/controls",
            "_model_module_version": "1.5.0",
            "_view_count": null,
            "_view_module_version": "1.5.0",
            "box_style": "",
            "layout": "IPY_MODEL_7635ee4be94240b4a36ff4ecafcd418b",
            "_model_module": "@jupyter-widgets/controls",
            "children": [
              "IPY_MODEL_a68b1a07077f4906a48a9aa7518aab68",
              "IPY_MODEL_6ea5e203d4604ba6a7bbbf6c73a61ad6"
            ]
          }
        },
        "7635ee4be94240b4a36ff4ecafcd418b": {
          "model_module": "@jupyter-widgets/base",
          "model_name": "LayoutModel",
          "state": {
            "_view_name": "LayoutView",
            "grid_template_rows": null,
            "right": null,
            "justify_content": null,
            "_view_module": "@jupyter-widgets/base",
            "overflow": null,
            "_model_module_version": "1.2.0",
            "_view_count": null,
            "flex_flow": null,
            "width": null,
            "min_width": null,
            "border": null,
            "align_items": null,
            "bottom": null,
            "_model_module": "@jupyter-widgets/base",
            "top": null,
            "grid_column": null,
            "overflow_y": null,
            "overflow_x": null,
            "grid_auto_flow": null,
            "grid_area": null,
            "grid_template_columns": null,
            "flex": null,
            "_model_name": "LayoutModel",
            "justify_items": null,
            "grid_row": null,
            "max_height": null,
            "align_content": null,
            "visibility": null,
            "align_self": null,
            "height": null,
            "min_height": null,
            "padding": null,
            "grid_auto_rows": null,
            "grid_gap": null,
            "max_width": null,
            "order": null,
            "_view_module_version": "1.2.0",
            "grid_template_areas": null,
            "object_position": null,
            "object_fit": null,
            "grid_auto_columns": null,
            "margin": null,
            "display": null,
            "left": null
          }
        },
        "a68b1a07077f4906a48a9aa7518aab68": {
          "model_module": "@jupyter-widgets/controls",
          "model_name": "IntProgressModel",
          "state": {
            "_view_name": "ProgressView",
            "style": "IPY_MODEL_25e01d1f25af48ec9e525f11ceb0344b",
            "_dom_classes": [],
            "description": "",
            "_model_name": "IntProgressModel",
            "bar_style": "success",
            "max": 317033,
            "_view_module": "@jupyter-widgets/controls",
            "_model_module_version": "1.5.0",
            "value": 317033,
            "_view_count": null,
            "_view_module_version": "1.5.0",
            "orientation": "horizontal",
            "min": 0,
            "description_tooltip": null,
            "_model_module": "@jupyter-widgets/controls",
            "layout": "IPY_MODEL_1243c96e2599431380a2752565b3181b"
          }
        },
        "6ea5e203d4604ba6a7bbbf6c73a61ad6": {
          "model_module": "@jupyter-widgets/controls",
          "model_name": "HTMLModel",
          "state": {
            "_view_name": "HTMLView",
            "style": "IPY_MODEL_02ba2d6edcde4d62953aea090851bfa8",
            "_dom_classes": [],
            "description": "",
            "_model_name": "HTMLModel",
            "placeholder": "​",
            "_view_module": "@jupyter-widgets/controls",
            "_model_module_version": "1.5.0",
            "value": "100% 317033/317033 [00:13&lt;00:00, 24155.41it/s]",
            "_view_count": null,
            "_view_module_version": "1.5.0",
            "description_tooltip": null,
            "_model_module": "@jupyter-widgets/controls",
            "layout": "IPY_MODEL_3a5b824df45b407bb6a1fb6260dbea09"
          }
        },
        "25e01d1f25af48ec9e525f11ceb0344b": {
          "model_module": "@jupyter-widgets/controls",
          "model_name": "ProgressStyleModel",
          "state": {
            "_view_name": "StyleView",
            "_model_name": "ProgressStyleModel",
            "description_width": "",
            "_view_module": "@jupyter-widgets/base",
            "_model_module_version": "1.5.0",
            "_view_count": null,
            "_view_module_version": "1.2.0",
            "bar_color": null,
            "_model_module": "@jupyter-widgets/controls"
          }
        },
        "1243c96e2599431380a2752565b3181b": {
          "model_module": "@jupyter-widgets/base",
          "model_name": "LayoutModel",
          "state": {
            "_view_name": "LayoutView",
            "grid_template_rows": null,
            "right": null,
            "justify_content": null,
            "_view_module": "@jupyter-widgets/base",
            "overflow": null,
            "_model_module_version": "1.2.0",
            "_view_count": null,
            "flex_flow": null,
            "width": null,
            "min_width": null,
            "border": null,
            "align_items": null,
            "bottom": null,
            "_model_module": "@jupyter-widgets/base",
            "top": null,
            "grid_column": null,
            "overflow_y": null,
            "overflow_x": null,
            "grid_auto_flow": null,
            "grid_area": null,
            "grid_template_columns": null,
            "flex": null,
            "_model_name": "LayoutModel",
            "justify_items": null,
            "grid_row": null,
            "max_height": null,
            "align_content": null,
            "visibility": null,
            "align_self": null,
            "height": null,
            "min_height": null,
            "padding": null,
            "grid_auto_rows": null,
            "grid_gap": null,
            "max_width": null,
            "order": null,
            "_view_module_version": "1.2.0",
            "grid_template_areas": null,
            "object_position": null,
            "object_fit": null,
            "grid_auto_columns": null,
            "margin": null,
            "display": null,
            "left": null
          }
        },
        "02ba2d6edcde4d62953aea090851bfa8": {
          "model_module": "@jupyter-widgets/controls",
          "model_name": "DescriptionStyleModel",
          "state": {
            "_view_name": "StyleView",
            "_model_name": "DescriptionStyleModel",
            "description_width": "",
            "_view_module": "@jupyter-widgets/base",
            "_model_module_version": "1.5.0",
            "_view_count": null,
            "_view_module_version": "1.2.0",
            "_model_module": "@jupyter-widgets/controls"
          }
        },
        "3a5b824df45b407bb6a1fb6260dbea09": {
          "model_module": "@jupyter-widgets/base",
          "model_name": "LayoutModel",
          "state": {
            "_view_name": "LayoutView",
            "grid_template_rows": null,
            "right": null,
            "justify_content": null,
            "_view_module": "@jupyter-widgets/base",
            "overflow": null,
            "_model_module_version": "1.2.0",
            "_view_count": null,
            "flex_flow": null,
            "width": null,
            "min_width": null,
            "border": null,
            "align_items": null,
            "bottom": null,
            "_model_module": "@jupyter-widgets/base",
            "top": null,
            "grid_column": null,
            "overflow_y": null,
            "overflow_x": null,
            "grid_auto_flow": null,
            "grid_area": null,
            "grid_template_columns": null,
            "flex": null,
            "_model_name": "LayoutModel",
            "justify_items": null,
            "grid_row": null,
            "max_height": null,
            "align_content": null,
            "visibility": null,
            "align_self": null,
            "height": null,
            "min_height": null,
            "padding": null,
            "grid_auto_rows": null,
            "grid_gap": null,
            "max_width": null,
            "order": null,
            "_view_module_version": "1.2.0",
            "grid_template_areas": null,
            "object_position": null,
            "object_fit": null,
            "grid_auto_columns": null,
            "margin": null,
            "display": null,
            "left": null
          }
        },
        "463db75b0fd04bb98defd05dbe8580bf": {
          "model_module": "@jupyter-widgets/controls",
          "model_name": "HBoxModel",
          "state": {
            "_view_name": "HBoxView",
            "_dom_classes": [],
            "_model_name": "HBoxModel",
            "_view_module": "@jupyter-widgets/controls",
            "_model_module_version": "1.5.0",
            "_view_count": null,
            "_view_module_version": "1.5.0",
            "box_style": "",
            "layout": "IPY_MODEL_97082d617a574b39b6ffafdead085fb9",
            "_model_module": "@jupyter-widgets/controls",
            "children": [
              "IPY_MODEL_46c377371d974fc4b67d1bb6ccd4f64e",
              "IPY_MODEL_fec4f9a5b3d24e439886fc72ff075353"
            ]
          }
        },
        "97082d617a574b39b6ffafdead085fb9": {
          "model_module": "@jupyter-widgets/base",
          "model_name": "LayoutModel",
          "state": {
            "_view_name": "LayoutView",
            "grid_template_rows": null,
            "right": null,
            "justify_content": null,
            "_view_module": "@jupyter-widgets/base",
            "overflow": null,
            "_model_module_version": "1.2.0",
            "_view_count": null,
            "flex_flow": null,
            "width": null,
            "min_width": null,
            "border": null,
            "align_items": null,
            "bottom": null,
            "_model_module": "@jupyter-widgets/base",
            "top": null,
            "grid_column": null,
            "overflow_y": null,
            "overflow_x": null,
            "grid_auto_flow": null,
            "grid_area": null,
            "grid_template_columns": null,
            "flex": null,
            "_model_name": "LayoutModel",
            "justify_items": null,
            "grid_row": null,
            "max_height": null,
            "align_content": null,
            "visibility": null,
            "align_self": null,
            "height": null,
            "min_height": null,
            "padding": null,
            "grid_auto_rows": null,
            "grid_gap": null,
            "max_width": null,
            "order": null,
            "_view_module_version": "1.2.0",
            "grid_template_areas": null,
            "object_position": null,
            "object_fit": null,
            "grid_auto_columns": null,
            "margin": null,
            "display": null,
            "left": null
          }
        },
        "46c377371d974fc4b67d1bb6ccd4f64e": {
          "model_module": "@jupyter-widgets/controls",
          "model_name": "IntProgressModel",
          "state": {
            "_view_name": "ProgressView",
            "style": "IPY_MODEL_b130b3f5a3b24ab1b1789d01b85b9e7f",
            "_dom_classes": [],
            "description": "",
            "_model_name": "IntProgressModel",
            "bar_style": "success",
            "max": 908,
            "_view_module": "@jupyter-widgets/controls",
            "_model_module_version": "1.5.0",
            "value": 908,
            "_view_count": null,
            "_view_module_version": "1.5.0",
            "orientation": "horizontal",
            "min": 0,
            "description_tooltip": null,
            "_model_module": "@jupyter-widgets/controls",
            "layout": "IPY_MODEL_f79581858fe649ab9c8787ab3ab73a2f"
          }
        },
        "fec4f9a5b3d24e439886fc72ff075353": {
          "model_module": "@jupyter-widgets/controls",
          "model_name": "HTMLModel",
          "state": {
            "_view_name": "HTMLView",
            "style": "IPY_MODEL_f768131e22b444c89ba7545e0dc69bb4",
            "_dom_classes": [],
            "description": "",
            "_model_name": "HTMLModel",
            "placeholder": "​",
            "_view_module": "@jupyter-widgets/controls",
            "_model_module_version": "1.5.0",
            "value": "100% 908/908 [06:31&lt;00:00,  1.73s/it]",
            "_view_count": null,
            "_view_module_version": "1.5.0",
            "description_tooltip": null,
            "_model_module": "@jupyter-widgets/controls",
            "layout": "IPY_MODEL_ab3432ac78194619aa1701e50fdba06b"
          }
        },
        "b130b3f5a3b24ab1b1789d01b85b9e7f": {
          "model_module": "@jupyter-widgets/controls",
          "model_name": "ProgressStyleModel",
          "state": {
            "_view_name": "StyleView",
            "_model_name": "ProgressStyleModel",
            "description_width": "",
            "_view_module": "@jupyter-widgets/base",
            "_model_module_version": "1.5.0",
            "_view_count": null,
            "_view_module_version": "1.2.0",
            "bar_color": null,
            "_model_module": "@jupyter-widgets/controls"
          }
        },
        "f79581858fe649ab9c8787ab3ab73a2f": {
          "model_module": "@jupyter-widgets/base",
          "model_name": "LayoutModel",
          "state": {
            "_view_name": "LayoutView",
            "grid_template_rows": null,
            "right": null,
            "justify_content": null,
            "_view_module": "@jupyter-widgets/base",
            "overflow": null,
            "_model_module_version": "1.2.0",
            "_view_count": null,
            "flex_flow": null,
            "width": null,
            "min_width": null,
            "border": null,
            "align_items": null,
            "bottom": null,
            "_model_module": "@jupyter-widgets/base",
            "top": null,
            "grid_column": null,
            "overflow_y": null,
            "overflow_x": null,
            "grid_auto_flow": null,
            "grid_area": null,
            "grid_template_columns": null,
            "flex": null,
            "_model_name": "LayoutModel",
            "justify_items": null,
            "grid_row": null,
            "max_height": null,
            "align_content": null,
            "visibility": null,
            "align_self": null,
            "height": null,
            "min_height": null,
            "padding": null,
            "grid_auto_rows": null,
            "grid_gap": null,
            "max_width": null,
            "order": null,
            "_view_module_version": "1.2.0",
            "grid_template_areas": null,
            "object_position": null,
            "object_fit": null,
            "grid_auto_columns": null,
            "margin": null,
            "display": null,
            "left": null
          }
        },
        "f768131e22b444c89ba7545e0dc69bb4": {
          "model_module": "@jupyter-widgets/controls",
          "model_name": "DescriptionStyleModel",
          "state": {
            "_view_name": "StyleView",
            "_model_name": "DescriptionStyleModel",
            "description_width": "",
            "_view_module": "@jupyter-widgets/base",
            "_model_module_version": "1.5.0",
            "_view_count": null,
            "_view_module_version": "1.2.0",
            "_model_module": "@jupyter-widgets/controls"
          }
        },
        "ab3432ac78194619aa1701e50fdba06b": {
          "model_module": "@jupyter-widgets/base",
          "model_name": "LayoutModel",
          "state": {
            "_view_name": "LayoutView",
            "grid_template_rows": null,
            "right": null,
            "justify_content": null,
            "_view_module": "@jupyter-widgets/base",
            "overflow": null,
            "_model_module_version": "1.2.0",
            "_view_count": null,
            "flex_flow": null,
            "width": null,
            "min_width": null,
            "border": null,
            "align_items": null,
            "bottom": null,
            "_model_module": "@jupyter-widgets/base",
            "top": null,
            "grid_column": null,
            "overflow_y": null,
            "overflow_x": null,
            "grid_auto_flow": null,
            "grid_area": null,
            "grid_template_columns": null,
            "flex": null,
            "_model_name": "LayoutModel",
            "justify_items": null,
            "grid_row": null,
            "max_height": null,
            "align_content": null,
            "visibility": null,
            "align_self": null,
            "height": null,
            "min_height": null,
            "padding": null,
            "grid_auto_rows": null,
            "grid_gap": null,
            "max_width": null,
            "order": null,
            "_view_module_version": "1.2.0",
            "grid_template_areas": null,
            "object_position": null,
            "object_fit": null,
            "grid_auto_columns": null,
            "margin": null,
            "display": null,
            "left": null
          }
        },
        "75c6bc4782774e288e1d4fcd345a310d": {
          "model_module": "@jupyter-widgets/controls",
          "model_name": "HBoxModel",
          "state": {
            "_view_name": "HBoxView",
            "_dom_classes": [],
            "_model_name": "HBoxModel",
            "_view_module": "@jupyter-widgets/controls",
            "_model_module_version": "1.5.0",
            "_view_count": null,
            "_view_module_version": "1.5.0",
            "box_style": "",
            "layout": "IPY_MODEL_27196596375a49f2915bb2148dcc6878",
            "_model_module": "@jupyter-widgets/controls",
            "children": [
              "IPY_MODEL_966f9236b2104b7cb2364e42100dba00",
              "IPY_MODEL_7bedcb9c8dcb4c7c8207b1f124ceadc1"
            ]
          }
        },
        "27196596375a49f2915bb2148dcc6878": {
          "model_module": "@jupyter-widgets/base",
          "model_name": "LayoutModel",
          "state": {
            "_view_name": "LayoutView",
            "grid_template_rows": null,
            "right": null,
            "justify_content": null,
            "_view_module": "@jupyter-widgets/base",
            "overflow": null,
            "_model_module_version": "1.2.0",
            "_view_count": null,
            "flex_flow": null,
            "width": null,
            "min_width": null,
            "border": null,
            "align_items": null,
            "bottom": null,
            "_model_module": "@jupyter-widgets/base",
            "top": null,
            "grid_column": null,
            "overflow_y": null,
            "overflow_x": null,
            "grid_auto_flow": null,
            "grid_area": null,
            "grid_template_columns": null,
            "flex": null,
            "_model_name": "LayoutModel",
            "justify_items": null,
            "grid_row": null,
            "max_height": null,
            "align_content": null,
            "visibility": null,
            "align_self": null,
            "height": null,
            "min_height": null,
            "padding": null,
            "grid_auto_rows": null,
            "grid_gap": null,
            "max_width": null,
            "order": null,
            "_view_module_version": "1.2.0",
            "grid_template_areas": null,
            "object_position": null,
            "object_fit": null,
            "grid_auto_columns": null,
            "margin": null,
            "display": null,
            "left": null
          }
        },
        "966f9236b2104b7cb2364e42100dba00": {
          "model_module": "@jupyter-widgets/controls",
          "model_name": "IntProgressModel",
          "state": {
            "_view_name": "ProgressView",
            "style": "IPY_MODEL_f49e9bb2b1bd44f2a0891abab6e0313d",
            "_dom_classes": [],
            "description": "",
            "_model_name": "IntProgressModel",
            "bar_style": "success",
            "max": 908,
            "_view_module": "@jupyter-widgets/controls",
            "_model_module_version": "1.5.0",
            "value": 908,
            "_view_count": null,
            "_view_module_version": "1.5.0",
            "orientation": "horizontal",
            "min": 0,
            "description_tooltip": null,
            "_model_module": "@jupyter-widgets/controls",
            "layout": "IPY_MODEL_bbd6ec61456b4382a6dfd5bb09915363"
          }
        },
        "7bedcb9c8dcb4c7c8207b1f124ceadc1": {
          "model_module": "@jupyter-widgets/controls",
          "model_name": "HTMLModel",
          "state": {
            "_view_name": "HTMLView",
            "style": "IPY_MODEL_0190433eae94484492aa625f8128ffb8",
            "_dom_classes": [],
            "description": "",
            "_model_name": "HTMLModel",
            "placeholder": "​",
            "_view_module": "@jupyter-widgets/controls",
            "_model_module_version": "1.5.0",
            "value": "100% 908/908 [00:01&lt;00:00, 791.10it/s]",
            "_view_count": null,
            "_view_module_version": "1.5.0",
            "description_tooltip": null,
            "_model_module": "@jupyter-widgets/controls",
            "layout": "IPY_MODEL_3cb299ee8c3349e0a3aec30c426d6768"
          }
        },
        "f49e9bb2b1bd44f2a0891abab6e0313d": {
          "model_module": "@jupyter-widgets/controls",
          "model_name": "ProgressStyleModel",
          "state": {
            "_view_name": "StyleView",
            "_model_name": "ProgressStyleModel",
            "description_width": "",
            "_view_module": "@jupyter-widgets/base",
            "_model_module_version": "1.5.0",
            "_view_count": null,
            "_view_module_version": "1.2.0",
            "bar_color": null,
            "_model_module": "@jupyter-widgets/controls"
          }
        },
        "bbd6ec61456b4382a6dfd5bb09915363": {
          "model_module": "@jupyter-widgets/base",
          "model_name": "LayoutModel",
          "state": {
            "_view_name": "LayoutView",
            "grid_template_rows": null,
            "right": null,
            "justify_content": null,
            "_view_module": "@jupyter-widgets/base",
            "overflow": null,
            "_model_module_version": "1.2.0",
            "_view_count": null,
            "flex_flow": null,
            "width": null,
            "min_width": null,
            "border": null,
            "align_items": null,
            "bottom": null,
            "_model_module": "@jupyter-widgets/base",
            "top": null,
            "grid_column": null,
            "overflow_y": null,
            "overflow_x": null,
            "grid_auto_flow": null,
            "grid_area": null,
            "grid_template_columns": null,
            "flex": null,
            "_model_name": "LayoutModel",
            "justify_items": null,
            "grid_row": null,
            "max_height": null,
            "align_content": null,
            "visibility": null,
            "align_self": null,
            "height": null,
            "min_height": null,
            "padding": null,
            "grid_auto_rows": null,
            "grid_gap": null,
            "max_width": null,
            "order": null,
            "_view_module_version": "1.2.0",
            "grid_template_areas": null,
            "object_position": null,
            "object_fit": null,
            "grid_auto_columns": null,
            "margin": null,
            "display": null,
            "left": null
          }
        },
        "0190433eae94484492aa625f8128ffb8": {
          "model_module": "@jupyter-widgets/controls",
          "model_name": "DescriptionStyleModel",
          "state": {
            "_view_name": "StyleView",
            "_model_name": "DescriptionStyleModel",
            "description_width": "",
            "_view_module": "@jupyter-widgets/base",
            "_model_module_version": "1.5.0",
            "_view_count": null,
            "_view_module_version": "1.2.0",
            "_model_module": "@jupyter-widgets/controls"
          }
        },
        "3cb299ee8c3349e0a3aec30c426d6768": {
          "model_module": "@jupyter-widgets/base",
          "model_name": "LayoutModel",
          "state": {
            "_view_name": "LayoutView",
            "grid_template_rows": null,
            "right": null,
            "justify_content": null,
            "_view_module": "@jupyter-widgets/base",
            "overflow": null,
            "_model_module_version": "1.2.0",
            "_view_count": null,
            "flex_flow": null,
            "width": null,
            "min_width": null,
            "border": null,
            "align_items": null,
            "bottom": null,
            "_model_module": "@jupyter-widgets/base",
            "top": null,
            "grid_column": null,
            "overflow_y": null,
            "overflow_x": null,
            "grid_auto_flow": null,
            "grid_area": null,
            "grid_template_columns": null,
            "flex": null,
            "_model_name": "LayoutModel",
            "justify_items": null,
            "grid_row": null,
            "max_height": null,
            "align_content": null,
            "visibility": null,
            "align_self": null,
            "height": null,
            "min_height": null,
            "padding": null,
            "grid_auto_rows": null,
            "grid_gap": null,
            "max_width": null,
            "order": null,
            "_view_module_version": "1.2.0",
            "grid_template_areas": null,
            "object_position": null,
            "object_fit": null,
            "grid_auto_columns": null,
            "margin": null,
            "display": null,
            "left": null
          }
        },
        "c721d560b49a43c4b53389994ed1d101": {
          "model_module": "@jupyter-widgets/controls",
          "model_name": "HBoxModel",
          "state": {
            "_view_name": "HBoxView",
            "_dom_classes": [],
            "_model_name": "HBoxModel",
            "_view_module": "@jupyter-widgets/controls",
            "_model_module_version": "1.5.0",
            "_view_count": null,
            "_view_module_version": "1.5.0",
            "box_style": "",
            "layout": "IPY_MODEL_11c0f386f4fd4885bdc09d2f2ff30904",
            "_model_module": "@jupyter-widgets/controls",
            "children": [
              "IPY_MODEL_328ba48fb92e461a85016a98121fe6df",
              "IPY_MODEL_993dae0fc00b4f4dbbbefb2cc5109bec"
            ]
          }
        },
        "11c0f386f4fd4885bdc09d2f2ff30904": {
          "model_module": "@jupyter-widgets/base",
          "model_name": "LayoutModel",
          "state": {
            "_view_name": "LayoutView",
            "grid_template_rows": null,
            "right": null,
            "justify_content": null,
            "_view_module": "@jupyter-widgets/base",
            "overflow": null,
            "_model_module_version": "1.2.0",
            "_view_count": null,
            "flex_flow": null,
            "width": null,
            "min_width": null,
            "border": null,
            "align_items": null,
            "bottom": null,
            "_model_module": "@jupyter-widgets/base",
            "top": null,
            "grid_column": null,
            "overflow_y": null,
            "overflow_x": null,
            "grid_auto_flow": null,
            "grid_area": null,
            "grid_template_columns": null,
            "flex": null,
            "_model_name": "LayoutModel",
            "justify_items": null,
            "grid_row": null,
            "max_height": null,
            "align_content": null,
            "visibility": null,
            "align_self": null,
            "height": null,
            "min_height": null,
            "padding": null,
            "grid_auto_rows": null,
            "grid_gap": null,
            "max_width": null,
            "order": null,
            "_view_module_version": "1.2.0",
            "grid_template_areas": null,
            "object_position": null,
            "object_fit": null,
            "grid_auto_columns": null,
            "margin": null,
            "display": null,
            "left": null
          }
        },
        "328ba48fb92e461a85016a98121fe6df": {
          "model_module": "@jupyter-widgets/controls",
          "model_name": "IntProgressModel",
          "state": {
            "_view_name": "ProgressView",
            "style": "IPY_MODEL_54ec603b02fc4c3a9a274852af6dd24c",
            "_dom_classes": [],
            "description": "",
            "_model_name": "IntProgressModel",
            "bar_style": "success",
            "max": 8255,
            "_view_module": "@jupyter-widgets/controls",
            "_model_module_version": "1.5.0",
            "value": 8255,
            "_view_count": null,
            "_view_module_version": "1.5.0",
            "orientation": "horizontal",
            "min": 0,
            "description_tooltip": null,
            "_model_module": "@jupyter-widgets/controls",
            "layout": "IPY_MODEL_a27e05d5e9254989b5c8f6a14f11069e"
          }
        },
        "993dae0fc00b4f4dbbbefb2cc5109bec": {
          "model_module": "@jupyter-widgets/controls",
          "model_name": "HTMLModel",
          "state": {
            "_view_name": "HTMLView",
            "style": "IPY_MODEL_fe0e9f18e8564b25b92bd5f5a5e359cf",
            "_dom_classes": [],
            "description": "",
            "_model_name": "HTMLModel",
            "placeholder": "​",
            "_view_module": "@jupyter-widgets/controls",
            "_model_module_version": "1.5.0",
            "value": "100% 8255/8255 [00:02&lt;00:00, 3310.47it/s]",
            "_view_count": null,
            "_view_module_version": "1.5.0",
            "description_tooltip": null,
            "_model_module": "@jupyter-widgets/controls",
            "layout": "IPY_MODEL_d497c9357ea243b6a7a4c563c1773034"
          }
        },
        "54ec603b02fc4c3a9a274852af6dd24c": {
          "model_module": "@jupyter-widgets/controls",
          "model_name": "ProgressStyleModel",
          "state": {
            "_view_name": "StyleView",
            "_model_name": "ProgressStyleModel",
            "description_width": "",
            "_view_module": "@jupyter-widgets/base",
            "_model_module_version": "1.5.0",
            "_view_count": null,
            "_view_module_version": "1.2.0",
            "bar_color": null,
            "_model_module": "@jupyter-widgets/controls"
          }
        },
        "a27e05d5e9254989b5c8f6a14f11069e": {
          "model_module": "@jupyter-widgets/base",
          "model_name": "LayoutModel",
          "state": {
            "_view_name": "LayoutView",
            "grid_template_rows": null,
            "right": null,
            "justify_content": null,
            "_view_module": "@jupyter-widgets/base",
            "overflow": null,
            "_model_module_version": "1.2.0",
            "_view_count": null,
            "flex_flow": null,
            "width": null,
            "min_width": null,
            "border": null,
            "align_items": null,
            "bottom": null,
            "_model_module": "@jupyter-widgets/base",
            "top": null,
            "grid_column": null,
            "overflow_y": null,
            "overflow_x": null,
            "grid_auto_flow": null,
            "grid_area": null,
            "grid_template_columns": null,
            "flex": null,
            "_model_name": "LayoutModel",
            "justify_items": null,
            "grid_row": null,
            "max_height": null,
            "align_content": null,
            "visibility": null,
            "align_self": null,
            "height": null,
            "min_height": null,
            "padding": null,
            "grid_auto_rows": null,
            "grid_gap": null,
            "max_width": null,
            "order": null,
            "_view_module_version": "1.2.0",
            "grid_template_areas": null,
            "object_position": null,
            "object_fit": null,
            "grid_auto_columns": null,
            "margin": null,
            "display": null,
            "left": null
          }
        },
        "fe0e9f18e8564b25b92bd5f5a5e359cf": {
          "model_module": "@jupyter-widgets/controls",
          "model_name": "DescriptionStyleModel",
          "state": {
            "_view_name": "StyleView",
            "_model_name": "DescriptionStyleModel",
            "description_width": "",
            "_view_module": "@jupyter-widgets/base",
            "_model_module_version": "1.5.0",
            "_view_count": null,
            "_view_module_version": "1.2.0",
            "_model_module": "@jupyter-widgets/controls"
          }
        },
        "d497c9357ea243b6a7a4c563c1773034": {
          "model_module": "@jupyter-widgets/base",
          "model_name": "LayoutModel",
          "state": {
            "_view_name": "LayoutView",
            "grid_template_rows": null,
            "right": null,
            "justify_content": null,
            "_view_module": "@jupyter-widgets/base",
            "overflow": null,
            "_model_module_version": "1.2.0",
            "_view_count": null,
            "flex_flow": null,
            "width": null,
            "min_width": null,
            "border": null,
            "align_items": null,
            "bottom": null,
            "_model_module": "@jupyter-widgets/base",
            "top": null,
            "grid_column": null,
            "overflow_y": null,
            "overflow_x": null,
            "grid_auto_flow": null,
            "grid_area": null,
            "grid_template_columns": null,
            "flex": null,
            "_model_name": "LayoutModel",
            "justify_items": null,
            "grid_row": null,
            "max_height": null,
            "align_content": null,
            "visibility": null,
            "align_self": null,
            "height": null,
            "min_height": null,
            "padding": null,
            "grid_auto_rows": null,
            "grid_gap": null,
            "max_width": null,
            "order": null,
            "_view_module_version": "1.2.0",
            "grid_template_areas": null,
            "object_position": null,
            "object_fit": null,
            "grid_auto_columns": null,
            "margin": null,
            "display": null,
            "left": null
          }
        }
      }
    }
  },
  "cells": [
    {
      "cell_type": "markdown",
      "metadata": {
        "id": "view-in-github",
        "colab_type": "text"
      },
      "source": [
        "<a href=\"https://colab.research.google.com/github/MarouaneMaatouk/ORCL-tweetClassification/blob/master/orcl.ipynb\" target=\"_parent\"><img src=\"https://colab.research.google.com/assets/colab-badge.svg\" alt=\"Open In Colab\"/></a>"
      ]
    },
    {
      "cell_type": "markdown",
      "metadata": {
        "id": "cYW2XRAMUfI_",
        "colab_type": "text"
      },
      "source": [
        "# *Tweets classification (Politics / Sports)*\n",
        "***"
      ]
    },
    {
      "cell_type": "markdown",
      "metadata": {
        "id": "TJvqY9bWEcaj",
        "colab_type": "text"
      },
      "source": [
        "Full name: MAATOUK MAROUANE\n",
        "\n",
        "Account: ORCL-DS-APP420\n",
        "\n",
        "Team:  PGX- DS-T420\n",
        "\n",
        "---"
      ]
    },
    {
      "cell_type": "markdown",
      "metadata": {
        "id": "VKcFbTsHowQv",
        "colab_type": "text"
      },
      "source": [
        "\n",
        "In this notebook, we present the details of a binary classification problem on textual data.\n",
        "\n",
        "The goal is to build a classifier able to tell if tweets are about *Sports* or *Politics*.\n",
        "In order to achieve this, we'll procede in the following steps:\n",
        "\n",
        "\n",
        "\n",
        "\n",
        "\n",
        "#### Plan:\n",
        "* [**1 - Colab environment setup** ](#c1)\n",
        "* [**2- Data preprocessing** ](#c2)\n",
        "- - [**Loading the dataset** ](#c21)\n",
        "- - [**Preparing the embedding vectors** ](#c22)\n",
        "- - [**Handling missing keywords** ](#c23)\n",
        "- - [**Preparing the data for the model** ](#c24)\n",
        "* [**3- Model definition**](#c3)\n",
        "- - [**Simple architecture** ](#c31)\n",
        "- - [**Evaluation of different embeddings** ](#c32)\n",
        "- - [**Error analysis** ](#c33)\n",
        "- - [**Fine tuning** ](#c34)\n",
        "- - [**Evaluation of different architectures** ](#c35)\n",
        "- - [**Ensembling** ](#c36)\n",
        "- - [**Data augmentation** ](#c37)\n",
        "- - [**Final evaluation** ](#c38)\n",
        "* [**4- Conclusion**](#c4)\n",
        "\n",
        "\n",
        "\n",
        "\n",
        "---"
      ]
    },
    {
      "cell_type": "markdown",
      "metadata": {
        "id": "lu66AGsJ-esY",
        "colab_type": "text"
      },
      "source": [
        "###1- Env. setup\n",
        "<a id=\"c1\"></a>"
      ]
    },
    {
      "cell_type": "code",
      "metadata": {
        "id": "p_iL6MhSUnY9",
        "colab_type": "code",
        "outputId": "e9aecc15-8ad6-4ecb-d8eb-bad1565da453",
        "colab": {
          "resources": {
            "http://localhost:8080/nbextensions/google.colab/files.js": {
              "data": "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",
              "ok": true,
              "headers": [
                [
                  "content-type",
                  "application/javascript"
                ]
              ],
              "status": 200,
              "status_text": ""
            }
          },
          "base_uri": "https://localhost:8080/",
          "height": 74
        }
      },
      "source": [
        "from google.colab import files\n",
        "file = files.upload()"
      ],
      "execution_count": 0,
      "outputs": [
        {
          "output_type": "display_data",
          "data": {
            "text/html": [
              "\n",
              "     <input type=\"file\" id=\"files-66e0e601-8e47-4e6b-81f6-325050b91f2e\" name=\"files[]\" multiple disabled />\n",
              "     <output id=\"result-66e0e601-8e47-4e6b-81f6-325050b91f2e\">\n",
              "      Upload widget is only available when the cell has been executed in the\n",
              "      current browser session. Please rerun this cell to enable.\n",
              "      </output>\n",
              "      <script src=\"/nbextensions/google.colab/files.js\"></script> "
            ],
            "text/plain": [
              "<IPython.core.display.HTML object>"
            ]
          },
          "metadata": {
            "tags": []
          }
        },
        {
          "output_type": "stream",
          "text": [
            "Saving kaggle.json to kaggle.json\n"
          ],
          "name": "stdout"
        }
      ]
    },
    {
      "cell_type": "code",
      "metadata": {
        "id": "obaG33UsVctC",
        "colab_type": "code",
        "outputId": "ab51ddd8-5e14-4ed1-9140-d5d9b61675e2",
        "colab": {
          "base_uri": "https://localhost:8080/",
          "height": 34
        }
      },
      "source": [
        "!ls -lha kaggle.json"
      ],
      "execution_count": 0,
      "outputs": [
        {
          "output_type": "stream",
          "text": [
            "-rw-r--r-- 1 root root 68 Dec  7 23:26 kaggle.json\n"
          ],
          "name": "stdout"
        }
      ]
    },
    {
      "cell_type": "code",
      "metadata": {
        "id": "v2V0XxeSVvxU",
        "colab_type": "code",
        "colab": {}
      },
      "source": [
        "# The Kaggle API client expects this file to be in ~/.kaggle,\n",
        "# so move it there.\n",
        "!mkdir -p ~/.kaggle\n",
        "!cp kaggle.json ~/.kaggle/\n",
        "\n",
        "# This permissions change avoids a warning on Kaggle tool startup.\n",
        "!chmod 600 ~/.kaggle/kaggle.json"
      ],
      "execution_count": 0,
      "outputs": []
    },
    {
      "cell_type": "code",
      "metadata": {
        "id": "0d9rne8NUZNp",
        "colab_type": "code",
        "colab": {}
      },
      "source": [
        "#Importing the data sets & embedding vectors\n",
        "!kaggle competitions download -c deeptweets\n",
        "\n",
        "!kaggle datasets download -d rtatman/glove-global-vectors-for-word-representation\n",
        "!wget https://dl.fbaipublicfiles.com/fasttext/vectors-english/wiki-news-300d-1M.vec.zip\n",
        "!wget https://dl.fbaipublicfiles.com/fasttext/vectors-english/crawl-300d-2M.vec.zip"
      ],
      "execution_count": 0,
      "outputs": []
    },
    {
      "cell_type": "code",
      "metadata": {
        "id": "6uqTjVWZcliQ",
        "colab_type": "code",
        "colab": {}
      },
      "source": [
        "!unzip glove-global-vectors-for-word-representation\n",
        "!unzip wiki-news-300d-1M.vec.zip\n",
        "!unzip crawl-300d-2M.vec.zip\n",
        "\n",
        "!rm glove-global-vectors-for-word-representation.zip\n",
        "!rm wiki-news-300d-1M.vec.zip\n",
        "!rm crawl-300d-2M.vec.zip"
      ],
      "execution_count": 0,
      "outputs": []
    },
    {
      "cell_type": "code",
      "metadata": {
        "id": "2s5_fb5zgc4G",
        "colab_type": "code",
        "outputId": "df46ecb6-62e3-46a1-8b82-12e22bdac80a",
        "colab": {
          "base_uri": "https://localhost:8080/",
          "height": 214
        }
      },
      "source": [
        "!head glove.6B.50d.txt"
      ],
      "execution_count": 0,
      "outputs": [
        {
          "output_type": "stream",
          "text": [
            "the 0.418 0.24968 -0.41242 0.1217 0.34527 -0.044457 -0.49688 -0.17862 -0.00066023 -0.6566 0.27843 -0.14767 -0.55677 0.14658 -0.0095095 0.011658 0.10204 -0.12792 -0.8443 -0.12181 -0.016801 -0.33279 -0.1552 -0.23131 -0.19181 -1.8823 -0.76746 0.099051 -0.42125 -0.19526 4.0071 -0.18594 -0.52287 -0.31681 0.00059213 0.0074449 0.17778 -0.15897 0.012041 -0.054223 -0.29871 -0.15749 -0.34758 -0.045637 -0.44251 0.18785 0.0027849 -0.18411 -0.11514 -0.78581\n",
            ", 0.013441 0.23682 -0.16899 0.40951 0.63812 0.47709 -0.42852 -0.55641 -0.364 -0.23938 0.13001 -0.063734 -0.39575 -0.48162 0.23291 0.090201 -0.13324 0.078639 -0.41634 -0.15428 0.10068 0.48891 0.31226 -0.1252 -0.037512 -1.5179 0.12612 -0.02442 -0.042961 -0.28351 3.5416 -0.11956 -0.014533 -0.1499 0.21864 -0.33412 -0.13872 0.31806 0.70358 0.44858 -0.080262 0.63003 0.32111 -0.46765 0.22786 0.36034 -0.37818 -0.56657 0.044691 0.30392\n",
            ". 0.15164 0.30177 -0.16763 0.17684 0.31719 0.33973 -0.43478 -0.31086 -0.44999 -0.29486 0.16608 0.11963 -0.41328 -0.42353 0.59868 0.28825 -0.11547 -0.041848 -0.67989 -0.25063 0.18472 0.086876 0.46582 0.015035 0.043474 -1.4671 -0.30384 -0.023441 0.30589 -0.21785 3.746 0.0042284 -0.18436 -0.46209 0.098329 -0.11907 0.23919 0.1161 0.41705 0.056763 -6.3681e-05 0.068987 0.087939 -0.10285 -0.13931 0.22314 -0.080803 -0.35652 0.016413 0.10216\n",
            "of 0.70853 0.57088 -0.4716 0.18048 0.54449 0.72603 0.18157 -0.52393 0.10381 -0.17566 0.078852 -0.36216 -0.11829 -0.83336 0.11917 -0.16605 0.061555 -0.012719 -0.56623 0.013616 0.22851 -0.14396 -0.067549 -0.38157 -0.23698 -1.7037 -0.86692 -0.26704 -0.2589 0.1767 3.8676 -0.1613 -0.13273 -0.68881 0.18444 0.0052464 -0.33874 -0.078956 0.24185 0.36576 -0.34727 0.28483 0.075693 -0.062178 -0.38988 0.22902 -0.21617 -0.22562 -0.093918 -0.80375\n",
            "to 0.68047 -0.039263 0.30186 -0.17792 0.42962 0.032246 -0.41376 0.13228 -0.29847 -0.085253 0.17118 0.22419 -0.10046 -0.43653 0.33418 0.67846 0.057204 -0.34448 -0.42785 -0.43275 0.55963 0.10032 0.18677 -0.26854 0.037334 -2.0932 0.22171 -0.39868 0.20912 -0.55725 3.8826 0.47466 -0.95658 -0.37788 0.20869 -0.32752 0.12751 0.088359 0.16351 -0.21634 -0.094375 0.018324 0.21048 -0.03088 -0.19722 0.082279 -0.09434 -0.073297 -0.064699 -0.26044\n",
            "and 0.26818 0.14346 -0.27877 0.016257 0.11384 0.69923 -0.51332 -0.47368 -0.33075 -0.13834 0.2702 0.30938 -0.45012 -0.4127 -0.09932 0.038085 0.029749 0.10076 -0.25058 -0.51818 0.34558 0.44922 0.48791 -0.080866 -0.10121 -1.3777 -0.10866 -0.23201 0.012839 -0.46508 3.8463 0.31362 0.13643 -0.52244 0.3302 0.33707 -0.35601 0.32431 0.12041 0.3512 -0.069043 0.36885 0.25168 -0.24517 0.25381 0.1367 -0.31178 -0.6321 -0.25028 -0.38097\n",
            "in 0.33042 0.24995 -0.60874 0.10923 0.036372 0.151 -0.55083 -0.074239 -0.092307 -0.32821 0.09598 -0.82269 -0.36717 -0.67009 0.42909 0.016496 -0.23573 0.12864 -1.0953 0.43334 0.57067 -0.1036 0.20422 0.078308 -0.42795 -1.7984 -0.27865 0.11954 -0.12689 0.031744 3.8631 -0.17786 -0.082434 -0.62698 0.26497 -0.057185 -0.073521 0.46103 0.30862 0.12498 -0.48609 -0.0080272 0.031184 -0.36576 -0.42699 0.42164 -0.11666 -0.50703 -0.027273 -0.53285\n",
            "a 0.21705 0.46515 -0.46757 0.10082 1.0135 0.74845 -0.53104 -0.26256 0.16812 0.13182 -0.24909 -0.44185 -0.21739 0.51004 0.13448 -0.43141 -0.03123 0.20674 -0.78138 -0.20148 -0.097401 0.16088 -0.61836 -0.18504 -0.12461 -2.2526 -0.22321 0.5043 0.32257 0.15313 3.9636 -0.71365 -0.67012 0.28388 0.21738 0.14433 0.25926 0.23434 0.4274 -0.44451 0.13813 0.36973 -0.64289 0.024142 -0.039315 -0.26037 0.12017 -0.043782 0.41013 0.1796\n",
            "\" 0.25769 0.45629 -0.76974 -0.37679 0.59272 -0.063527 0.20545 -0.57385 -0.29009 -0.13662 0.32728 1.4719 -0.73681 -0.12036 0.71354 -0.46098 0.65248 0.48887 -0.51558 0.039951 -0.34307 -0.014087 0.86488 0.3546 0.7999 -1.4995 -1.8153 0.41128 0.23921 -0.43139 3.6623 -0.79834 -0.54538 0.16943 -0.82017 -0.3461 0.69495 -1.2256 -0.17992 -0.057474 0.030498 -0.39543 -0.38515 -1.0002 0.087599 -0.31009 -0.34677 -0.31438 0.75004 0.97065\n",
            "'s 0.23727 0.40478 -0.20547 0.58805 0.65533 0.32867 -0.81964 -0.23236 0.27428 0.24265 0.054992 0.16296 -1.2555 -0.086437 0.44536 0.096561 -0.16519 0.058378 -0.38598 0.086977 0.0033869 0.55095 -0.77697 -0.62096 0.092948 -2.5685 -0.67739 0.10151 -0.48643 -0.057805 3.1859 -0.017554 -0.16138 0.055486 -0.25885 -0.33938 -0.19928 0.26049 0.10478 -0.55934 -0.12342 0.65961 -0.51802 -0.82995 -0.082739 0.28155 -0.423 -0.27378 -0.007901 -0.030231\n"
          ],
          "name": "stdout"
        }
      ]
    },
    {
      "cell_type": "markdown",
      "metadata": {
        "id": "HYyVLS-8WMcf",
        "colab_type": "text"
      },
      "source": [
        "***"
      ]
    },
    {
      "cell_type": "markdown",
      "metadata": {
        "id": "yjcFcQ6c6CX8",
        "colab_type": "text"
      },
      "source": [
        "### 2 - Data preprocessing\n",
        "<a id=\"c2\"></a>"
      ]
    },
    {
      "cell_type": "code",
      "metadata": {
        "id": "9WEAGIc0V-B5",
        "colab_type": "code",
        "outputId": "f8613121-0a56-4648-8bf4-6f1bd0dea47b",
        "colab": {
          "base_uri": "https://localhost:8080/",
          "height": 152
        }
      },
      "source": [
        "from IPython.display import display, Image\n",
        "\n",
        "import os\n",
        "import re, string\n",
        "import math, random\n",
        "import pandas as pd, numpy as np, seaborn as sns\n",
        "import matplotlib.pyplot as plt\n",
        "\n",
        "from wordcloud import WordCloud\n",
        "from collections import Counter\n",
        "from tqdm import tqdm, tqdm_notebook as progress_bar\n",
        "\n",
        "import nltk\n",
        "from nltk.tokenize import TweetTokenizer\n",
        "from nltk.corpus import stopwords, wordnet\n",
        "nltk.download('wordnet')\n",
        "nltk.download('stopwords')\n",
        "\n",
        "\n",
        "import keras.backend as K\n",
        "from keras.models import Model, load_model\n",
        "from keras.layers import Input, Embedding, Bidirectional, CuDNNLSTM ,LSTM, Dense,  Dropout, concatenate\n",
        "\n",
        "from keras.layers.convolutional import Conv1D, MaxPooling1D\n",
        "from keras.optimizers import adam\n",
        "\n",
        "\n",
        "from keras.callbacks import EarlyStopping, ModelCheckpoint\n",
        "from keras.wrappers.scikit_learn import KerasClassifier\n",
        "\n",
        "\n",
        "from sklearn.preprocessing import LabelEncoder\n",
        "from sklearn.metrics import f1_score\n",
        "from sklearn.model_selection import train_test_split, RandomizedSearchCV"
      ],
      "execution_count": 4,
      "outputs": [
        {
          "output_type": "stream",
          "text": [
            "[nltk_data] Downloading package wordnet to /root/nltk_data...\n",
            "[nltk_data]   Unzipping corpora/wordnet.zip.\n",
            "[nltk_data] Downloading package stopwords to /root/nltk_data...\n",
            "[nltk_data]   Unzipping corpora/stopwords.zip.\n"
          ],
          "name": "stdout"
        },
        {
          "output_type": "stream",
          "text": [
            "Using TensorFlow backend.\n"
          ],
          "name": "stderr"
        },
        {
          "output_type": "display_data",
          "data": {
            "text/html": [
              "<p style=\"color: red;\">\n",
              "The default version of TensorFlow in Colab will soon switch to TensorFlow 2.x.<br>\n",
              "We recommend you <a href=\"https://www.tensorflow.org/guide/migrate\" target=\"_blank\">upgrade</a> now \n",
              "or ensure your notebook will continue to use TensorFlow 1.x via the <code>%tensorflow_version 1.x</code> magic:\n",
              "<a href=\"https://colab.research.google.com/notebooks/tensorflow_version.ipynb\" target=\"_blank\">more info</a>.</p>\n"
            ],
            "text/plain": [
              "<IPython.core.display.HTML object>"
            ]
          },
          "metadata": {
            "tags": []
          }
        }
      ]
    },
    {
      "cell_type": "markdown",
      "metadata": {
        "id": "NSf5HBjesaNk",
        "colab_type": "text"
      },
      "source": [
        "#### Loading the dataset\n",
        "<a id=\"c21\"></a>"
      ]
    },
    {
      "cell_type": "code",
      "metadata": {
        "id": "OF6sC7i3WXtu",
        "colab_type": "code",
        "outputId": "ded5cd8c-8ab9-45bf-ccd8-c619b31d2efb",
        "colab": {
          "base_uri": "https://localhost:8080/",
          "height": 511
        }
      },
      "source": [
        "#Loading tweet dataset\n",
        "train = pd.read_csv(\"train.csv\")\n",
        "test = pd.read_csv(\"test.csv\")\n",
        "display(train.head())\n",
        "print('#Rows: ', len(train))\n",
        "plt = sns.countplot(train.Label)\n",
        "plt.set_title('Label distribution on the train set')"
      ],
      "execution_count": 5,
      "outputs": [
        {
          "output_type": "display_data",
          "data": {
            "text/html": [
              "<div>\n",
              "<style scoped>\n",
              "    .dataframe tbody tr th:only-of-type {\n",
              "        vertical-align: middle;\n",
              "    }\n",
              "\n",
              "    .dataframe tbody tr th {\n",
              "        vertical-align: top;\n",
              "    }\n",
              "\n",
              "    .dataframe thead th {\n",
              "        text-align: right;\n",
              "    }\n",
              "</style>\n",
              "<table border=\"1\" class=\"dataframe\">\n",
              "  <thead>\n",
              "    <tr style=\"text-align: right;\">\n",
              "      <th></th>\n",
              "      <th>TweetId</th>\n",
              "      <th>Label</th>\n",
              "      <th>TweetText</th>\n",
              "    </tr>\n",
              "  </thead>\n",
              "  <tbody>\n",
              "    <tr>\n",
              "      <th>0</th>\n",
              "      <td>304271250237304833</td>\n",
              "      <td>Politics</td>\n",
              "      <td>'#SecKerry: The value of the @StateDept and @U...</td>\n",
              "    </tr>\n",
              "    <tr>\n",
              "      <th>1</th>\n",
              "      <td>304834304222064640</td>\n",
              "      <td>Politics</td>\n",
              "      <td>'@rraina1481 I fear so'</td>\n",
              "    </tr>\n",
              "    <tr>\n",
              "      <th>2</th>\n",
              "      <td>303568995880144898</td>\n",
              "      <td>Sports</td>\n",
              "      <td>'Watch video highlights of the #wwc13 final be...</td>\n",
              "    </tr>\n",
              "    <tr>\n",
              "      <th>3</th>\n",
              "      <td>304366580664528896</td>\n",
              "      <td>Sports</td>\n",
              "      <td>'RT @chelscanlan: At Nitro Circus at #AlbertPa...</td>\n",
              "    </tr>\n",
              "    <tr>\n",
              "      <th>4</th>\n",
              "      <td>296770931098009601</td>\n",
              "      <td>Sports</td>\n",
              "      <td>'@cricketfox Always a good thing. Thanks for t...</td>\n",
              "    </tr>\n",
              "  </tbody>\n",
              "</table>\n",
              "</div>"
            ],
            "text/plain": [
              "              TweetId  ...                                          TweetText\n",
              "0  304271250237304833  ...  '#SecKerry: The value of the @StateDept and @U...\n",
              "1  304834304222064640  ...                            '@rraina1481 I fear so'\n",
              "2  303568995880144898  ...  'Watch video highlights of the #wwc13 final be...\n",
              "3  304366580664528896  ...  'RT @chelscanlan: At Nitro Circus at #AlbertPa...\n",
              "4  296770931098009601  ...  '@cricketfox Always a good thing. Thanks for t...\n",
              "\n",
              "[5 rows x 3 columns]"
            ]
          },
          "metadata": {
            "tags": []
          }
        },
        {
          "output_type": "stream",
          "text": [
            "#Rows:  6525\n"
          ],
          "name": "stdout"
        },
        {
          "output_type": "execute_result",
          "data": {
            "text/plain": [
              "Text(0.5, 1.0, 'Label distribution on the train set')"
            ]
          },
          "metadata": {
            "tags": []
          },
          "execution_count": 5
        },
        {
          "output_type": "display_data",
          "data": {
            "image/png": "[encoded data removed]",
            "text/plain": [
              "<Figure size 432x288 with 1 Axes>"
            ]
          },
          "metadata": {
            "tags": []
          }
        }
      ]
    },
    {
      "cell_type": "markdown",
      "metadata": {
        "id": "bBSyqZ3jW4OF",
        "colab_type": "text"
      },
      "source": [
        "The training data seems balenced number of labeled Politics data equals the number of labeled Sports data, also the data is in \"english\""
      ]
    },
    {
      "cell_type": "markdown",
      "metadata": {
        "id": "3K-ZSY4gslb6",
        "colab_type": "text"
      },
      "source": [
        "#### Preparing the embedding vectors\n",
        "<a id=\"c22\"></a>"
      ]
    },
    {
      "cell_type": "code",
      "metadata": {
        "id": "jZniZxigWztH",
        "colab_type": "code",
        "colab": {}
      },
      "source": [
        "# Load the glove|fasttext pretrained vect\n",
        "\n",
        "def load_embedding(i=50, emb_vect = 'glove'):\n",
        "  if emb_vect == 'glove':\n",
        "    file_name = 'glove.6B.'+ str(i) +'d.txt'  \n",
        "  elif emb_vect == 'wiki-ft':\n",
        "    file_name = \"wiki-news-300d-1M.vec\"\n",
        "  elif emb_vect == 'crawl-ft':\n",
        "    file_name = 'crawl-300d-1M.vec'\n",
        "  else:\n",
        "    raise Exception('Wrong filename')\n",
        "\n",
        "  with open(file_name) as f:\n",
        "    vocab = set()\n",
        "    w2v = dict()\n",
        "    ignore = stopwords.words('english') + list(string.punctuation)    \n",
        "    for line in tqdm(f):\n",
        "      line_ = line.strip()\n",
        "      wv = line.split()\n",
        "      if wv[0] in ignore or not re.fullmatch('[a-zA-Z]+', wv[0]) or len(wv[0]) < 3:\n",
        "        continue\n",
        "      w = wv[0].lower()\n",
        "      vocab.add(w)\n",
        "      w2v[w] = np.array(wv[1:], dtype=float)\n",
        "\n",
        "    w2v['PAD'] = np.zeros_like(w2v['king'])\n",
        "    w2v['UNK'] = np.zeros_like(w2v['king'])\n",
        "    w2v['UNK'][0] = 1\n",
        "    w2v['EOS'] = np.zeros_like(w2v['king'])\n",
        "    w2v['EOS'][1] = 1\n",
        "\n",
        "    vocab.add(\"PAD\")\n",
        "    vocab.add(\"UNK\")\n",
        "    vocab.add(\"EOS\")\n",
        "    i2w = dict((i,w) for i, w in enumerate(w2v))\n",
        "    w2i = dict((w,i) for i, w in enumerate(w2v))\n",
        "    f.close()\n",
        "\n",
        "\n",
        "  print('Vocab len = ', len(vocab))\n",
        "  return vocab, w2v, i2w, w2i"
      ],
      "execution_count": 0,
      "outputs": []
    },
    {
      "cell_type": "code",
      "metadata": {
        "id": "Hd9yiAcYleaj",
        "colab_type": "code",
        "colab": {}
      },
      "source": [
        "def getToken(tweet):\n",
        "  twt = TweetTokenizer(strip_handles=True, reduce_len=True)\n",
        "  ignore = stopwords.words('english') \n",
        "  tweet = re.sub(r\"[0-9]+-[0-9]+\", 'score', tweet)\n",
        "  tweet = re.sub(r\"\\n|\\t|@|#|-\", ' ', tweet)\n",
        "  tweet = re.sub(\"'ve|'s|'re|'ll|'m|'d|^RT|^rt\",\"\",tweet)\n",
        "  tokens = [token\n",
        "            for token in twt.tokenize(tweet.lower())\n",
        "            if token not in ignore \n",
        "            and not re.match('http.*|www\\..*|$\\.com|goo\\.gl.*',token)\n",
        "            and not re.match('t.co.*', token)\n",
        "            and re.match('[a-zA-Z]+', token)\n",
        "            ]\n",
        "\n",
        "  return tokens"
      ],
      "execution_count": 0,
      "outputs": []
    },
    {
      "cell_type": "code",
      "metadata": {
        "id": "unxoAi5h8BLS",
        "colab_type": "code",
        "outputId": "ce799dfb-dcf4-4591-c31b-7a172baf4420",
        "colab": {
          "base_uri": "https://localhost:8080/",
          "height": 34
        }
      },
      "source": [
        "tweet = 'Thank you Findout more about #RallyAgainstCancer 1-1 interview with @roscohutchins in latest2009 @andy_murray https://t.co/LvGKngSTql #AegonChampionships'\t\n",
        "print(getToken(tweet))"
      ],
      "execution_count": 8,
      "outputs": [
        {
          "output_type": "stream",
          "text": [
            "['thank', 'findout', 'rallyagainstcancer', 'score', 'interview', 'roscohutchins', 'latest', 'andy_murray', 'aegonchampionships']\n"
          ],
          "name": "stdout"
        }
      ]
    },
    {
      "cell_type": "code",
      "metadata": {
        "id": "xUxiq43A1oIL",
        "colab_type": "code",
        "colab": {}
      },
      "source": [
        "#Adding '#.*' keyword to the embedding vectors similar to their label value\n",
        "def add_tags(train, w2v):\n",
        "  vocab = w2v.keys()\n",
        "  tt = TweetTokenizer(strip_handles=True, reduce_len=True)\n",
        "  h_sports = []\n",
        "  h_politics = []\n",
        "  for i, r in tqdm(train.iterrows()):\n",
        "    tweet = r.TweetText\n",
        "    h_tokens = re.findall(\"#\\w+\", tweet)\n",
        "    for token in h_tokens:\n",
        "      token = re.sub(r'#','', token)\n",
        "      token = token.lower()\n",
        "      if token not in vocab:\n",
        "        if r.Label == 'Sports':\n",
        "          h_sports.append(token)\n",
        "        else:\n",
        "          h_politics.append(token)\n",
        "\n",
        "  tag_sports = Counter(h_sports).most_common(20)\n",
        "  tag_politics = Counter(h_politics).most_common(20)\n",
        "  print()\n",
        "  print('Sports # freq ',tag_sports)\n",
        "  print('Politics # freq ',tag_politics)\n",
        "\n",
        "  for tag, _ in tag_sports:\n",
        "      w2v[tag] = w2v['sport']\n",
        "  for tag, _ in tag_politics:\n",
        "      w2v[tag] = w2v['politic']\n",
        "\n",
        "  return w2v"
      ],
      "execution_count": 0,
      "outputs": []
    },
    {
      "cell_type": "code",
      "metadata": {
        "id": "GN0p2GjEx3Eq",
        "colab_type": "code",
        "colab": {}
      },
      "source": [
        "#Adding the most famous accounts\n",
        "\n",
        "def add_top_accs(train, w2v):\n",
        "  sports_accounts = []\n",
        "  politics_accounts = []\n",
        "  for i, r in tqdm(train.iterrows()):\n",
        "    tweet = r.TweetText\n",
        "    accs = re.findall(\"@\\w+\", tweet)  \n",
        "    if r.Label == \"Sports\":\n",
        "      sports_accounts.extend(accs)\n",
        "    else:\n",
        "      politics_accounts.extend(accs)\n",
        "          \n",
        "  # We'll add the top 20 accs\n",
        "  sports_acc_counts = Counter(sports_accounts)\n",
        "  politics_acc_counts = Counter(politics_accounts)\n",
        "  sports_acc_freq = sports_acc_counts.most_common(20)\n",
        "  politics_acc_freq = politics_acc_counts.most_common(20)\n",
        "\n",
        "  print()\n",
        "  print('Sports top accounts # freq ',sports_acc_freq)\n",
        "  print('Politics top accounts ',politics_acc_freq)\n",
        "\n",
        "  for a, _ in politics_acc_freq:\n",
        "    a = re.sub('@', '', a).lower()\n",
        "    w2v[a] = w2v['politic']\n",
        "  for a, _ in sports_acc_freq:\n",
        "    a = re.sub('@', '', a).lower()\n",
        "    w2v[a] = w2v['sport']\n",
        "  return w2v"
      ],
      "execution_count": 0,
      "outputs": []
    },
    {
      "cell_type": "code",
      "metadata": {
        "id": "12IPefbi6BTe",
        "colab_type": "code",
        "colab": {}
      },
      "source": [
        "#Adding most frequent/used keywords \n",
        "def add_top_keywords(train, w2v):\n",
        "  vocab = w2v.keys()\n",
        "  sports = []\n",
        "  politics = []\n",
        "  for i, r in tqdm(train.iterrows()):\n",
        "    tweet = r.TweetText\n",
        "    label = r.Label\n",
        "    if label == 'Sports':\n",
        "      sports.extend(getToken(tweet))\n",
        "    else:\n",
        "      politics.extend(getToken(tweet))\n",
        "  \n",
        "\n",
        "  sports_w_freq = Counter(sports).most_common(40)\n",
        "  politics_w_freq = Counter(politics).most_common(40)\n",
        "\n",
        "  print(sports_w_freq)\n",
        "  print(politics_w_freq)\n",
        "\n",
        "  W_ADDED = 0\n",
        "  for w, _ in politics_w_freq:  \n",
        "    if w not in vocab:\n",
        "      w2v[w] = w2v['politic']\n",
        "      W_ADDED += 1\n",
        "  for w, _ in sports_w_freq:\n",
        "    if w not in vocab:\n",
        "      w2v[w] = w2v['sport']\n",
        "      W_ADDED += 1\n",
        "  print('#W_ADDED:', W_ADDED)\n",
        "  return w2v"
      ],
      "execution_count": 0,
      "outputs": []
    },
    {
      "cell_type": "code",
      "metadata": {
        "id": "gUL_kepwGbhq",
        "colab_type": "code",
        "colab": {}
      },
      "source": [
        "#Updates after w2v modifications\n",
        "def get_emb(train, i=50, emb_vect = 'glove'):\n",
        "  _, w2v, _, _ = load_embedding(i, emb_vect)\n",
        "  w2v = add_tags(train, w2v)\n",
        "  w2v = add_top_accs(train, w2v)\n",
        "  w2v = add_top_keywords(train, w2v)\n",
        "  vocab = w2v.keys()\n",
        "  i2w = dict((i,w) for i, w in enumerate(w2v))\n",
        "  w2i = dict((w,i) for i, w in enumerate(w2v))\n",
        "  return vocab, w2v, i2w, w2i"
      ],
      "execution_count": 0,
      "outputs": []
    },
    {
      "cell_type": "code",
      "metadata": {
        "id": "4EmqYfk2oS3-",
        "colab_type": "code",
        "outputId": "a8c668d3-9240-4450-b7d0-0007e847dd5d",
        "colab": {
          "base_uri": "https://localhost:8080/",
          "height": 285
        }
      },
      "source": [
        "vocab, w2v, i2w, w2i = get_emb(train)"
      ],
      "execution_count": 13,
      "outputs": [
        {
          "output_type": "stream",
          "text": [
            "400000it [00:06, 61095.48it/s]\n",
            "952it [00:00, 9517.67it/s]"
          ],
          "name": "stderr"
        },
        {
          "output_type": "stream",
          "text": [
            "Vocab len =  316950\n"
          ],
          "name": "stdout"
        },
        {
          "output_type": "stream",
          "text": [
            "6525it [00:00, 9042.26it/s]\n",
            "813it [00:00, 8123.00it/s]"
          ],
          "name": "stderr"
        },
        {
          "output_type": "stream",
          "text": [
            "\n",
            "Sports # freq  [('indvaus', 347), ('bbl02', 192), ('bigfinals', 163), ('gbfedcup', 93), ('ausopen', 80), ('ausgp', 61), ('f1', 60), ('nzveng', 57), ('bbcfootball', 39), ('ryobiodc', 34), ('wwc13', 32), ('cantwaitforausgp', 29), ('ausavengl', 25), ('capitalonecup', 22), ('ct13', 21), ('savpak', 20), ('ausveng', 19), ('3peat', 19), ('fl125', 19), ('testcricket', 17)]\n",
            "Politics # freq  [('nelsonmandela', 146), ('seckerry', 56), ('ep', 48), ('bcim2013', 43), ('sotu', 35), ('jobsnow', 32), ('eu', 28), ('haroldholzer', 25), ('keepwhatureap', 25), ('euco', 22), ('wedemandavote', 22), ('cantafford4more', 21), ('eubudget', 18), ('disabilityrights', 17), ('euspeech', 15), ('ff', 14), ('pmindia', 12), ('jobsnotcuts', 11), ('nowisthetime', 11), ('bigsociety', 10)]\n"
          ],
          "name": "stdout"
        },
        {
          "output_type": "stream",
          "text": [
            "6525it [00:00, 8588.22it/s]\n",
            "211it [00:00, 2102.05it/s]"
          ],
          "name": "stderr"
        },
        {
          "output_type": "stream",
          "text": [
            "\n",
            "Sports top accounts # freq  [('@BCCI', 201), ('@AustralianOpen', 55), ('@DjokerNole', 40), ('@ausgrandprix', 38), ('@HeatBBL', 28), ('@ScorchersBBL', 27), ('@RafaelNadal', 25), ('@bbc5live', 24), ('@andy_murray', 23), ('@BBCSport', 21), ('@CapitalOne_Cup', 21), ('@StarsBBL', 16), ('@cricketicc', 16), ('@JP_Trophy', 15), ('@AaronFinch5', 15), ('@cricketwallah', 13), ('@NextGenSeries', 13), ('@ESPNStatsInfo', 13), ('@espn', 13), ('@HeatherWatson92', 13)]\n",
            "Politics top accounts  [('@BarackObama', 72), ('@PMOIndia', 58), ('@CONX', 29), ('@ForeignAffairs', 20), ('@whitehouse', 16), ('@State_DRL', 16), ('@UVA', 15), ('@MedvedevRussiaE', 15), ('@PaulRyanVP', 14), ('@milinddeora', 13), ('@fhollande', 11), ('@BDUTT', 11), ('@StateDept', 10), ('@PresidencyZA', 10), ('@Europarltv', 10), ('@FA_books', 10), ('@ShashiTharoor', 10), ('@FeedtheFuture', 10), ('@karincaifaCNN', 9), ('@brownbrumby', 8)]\n"
          ],
          "name": "stdout"
        },
        {
          "output_type": "stream",
          "text": [
            "6525it [00:03, 2002.85it/s]\n"
          ],
          "name": "stderr"
        },
        {
          "output_type": "stream",
          "text": [
            "[('score', 576), ('rt', 410), ('indvaus', 347), ('test', 317), ('bcci', 202), ('runs', 196), ('bbl', 196), ('atp', 183), ('bigfinals', 165), ('cfc', 162), ('tennis', 146), ('final', 142), ('win', 142), ('first', 139), ('aus', 135), ('india', 134), ('day', 121), ('game', 120), ('team', 117), ('thanks', 107), ('great', 106), ('time', 106), ('australia', 105), ('one', 105), ('england', 103), ('cricket', 101), ('gbfedcup', 93), ('match', 92), ('back', 90), ('see', 89), ('new', 87), ('good', 85), ('v', 84), ('get', 83), ('today', 83), ('wicket', 82), ('live', 82), ('ausopen', 80), ('watch', 79), ('play', 79)]\n",
            "[('president', 345), ('rt', 315), ('obama', 276), ('pm', 267), ('u2019s', 164), ('conference', 159), ('video', 157), ('new', 153), ('nelsonmandela', 148), ('medvedev', 144), ('minister', 142), ('press', 140), ('secretary', 136), ('live', 135), ('chief', 130), ('cabinet', 130), ('meeting', 122), ('us', 117), ('prime', 115), ('nhttp', 113), ('today', 111), ('english', 110), ('people', 110), ('india', 99), ('bcim', 95), ('first', 89), ('day', 89), ('putin', 84), ('eu', 83), ('time', 81), ('dmitry', 80), ('america', 79), ('february', 78), ('state', 77), ('economic', 77), ('photo', 74), ('suga', 73), ('barackobama', 72), ('vladimir', 71), ('january', 70)]\n",
            "#W_ADDED: 7\n"
          ],
          "name": "stdout"
        }
      ]
    },
    {
      "cell_type": "markdown",
      "metadata": {
        "id": "DSBl2npGpTWW",
        "colab_type": "text"
      },
      "source": [
        "#### Handling missing keywords\n",
        "<a id=\"c23\"></a>\n"
      ]
    },
    {
      "cell_type": "code",
      "metadata": {
        "id": "532T8mvhm1te",
        "colab_type": "code",
        "outputId": "133f83c7-233a-41a4-906a-715d82f77c33",
        "colab": {
          "base_uri": "https://localhost:8080/",
          "height": 474
        }
      },
      "source": [
        "#Check ratio of missing tokens\n",
        "import matplotlib.pyplot as plt\n",
        "missing_tokens = set()\n",
        "t_tokens = set()\n",
        "\n",
        "for tweet in tqdm(train.TweetText):\n",
        "  tokens = getToken(tweet)\n",
        "  for token in tokens:\n",
        "    t_tokens.add(token)\n",
        "    if token not in vocab:\n",
        "      missing_tokens.add(token)\n",
        "print()\n",
        "print(\"Missing ratio: \", len(missing_tokens) / len(t_tokens))\n",
        "\n",
        "wordcloud = WordCloud(width=1600, height=800,max_font_size=200,colormap='magma', background_color='white').generate(\" \".join(missing_tokens)) \n",
        "plt.figure(figsize=(12,10)) \n",
        "plt.imshow(wordcloud, interpolation=\"bilinear\") \n",
        "plt.axis(\"off\") \n",
        "plt.show()\n",
        "print('Missing keyword frequency: ')\n",
        "print(Counter(missing_tokens).most_common(10))"
      ],
      "execution_count": 14,
      "outputs": [
        {
          "output_type": "stream",
          "text": [
            "100%|██████████| 6525/6525 [00:01<00:00, 3355.20it/s]\n"
          ],
          "name": "stderr"
        },
        {
          "output_type": "stream",
          "text": [
            "\n",
            "Missing ratio:  0.21948514851485149\n"
          ],
          "name": "stdout"
        },
        {
          "output_type": "display_data",
          "data": {
            "image/png": "[encoded data removed]",
            "text/plain": [
              "<Figure size 864x720 with 1 Axes>"
            ]
          },
          "metadata": {
            "tags": []
          }
        },
        {
          "output_type": "stream",
          "text": [
            "Missing keyword frequency: \n",
            "[('adamoneillio', 1), ('justacword', 1), ('xefd', 1), ('ji', 1), ('optajim', 1), ('gtctennis', 1), ('exem', 1), ('infosysedge', 1), ('thijsronhaar', 1), (\"can't\", 1)]\n"
          ],
          "name": "stdout"
        }
      ]
    },
    {
      "cell_type": "code",
      "metadata": {
        "id": "YnzRNn8s2Ud1",
        "colab_type": "code",
        "outputId": "0fe866f6-69f6-4a0d-adfd-79a8f7c5d46c",
        "colab": {
          "base_uri": "https://localhost:8080/",
          "height": 1000
        }
      },
      "source": [
        "# Removing rows with no information\n",
        "ind2drop = []\n",
        "for i, r in train.iterrows():\n",
        "  tokens = getToken(r.TweetText)\n",
        "  if len(tokens) == 0 or all(token not in vocab for token in tokens):\n",
        "    ind2drop.append(i)    \n",
        "\n",
        "display(train.iloc[ind2drop])      \n",
        "train = train.drop(index=ind2drop)\n",
        "print(\"#Rows removed: \", len(ind2drop))\n",
        "\n",
        "print(ind2drop)"
      ],
      "execution_count": 15,
      "outputs": [
        {
          "output_type": "display_data",
          "data": {
            "text/html": [
              "<div>\n",
              "<style scoped>\n",
              "    .dataframe tbody tr th:only-of-type {\n",
              "        vertical-align: middle;\n",
              "    }\n",
              "\n",
              "    .dataframe tbody tr th {\n",
              "        vertical-align: top;\n",
              "    }\n",
              "\n",
              "    .dataframe thead th {\n",
              "        text-align: right;\n",
              "    }\n",
              "</style>\n",
              "<table border=\"1\" class=\"dataframe\">\n",
              "  <thead>\n",
              "    <tr style=\"text-align: right;\">\n",
              "      <th></th>\n",
              "      <th>TweetId</th>\n",
              "      <th>Label</th>\n",
              "      <th>TweetText</th>\n",
              "    </tr>\n",
              "  </thead>\n",
              "  <tbody>\n",
              "    <tr>\n",
              "      <th>124</th>\n",
              "      <td>306345853000499200</td>\n",
              "      <td>Politics</td>\n",
              "      <td>'@MandeepBajwa :-) @nitingokhale @mdiirfankhan'</td>\n",
              "    </tr>\n",
              "    <tr>\n",
              "      <th>146</th>\n",
              "      <td>303631987988639744</td>\n",
              "      <td>Sports</td>\n",
              "      <td>'@89vivienne :-('</td>\n",
              "    </tr>\n",
              "    <tr>\n",
              "      <th>391</th>\n",
              "      <td>306300230322765824</td>\n",
              "      <td>Sports</td>\n",
              "      <td>'@mikedc73 :-)'</td>\n",
              "    </tr>\n",
              "    <tr>\n",
              "      <th>666</th>\n",
              "      <td>306086688223010816</td>\n",
              "      <td>Politics</td>\n",
              "      <td>'@Greyllusionist :-)'</td>\n",
              "    </tr>\n",
              "    <tr>\n",
              "      <th>715</th>\n",
              "      <td>306716488956514304</td>\n",
              "      <td>Sports</td>\n",
              "      <td>'@fringbird ha!'</td>\n",
              "    </tr>\n",
              "    <tr>\n",
              "      <th>928</th>\n",
              "      <td>300450714331787264</td>\n",
              "      <td>Sports</td>\n",
              "      <td>'@IamCRK Hi there!'</td>\n",
              "    </tr>\n",
              "    <tr>\n",
              "      <th>1179</th>\n",
              "      <td>34145979036860416</td>\n",
              "      <td>Sports</td>\n",
              "      <td>'@BarryHGreen @channelnine *facepalm*'</td>\n",
              "    </tr>\n",
              "    <tr>\n",
              "      <th>1202</th>\n",
              "      <td>305994196353953792</td>\n",
              "      <td>Politics</td>\n",
              "      <td>'@SwatiTrivedi :)'</td>\n",
              "    </tr>\n",
              "    <tr>\n",
              "      <th>1304</th>\n",
              "      <td>306777460379365376</td>\n",
              "      <td>Sports</td>\n",
              "      <td>'@procdoc3 #eachtotheirown ;-)'</td>\n",
              "    </tr>\n",
              "    <tr>\n",
              "      <th>1447</th>\n",
              "      <td>305386161210286080</td>\n",
              "      <td>Politics</td>\n",
              "      <td>'@abbasnasir59 that too :)'</td>\n",
              "    </tr>\n",
              "    <tr>\n",
              "      <th>1689</th>\n",
              "      <td>299223834878431234</td>\n",
              "      <td>Sports</td>\n",
              "      <td>'@sanjooraja Tku!'</td>\n",
              "    </tr>\n",
              "    <tr>\n",
              "      <th>1810</th>\n",
              "      <td>303624493916618752</td>\n",
              "      <td>Sports</td>\n",
              "      <td>'@safreer :-)'</td>\n",
              "    </tr>\n",
              "    <tr>\n",
              "      <th>1824</th>\n",
              "      <td>306297064374018048</td>\n",
              "      <td>Politics</td>\n",
              "      <td>'@PeculiarBlend :)'</td>\n",
              "    </tr>\n",
              "    <tr>\n",
              "      <th>2339</th>\n",
              "      <td>305386260338458625</td>\n",
              "      <td>Politics</td>\n",
              "      <td>'@anumoorthy :)'</td>\n",
              "    </tr>\n",
              "    <tr>\n",
              "      <th>3318</th>\n",
              "      <td>305214332755664896</td>\n",
              "      <td>Sports</td>\n",
              "      <td>'@adityaphatak So are we!'</td>\n",
              "    </tr>\n",
              "    <tr>\n",
              "      <th>3334</th>\n",
              "      <td>306052791946862592</td>\n",
              "      <td>Politics</td>\n",
              "      <td>'@madmanweb :)'</td>\n",
              "    </tr>\n",
              "    <tr>\n",
              "      <th>3529</th>\n",
              "      <td>305364237801361408</td>\n",
              "      <td>Politics</td>\n",
              "      <td>'@SandipGhose :))'</td>\n",
              "    </tr>\n",
              "    <tr>\n",
              "      <th>3751</th>\n",
              "      <td>305950641409388545</td>\n",
              "      <td>Politics</td>\n",
              "      <td>'@MissShwe :-)'</td>\n",
              "    </tr>\n",
              "    <tr>\n",
              "      <th>3805</th>\n",
              "      <td>305378105353195520</td>\n",
              "      <td>Politics</td>\n",
              "      <td>'@sumapramod :-)'</td>\n",
              "    </tr>\n",
              "    <tr>\n",
              "      <th>3859</th>\n",
              "      <td>302145306882109441</td>\n",
              "      <td>Sports</td>\n",
              "      <td>'@sukaina_ali I do!'</td>\n",
              "    </tr>\n",
              "    <tr>\n",
              "      <th>4264</th>\n",
              "      <td>304490610956574720</td>\n",
              "      <td>Politics</td>\n",
              "      <td>'@RichaPanigrahi :)'</td>\n",
              "    </tr>\n",
              "    <tr>\n",
              "      <th>4292</th>\n",
              "      <td>303631958536237058</td>\n",
              "      <td>Sports</td>\n",
              "      <td>'@rachaelfurn :-('</td>\n",
              "    </tr>\n",
              "    <tr>\n",
              "      <th>4596</th>\n",
              "      <td>34127575890526209</td>\n",
              "      <td>Sports</td>\n",
              "      <td>@supercujo er, that's because it is the 33rd o...</td>\n",
              "    </tr>\n",
              "    <tr>\n",
              "      <th>4598</th>\n",
              "      <td>306300309033066496</td>\n",
              "      <td>Sports</td>\n",
              "      <td>'@ferrarikid1 :-)'</td>\n",
              "    </tr>\n",
              "    <tr>\n",
              "      <th>4613</th>\n",
              "      <td>24469966369</td>\n",
              "      <td>Sports</td>\n",
              "      <td>'#Followus'</td>\n",
              "    </tr>\n",
              "    <tr>\n",
              "      <th>4654</th>\n",
              "      <td>24763229438</td>\n",
              "      <td>Sports</td>\n",
              "      <td>'#FollowFriday @joshualoveridge @Mtthwcwn @non...</td>\n",
              "    </tr>\n",
              "    <tr>\n",
              "      <th>4786</th>\n",
              "      <td>304094882518159360</td>\n",
              "      <td>Sports</td>\n",
              "      <td>'@coachcyrus Will do'</td>\n",
              "    </tr>\n",
              "    <tr>\n",
              "      <th>4816</th>\n",
              "      <td>296822421766422529</td>\n",
              "      <td>Sports</td>\n",
              "      <td>'@liz_lau ;-) #fanlove'</td>\n",
              "    </tr>\n",
              "    <tr>\n",
              "      <th>5178</th>\n",
              "      <td>306343364385730560</td>\n",
              "      <td>Politics</td>\n",
              "      <td>'@MainuKeee :-)'</td>\n",
              "    </tr>\n",
              "    <tr>\n",
              "      <th>5419</th>\n",
              "      <td>306333122180546560</td>\n",
              "      <td>Politics</td>\n",
              "      <td>'@mdiirfankhan @nitingokhale ha ha :-)'</td>\n",
              "    </tr>\n",
              "    <tr>\n",
              "      <th>5496</th>\n",
              "      <td>305257486238232577</td>\n",
              "      <td>Politics</td>\n",
              "      <td>'@abhijity30 I did !'</td>\n",
              "    </tr>\n",
              "    <tr>\n",
              "      <th>5570</th>\n",
              "      <td>305950331689369600</td>\n",
              "      <td>Politics</td>\n",
              "      <td>'@ravneetk90 :-)'</td>\n",
              "    </tr>\n",
              "    <tr>\n",
              "      <th>6018</th>\n",
              "      <td>129323447624024064</td>\n",
              "      <td>Sports</td>\n",
              "      <td>'@charlielane24 no'</td>\n",
              "    </tr>\n",
              "    <tr>\n",
              "      <th>6227</th>\n",
              "      <td>306186355086589954</td>\n",
              "      <td>Sports</td>\n",
              "      <td>'@asanders83 #Embracetherace :-)'</td>\n",
              "    </tr>\n",
              "    <tr>\n",
              "      <th>6493</th>\n",
              "      <td>305951139315216384</td>\n",
              "      <td>Politics</td>\n",
              "      <td>'@iamnarendranath ha ha :-)'</td>\n",
              "    </tr>\n",
              "  </tbody>\n",
              "</table>\n",
              "</div>"
            ],
            "text/plain": [
              "                 TweetId  ...                                          TweetText\n",
              "124   306345853000499200  ...    '@MandeepBajwa :-) @nitingokhale @mdiirfankhan'\n",
              "146   303631987988639744  ...                                  '@89vivienne :-('\n",
              "391   306300230322765824  ...                                    '@mikedc73 :-)'\n",
              "666   306086688223010816  ...                              '@Greyllusionist :-)'\n",
              "715   306716488956514304  ...                                   '@fringbird ha!'\n",
              "928   300450714331787264  ...                                '@IamCRK Hi there!'\n",
              "1179   34145979036860416  ...             '@BarryHGreen @channelnine *facepalm*'\n",
              "1202  305994196353953792  ...                                 '@SwatiTrivedi :)'\n",
              "1304  306777460379365376  ...                    '@procdoc3 #eachtotheirown ;-)'\n",
              "1447  305386161210286080  ...                        '@abbasnasir59 that too :)'\n",
              "1689  299223834878431234  ...                                 '@sanjooraja Tku!'\n",
              "1810  303624493916618752  ...                                     '@safreer :-)'\n",
              "1824  306297064374018048  ...                                '@PeculiarBlend :)'\n",
              "2339  305386260338458625  ...                                   '@anumoorthy :)'\n",
              "3318  305214332755664896  ...                         '@adityaphatak So are we!'\n",
              "3334  306052791946862592  ...                                    '@madmanweb :)'\n",
              "3529  305364237801361408  ...                                 '@SandipGhose :))'\n",
              "3751  305950641409388545  ...                                    '@MissShwe :-)'\n",
              "3805  305378105353195520  ...                                  '@sumapramod :-)'\n",
              "3859  302145306882109441  ...                               '@sukaina_ali I do!'\n",
              "4264  304490610956574720  ...                               '@RichaPanigrahi :)'\n",
              "4292  303631958536237058  ...                                 '@rachaelfurn :-('\n",
              "4596   34127575890526209  ...  @supercujo er, that's because it is the 33rd o...\n",
              "4598  306300309033066496  ...                                 '@ferrarikid1 :-)'\n",
              "4613         24469966369  ...                                        '#Followus'\n",
              "4654         24763229438  ...  '#FollowFriday @joshualoveridge @Mtthwcwn @non...\n",
              "4786  304094882518159360  ...                              '@coachcyrus Will do'\n",
              "4816  296822421766422529  ...                            '@liz_lau ;-) #fanlove'\n",
              "5178  306343364385730560  ...                                   '@MainuKeee :-)'\n",
              "5419  306333122180546560  ...            '@mdiirfankhan @nitingokhale ha ha :-)'\n",
              "5496  305257486238232577  ...                              '@abhijity30 I did !'\n",
              "5570  305950331689369600  ...                                  '@ravneetk90 :-)'\n",
              "6018  129323447624024064  ...                                '@charlielane24 no'\n",
              "6227  306186355086589954  ...                  '@asanders83 #Embracetherace :-)'\n",
              "6493  305951139315216384  ...                       '@iamnarendranath ha ha :-)'\n",
              "\n",
              "[35 rows x 3 columns]"
            ]
          },
          "metadata": {
            "tags": []
          }
        },
        {
          "output_type": "stream",
          "text": [
            "#Rows removed:  35\n",
            "[124, 146, 391, 666, 715, 928, 1179, 1202, 1304, 1447, 1689, 1810, 1824, 2339, 3318, 3334, 3529, 3751, 3805, 3859, 4264, 4292, 4596, 4598, 4613, 4654, 4786, 4816, 5178, 5419, 5496, 5570, 6018, 6227, 6493]\n"
          ],
          "name": "stdout"
        }
      ]
    },
    {
      "cell_type": "code",
      "metadata": {
        "id": "jPJRyFgmNoG8",
        "colab_type": "code",
        "colab": {}
      },
      "source": [
        "corr_words = dict()"
      ],
      "execution_count": 0,
      "outputs": []
    },
    {
      "cell_type": "code",
      "metadata": {
        "id": "8YGH8PvE2qFn",
        "colab_type": "code",
        "outputId": "5ca4ccbf-b985-45a8-ba17-ff05999d6894",
        "colab": {
          "base_uri": "https://localhost:8080/",
          "height": 34
        }
      },
      "source": [
        "# Somme keywords may be ill writen \n",
        "# We'll try to match the correct words using the levenshtein distance (later we'll use also stemming)\n",
        "# To avoid looking in the entire vocab (len = 300k) we'll break it down using the first letter\n",
        "\n",
        "keys_lookup = dict()\n",
        "letters = string.ascii_letters[:26]\n",
        "for l in letters:\n",
        "  keys_lookup[l] = list()  \n",
        "  for key, ind in w2i.items():    \n",
        "    if re.match(r'^'+l+'.*', key):\n",
        "      keys_lookup[l].append(key)\n",
        "     \n",
        "len(keys_lookup['a']) \n",
        "\n",
        "\n",
        "def sim_word_ind(word):  \n",
        "  word = re.sub(r'(.)\\1{2,}', r'\\1\\1', word) # make chars repeatition at most 2 times  \n",
        "  \n",
        "  sim_word_w = 'UNK'\n",
        "  if len(word) < 3:\n",
        "    return w2i[sim_word_w], sim_word_w, corr_words\n",
        "\n",
        "\n",
        "  lookup_ls = keys_lookup[word[0]]\n",
        "  length = len(lookup_ls)  \n",
        "  min_dist = int(len(word) / 2)\n",
        "  \n",
        "  for w in lookup_ls:  \n",
        "\n",
        "    if np.abs(len(w) - len(word)) > min_dist:\n",
        "      continue\n",
        "    dist = nltk.edit_distance(word, w)\n",
        "    if dist < min_dist:\n",
        "      min_dist = dist\n",
        "      sim_word_w = w\n",
        "      break\n",
        "\n",
        "  if sim_word_w != 'UNK':\n",
        "    corr_words[word] = sim_word_w\n",
        "    \n",
        "  return w2i[sim_word_w], sim_word_w, corr_words\n",
        "\n",
        "sim_word_ind('cace')"
      ],
      "execution_count": 17,
      "outputs": [
        {
          "output_type": "execute_result",
          "data": {
            "text/plain": [
              "(140, 'came', {'cace': 'came'})"
            ]
          },
          "metadata": {
            "tags": []
          },
          "execution_count": 17
        }
      ]
    },
    {
      "cell_type": "code",
      "metadata": {
        "id": "5mK7ybpGvuEu",
        "colab_type": "code",
        "outputId": "7703fda8-7a46-46f7-dfb1-8a90460c1f4c",
        "colab": {
          "base_uri": "https://localhost:8080/",
          "height": 34
        }
      },
      "source": [
        "def getSubword(word):\n",
        "\n",
        "  if len(word) < 3:\n",
        "    return 'UNK', corr_words\n",
        "\n",
        "  for w in vocab:\n",
        "    if len(w) < int(len(word)/3):\n",
        "      continue\n",
        "    if w in re.findall(w, word):      \n",
        "      corr_words[word] = w\n",
        "      return w, corr_words\n",
        "\n",
        "  return 'UNK', corr_words\n",
        "\n",
        "getSubword('Wearechampion')"
      ],
      "execution_count": 18,
      "outputs": [
        {
          "output_type": "execute_result",
          "data": {
            "text/plain": [
              "('champion', {'Wearechampion': 'champion', 'cace': 'came'})"
            ]
          },
          "metadata": {
            "tags": []
          },
          "execution_count": 18
        }
      ]
    },
    {
      "cell_type": "code",
      "metadata": {
        "id": "bNUEADS5VOJJ",
        "colab_type": "code",
        "outputId": "f58e3861-d152-4937-cef3-2237a29243b7",
        "colab": {
          "base_uri": "https://localhost:8080/",
          "height": 34
        }
      },
      "source": [
        "for token in tqdm(missing_tokens):\n",
        "  w, corr_words = getSubword(token)\n",
        "  if w == 'UNK':\n",
        "    _, _, corr_words = sim_word_ind(token)"
      ],
      "execution_count": 19,
      "outputs": [
        {
          "output_type": "stream",
          "text": [
            "100%|██████████| 2771/2771 [33:08<00:00,  1.39it/s]\n"
          ],
          "name": "stderr"
        }
      ]
    },
    {
      "cell_type": "markdown",
      "metadata": {
        "id": "qKSYJPGXKvmE",
        "colab_type": "text"
      },
      "source": [
        "#### Preparing the data for the model\n",
        "<a id=\"c24\"></a>"
      ]
    },
    {
      "cell_type": "code",
      "metadata": {
        "id": "clQbUYSkBCnn",
        "colab_type": "code",
        "colab": {}
      },
      "source": [
        "# Converting the sentences into array of indices\n",
        "def sentences2indice(X, w2i, vocab, MAXLEN):\n",
        "  \"\"\"\n",
        "  X: dataframe\n",
        "  w2i: word to index dictionnary\n",
        "  vocab: embedding vector vocabulary\n",
        "  MAXLEN: required length of the sentences\n",
        "  \"\"\"  \n",
        "  m = X.shape[0]\n",
        "  v = np.full((m, MAXLEN), fill_value=w2i['PAD'], dtype=int) #Padding so that the elts of the batch have the same size\n",
        "                                                              \n",
        "  for i in progress_bar(range(m)):\n",
        "    j = 0\n",
        "    tokens = getToken(X[i])  \n",
        "    for w in tokens:\n",
        "      if w in vocab:\n",
        "        v[i, j] = w2i[w]      \n",
        "      else:  \n",
        "        sim_w = 'UNK'\n",
        "        sim_w_ind = w2i[sim_w]      \n",
        "        if w in corr_words.keys():\n",
        "          sim_w = corr_words[w]\n",
        "          sim_w_ind = w2i[sim_w]\n",
        "\n",
        "        v[i, j] = sim_w_ind\n",
        "\n",
        "      j += 1\n",
        "\n",
        "    v[i,j] = w2i['EOS']  \n",
        "\n",
        "  return v"
      ],
      "execution_count": 0,
      "outputs": []
    },
    {
      "cell_type": "code",
      "metadata": {
        "id": "JLvtOO_vuV_i",
        "colab_type": "code",
        "outputId": "b79a1314-b100-455c-c1b1-6ba5d692c408",
        "colab": {
          "base_uri": "https://localhost:8080/",
          "height": 333,
          "referenced_widgets": [
            "98550fba7d4d400aa0b636a57efce687",
            "fe680a802efb45c7814c634db1f090c6",
            "a1dfca5db6d547a3aab2147add3b9a4e",
            "1781989d482a4bde92e3f9def88f4c24",
            "3dfef7d49aeb411792c511d2dac496fa",
            "62560cd619ad4075b97ac80c102fb520",
            "e4c72393ff0342d2b0c84e688ba90bd0",
            "1192c64f98234b1cbb87d9b768550f38"
          ]
        }
      },
      "source": [
        "tweet = 'Thank you Findout more about #RallyAgainstCancer 1-1 interview with @roscohutchins in latest2009 @andy_murray https://t.co/LvGKngSTql #AegonChampionships'\t\n",
        "arr = sentences2indice(np.array([tweet]), w2i, vocab, 15)\n",
        "for i in arr[0]:\n",
        "  print(i2w[i])\n"
      ],
      "execution_count": 21,
      "outputs": [
        {
          "output_type": "display_data",
          "data": {
            "application/vnd.jupyter.widget-view+json": {
              "model_id": "98550fba7d4d400aa0b636a57efce687",
              "version_minor": 0,
              "version_major": 2
            },
            "text/plain": [
              "HBox(children=(IntProgress(value=0, max=1), HTML(value='')))"
            ]
          },
          "metadata": {
            "tags": []
          }
        },
        {
          "output_type": "stream",
          "text": [
            "\n",
            "thank\n",
            "UNK\n",
            "cancer\n",
            "score\n",
            "interview\n",
            "chin\n",
            "latest\n",
            "andy_murray\n",
            "championship\n",
            "EOS\n",
            "PAD\n",
            "PAD\n",
            "PAD\n",
            "PAD\n",
            "PAD\n"
          ],
          "name": "stdout"
        }
      ]
    },
    {
      "cell_type": "code",
      "metadata": {
        "id": "syGV7doKUtYG",
        "colab_type": "code",
        "outputId": "125de6be-2fac-4414-c231-c78238114bac",
        "colab": {
          "base_uri": "https://localhost:8080/",
          "height": 215,
          "referenced_widgets": [
            "084e01ba1bab48e2bbecdc9ee79c66b1",
            "12695f9dff1d4d9bba3bb4b430a9884e",
            "1d6bfa38bc1e41878a1929f892292b0a",
            "25f35e3c86294834ad582550a2572ff6",
            "46139e0bb03943d486a54cd0c92f5e2d",
            "c7b60f4890664344b9d4d60bbd6ea4cc",
            "c16566a323a34c1d88432fab981887a4",
            "f6b9c2f5faae4c01a52c931e05cbfb72",
            "858d29dde40c490d9f18853c709abd74",
            "aa099dd694bd440ca4a6258607bb7d17",
            "5e32a5d1f38a48a2934801e31ee1e222",
            "9367810267114a8cafd7cae86b635285",
            "1bb7fac27577403e8c967805ac0118dd",
            "c0349908452f4d2dafa5cda773f3b343",
            "64e8c176f2d1414b97e9e979aa8d142c",
            "3eb489c4f2484bfd865035468f1c0e0c",
            "0e1ba91450744c54bdf42528f4481d2e",
            "b6d33c1e78e445a0a232a5d44bce6f83",
            "9999cdd033a34cd2a28e6937c152c76e",
            "0ff416ceb2d24fdaa4cee32167e056d2",
            "de7d92d6179648b3bd387b090709a2a1",
            "dd4b00e016414424abfb13778309839d",
            "417c89f52aaa43f0bc9fbfbf628647b2",
            "99c9e6a954784eef8e553756bacd65d0",
            "b0276fb8eae44f3f86ba756df71c977b",
            "f9f2a17dece34dbd9acbe86a7fdae436",
            "c01a3e3b4c144ed3aab3023bbe40b4b3",
            "0d775d01d90d4854978c55c6d8cdb51d",
            "7024296c07424662865cdbae1a0be822",
            "298ec4111f564f9fa82ac9d5d2929f7b",
            "f3e57d7b8d3f4b14bd550f926679fe23",
            "9f33a6a920fc43f9a9e8cee0bf581cd6"
          ]
        }
      },
      "source": [
        "# After exec miss-labeled section in (3) error analysis\n",
        "MAXLEN = 25 \n",
        "lb = LabelEncoder()\n",
        "\n",
        "labels = lb.fit_transform(train.Label)\n",
        "\n",
        "X_train, X_dev, Y_train, Y_dev = train_test_split(train.TweetText, labels, test_size = .3 , random_state = 1, shuffle = True)\n",
        "X_dev, X_test , Y_dev, Y_test = train_test_split(X_dev, Y_dev, test_size = .4 , random_state = 1, shuffle = True)\n",
        "\n",
        "x_train = sentences2indice(np.array(X_train), w2i, vocab, MAXLEN)\n",
        "x_dev = sentences2indice(np.array(X_dev), w2i, vocab, MAXLEN)\n",
        "x_test = sentences2indice(np.array(X_test), w2i, vocab, MAXLEN)\n",
        "\n",
        "test_tweets = sentences2indice(np.array(test.TweetText), w2i, vocab, MAXLEN)"
      ],
      "execution_count": 30,
      "outputs": [
        {
          "output_type": "display_data",
          "data": {
            "application/vnd.jupyter.widget-view+json": {
              "model_id": "084e01ba1bab48e2bbecdc9ee79c66b1",
              "version_minor": 0,
              "version_major": 2
            },
            "text/plain": [
              "HBox(children=(IntProgress(value=0, max=4543), HTML(value='')))"
            ]
          },
          "metadata": {
            "tags": []
          }
        },
        {
          "output_type": "stream",
          "text": [
            "\n"
          ],
          "name": "stdout"
        },
        {
          "output_type": "display_data",
          "data": {
            "application/vnd.jupyter.widget-view+json": {
              "model_id": "858d29dde40c490d9f18853c709abd74",
              "version_minor": 0,
              "version_major": 2
            },
            "text/plain": [
              "HBox(children=(IntProgress(value=0, max=1168), HTML(value='')))"
            ]
          },
          "metadata": {
            "tags": []
          }
        },
        {
          "output_type": "stream",
          "text": [
            "\n"
          ],
          "name": "stdout"
        },
        {
          "output_type": "display_data",
          "data": {
            "application/vnd.jupyter.widget-view+json": {
              "model_id": "0e1ba91450744c54bdf42528f4481d2e",
              "version_minor": 0,
              "version_major": 2
            },
            "text/plain": [
              "HBox(children=(IntProgress(value=0, max=779), HTML(value='')))"
            ]
          },
          "metadata": {
            "tags": []
          }
        },
        {
          "output_type": "stream",
          "text": [
            "\n"
          ],
          "name": "stdout"
        },
        {
          "output_type": "display_data",
          "data": {
            "application/vnd.jupyter.widget-view+json": {
              "model_id": "b0276fb8eae44f3f86ba756df71c977b",
              "version_minor": 0,
              "version_major": 2
            },
            "text/plain": [
              "HBox(children=(IntProgress(value=0, max=2610), HTML(value='')))"
            ]
          },
          "metadata": {
            "tags": []
          }
        },
        {
          "output_type": "stream",
          "text": [
            "\n"
          ],
          "name": "stdout"
        }
      ]
    },
    {
      "cell_type": "markdown",
      "metadata": {
        "id": "oGSo2l7d6PG1",
        "colab_type": "text"
      },
      "source": [
        "### 3 - Model definition\n",
        "<a id=\"c3\"></a>"
      ]
    },
    {
      "cell_type": "markdown",
      "metadata": {
        "id": "50whdyks3uuZ",
        "colab_type": "text"
      },
      "source": [
        "#### Simple architecture\n",
        "<a id=\"c31\"></a>"
      ]
    },
    {
      "cell_type": "code",
      "metadata": {
        "id": "3UwNFHBTYUfA",
        "colab_type": "code",
        "outputId": "b1b6bffe-fe93-4650-85c2-81a9be23269d",
        "colab": {
          "base_uri": "https://localhost:8080/",
          "height": 555
        }
      },
      "source": [
        "Image('simple_achitecture.png')"
      ],
      "execution_count": 0,
      "outputs": [
        {
          "output_type": "execute_result",
          "data": {
            "image/png": "[encoded data removed]",
            "text/plain": [
              "<IPython.core.display.Image object>"
            ]
          },
          "metadata": {
            "tags": []
          },
          "execution_count": 166
        }
      ]
    },
    {
      "cell_type": "code",
      "metadata": {
        "id": "QGhpAGysNREm",
        "colab_type": "code",
        "colab": {}
      },
      "source": [
        "def emb_mat():\n",
        "  emb_dim = w2v['king'].shape[0]\n",
        "  vocab_len = len(vocab) + 1\n",
        "\n",
        "  emb_matrix = np.zeros((vocab_len, emb_dim))\n",
        "\n",
        "  for w, i in w2i.items():\n",
        "    emb_matrix[i,:] = w2v[w]\n",
        "    \n",
        "  return emb_matrix"
      ],
      "execution_count": 0,
      "outputs": []
    },
    {
      "cell_type": "code",
      "metadata": {
        "id": "HyLQvW-on6Tn",
        "colab_type": "code",
        "colab": {}
      },
      "source": [
        "def pretrained_emb():\n",
        "  \n",
        "  emb_matrix = emb_mat()  \n",
        "  emb_layer = Embedding(emb_matrix.shape[0], emb_matrix.shape[1], trainable = False)\n",
        "  emb_layer.build((None,))\n",
        "  emb_layer.set_weights([emb_matrix])\n",
        "\n",
        "  return emb_layer\n"
      ],
      "execution_count": 0,
      "outputs": []
    },
    {
      "cell_type": "code",
      "metadata": {
        "id": "vH5nCQSq3W2B",
        "colab_type": "code",
        "colab": {}
      },
      "source": [
        "def TweetModel(input_shape = (25,), n_a = 128, lr = 0.01, DROPOUT = 0, R_DROPOUT = 0):\n",
        "\n",
        "  sentence_ind = Input(shape = input_shape, dtype = np.int32)\n",
        "  \n",
        "  emb_layer = pretrained_emb() \n",
        "  emb_layer = emb_layer(sentence_ind)\n",
        "\n",
        "  lstm = LSTM(n_a, dropout = DROPOUT, recurrent_dropout = R_DROPOUT)(emb_layer)\n",
        "\n",
        "  output = Dense(1, activation = 'sigmoid')(lstm)\n",
        "\n",
        "  model = Model(inputs = [sentence_ind], outputs = [output])\n",
        "  \n",
        "  opt = adam(lr= lr, decay = lr/10)\n",
        "  model.compile(loss= 'binary_crossentropy', optimizer = opt, metrics = [\"accuracy\"])\n",
        "\n",
        "  return model  "
      ],
      "execution_count": 0,
      "outputs": []
    },
    {
      "cell_type": "code",
      "metadata": {
        "id": "SxbA6tmC4FCG",
        "colab_type": "code",
        "outputId": "c2471c35-12fd-4592-e10f-3fc21a9603ca",
        "colab": {
          "base_uri": "https://localhost:8080/",
          "height": 301
        }
      },
      "source": [
        "tweetModel = TweetModel((MAXLEN,))\n",
        "tweetModel.summary()"
      ],
      "execution_count": 27,
      "outputs": [
        {
          "output_type": "stream",
          "text": [
            "Model: \"model_2\"\n",
            "_________________________________________________________________\n",
            "Layer (type)                 Output Shape              Param #   \n",
            "=================================================================\n",
            "input_2 (InputLayer)         (None, 25)                0         \n",
            "_________________________________________________________________\n",
            "embedding_2 (Embedding)      (None, 25, 50)            15851700  \n",
            "_________________________________________________________________\n",
            "lstm_2 (LSTM)                (None, 128)               91648     \n",
            "_________________________________________________________________\n",
            "dense_2 (Dense)              (None, 1)                 129       \n",
            "=================================================================\n",
            "Total params: 15,943,477\n",
            "Trainable params: 91,777\n",
            "Non-trainable params: 15,851,700\n",
            "_________________________________________________________________\n"
          ],
          "name": "stdout"
        }
      ]
    },
    {
      "cell_type": "code",
      "metadata": {
        "id": "KYrFajWBOXYS",
        "colab_type": "code",
        "outputId": "e7dcff34-29b3-4ebb-d175-4e52aea491bd",
        "colab": {
          "base_uri": "https://localhost:8080/",
          "height": 481
        }
      },
      "source": [
        "history50d = tweetModel.fit(x_train, Y_train, batch_size= 20, epochs = 10, validation_data= (x_dev, Y_dev), verbose = 1)"
      ],
      "execution_count": 0,
      "outputs": [
        {
          "output_type": "stream",
          "text": [
            "WARNING:tensorflow:From /usr/local/lib/python3.6/dist-packages/keras/backend/tensorflow_backend.py:1033: The name tf.assign_add is deprecated. Please use tf.compat.v1.assign_add instead.\n",
            "\n",
            "WARNING:tensorflow:From /usr/local/lib/python3.6/dist-packages/keras/backend/tensorflow_backend.py:1020: The name tf.assign is deprecated. Please use tf.compat.v1.assign instead.\n",
            "\n",
            "Train on 4546 samples, validate on 1169 samples\n",
            "Epoch 1/10\n",
            "4546/4546 [==============================] - 16s 3ms/step - loss: 0.6417 - acc: 0.6390 - val_loss: 0.5319 - val_acc: 0.7151\n",
            "Epoch 2/10\n",
            "4546/4546 [==============================] - 14s 3ms/step - loss: 0.4868 - acc: 0.7734 - val_loss: 0.4130 - val_acc: 0.7973\n",
            "Epoch 3/10\n",
            "4546/4546 [==============================] - 14s 3ms/step - loss: 0.3140 - acc: 0.8603 - val_loss: 0.2973 - val_acc: 0.8760\n",
            "Epoch 4/10\n",
            "4546/4546 [==============================] - 14s 3ms/step - loss: 0.2324 - acc: 0.9043 - val_loss: 0.2549 - val_acc: 0.8973\n",
            "Epoch 5/10\n",
            "4546/4546 [==============================] - 14s 3ms/step - loss: 0.1691 - acc: 0.9331 - val_loss: 0.2469 - val_acc: 0.8939\n",
            "Epoch 6/10\n",
            "4546/4546 [==============================] - 13s 3ms/step - loss: 0.1226 - acc: 0.9538 - val_loss: 0.2388 - val_acc: 0.8982\n",
            "Epoch 7/10\n",
            "4546/4546 [==============================] - 13s 3ms/step - loss: 0.0955 - acc: 0.9659 - val_loss: 0.2694 - val_acc: 0.8956\n",
            "Epoch 8/10\n",
            "4546/4546 [==============================] - 13s 3ms/step - loss: 0.0615 - acc: 0.9798 - val_loss: 0.3122 - val_acc: 0.9033\n",
            "Epoch 9/10\n",
            "4546/4546 [==============================] - 13s 3ms/step - loss: 0.0557 - acc: 0.9824 - val_loss: 0.3041 - val_acc: 0.9119\n",
            "Epoch 10/10\n",
            "4546/4546 [==============================] - 13s 3ms/step - loss: 0.0468 - acc: 0.9844 - val_loss: 0.3184 - val_acc: 0.8931\n"
          ],
          "name": "stdout"
        }
      ]
    },
    {
      "cell_type": "code",
      "metadata": {
        "id": "5FMp58HEl430",
        "colab_type": "code",
        "outputId": "bb174d3d-a6f0-4a0c-e337-acd464206764",
        "colab": {
          "base_uri": "https://localhost:8080/",
          "height": 296
        }
      },
      "source": [
        "plt = sns.lineplot(y=history50d.history['loss'], x = np.arange(10), label = 'train_loss', color = 'r')\n",
        "sns.lineplot(y=history50d.history['val_loss'], x = np.arange(10), label = 'val_loss', color = 'g')\n",
        "plt.set_xlabel('epochs')\n",
        "plt.set_ylabel('loss')"
      ],
      "execution_count": 0,
      "outputs": [
        {
          "output_type": "execute_result",
          "data": {
            "text/plain": [
              "Text(0, 0.5, 'loss')"
            ]
          },
          "metadata": {
            "tags": []
          },
          "execution_count": 55
        },
        {
          "output_type": "display_data",
          "data": {
            "image/png": "[encoded data removed]",
            "text/plain": [
              "<Figure size 432x288 with 1 Axes>"
            ]
          },
          "metadata": {
            "tags": []
          }
        }
      ]
    },
    {
      "cell_type": "code",
      "metadata": {
        "id": "UpIAABsK6rg7",
        "colab_type": "code",
        "outputId": "2c8f41a8-d82f-4038-e39d-1203114e9e7d",
        "colab": {
          "base_uri": "https://localhost:8080/",
          "height": 52
        }
      },
      "source": [
        "# Evaluate on our test set\n",
        "tweetModel.evaluate(x_test, Y_test)"
      ],
      "execution_count": 0,
      "outputs": [
        {
          "output_type": "stream",
          "text": [
            "780/780 [==============================] - 1s 679us/step\n"
          ],
          "name": "stdout"
        },
        {
          "output_type": "execute_result",
          "data": {
            "text/plain": [
              "[0.36483261367926995, 0.8935897435897436]"
            ]
          },
          "metadata": {
            "tags": []
          },
          "execution_count": 56
        }
      ]
    },
    {
      "cell_type": "markdown",
      "metadata": {
        "id": "rXsJ_nN182AY",
        "colab_type": "text"
      },
      "source": [
        "Although the accuracy of the dev set is still high,\n",
        "this plot shows clearly that we are overfitting the training data.\n",
        "\n",
        "We can use early stopping and dropout to try to fix it. The downside we may overfit the dev set (To check it we have our custom test set)\n"
      ]
    },
    {
      "cell_type": "code",
      "metadata": {
        "id": "stGYKhtb9Qtk",
        "colab_type": "code",
        "outputId": "80f1d6d9-ef55-4fcf-e6ed-ebb9a43eb4c5",
        "colab": {
          "base_uri": "https://localhost:8080/",
          "height": 258
        }
      },
      "source": [
        "earlyStopping = EarlyStopping(monitor = 'val_loss',\n",
        "                              min_delta=0,\n",
        "                              patience=0,\n",
        "                              verbose=0, mode='auto')\n",
        "tweetModel = TweetModel((MAXLEN,), DROPOUT = 0.5)\n",
        "history50d = tweetModel.fit(x_train, Y_train, batch_size= 20, epochs = 10, validation_data= (x_dev, Y_dev), verbose = 1, callbacks = [earlyStopping])"
      ],
      "execution_count": 0,
      "outputs": [
        {
          "output_type": "stream",
          "text": [
            "Train on 4543 samples, validate on 1168 samples\n",
            "Epoch 1/10\n",
            "4543/4543 [==============================] - 14s 3ms/step - loss: 0.6258 - acc: 0.6443 - val_loss: 0.5526 - val_acc: 0.7586\n",
            "Epoch 2/10\n",
            "4543/4543 [==============================] - 13s 3ms/step - loss: 0.4688 - acc: 0.8021 - val_loss: 0.2825 - val_acc: 0.8964\n",
            "Epoch 3/10\n",
            "4543/4543 [==============================] - 13s 3ms/step - loss: 0.2276 - acc: 0.9080 - val_loss: 0.2117 - val_acc: 0.9101\n",
            "Epoch 4/10\n",
            "4543/4543 [==============================] - 13s 3ms/step - loss: 0.1628 - acc: 0.9359 - val_loss: 0.2007 - val_acc: 0.9170\n",
            "Epoch 5/10\n",
            "4543/4543 [==============================] - 13s 3ms/step - loss: 0.1266 - acc: 0.9525 - val_loss: 0.1693 - val_acc: 0.9255\n",
            "Epoch 6/10\n",
            "4543/4543 [==============================] - 13s 3ms/step - loss: 0.0980 - acc: 0.9615 - val_loss: 0.1851 - val_acc: 0.9110\n"
          ],
          "name": "stdout"
        }
      ]
    },
    {
      "cell_type": "code",
      "metadata": {
        "id": "RerF1sZl9aje",
        "colab_type": "code",
        "outputId": "6ce17df0-b2a1-459c-863f-bef5ef029ff7",
        "colab": {
          "base_uri": "https://localhost:8080/",
          "height": 296
        }
      },
      "source": [
        "train_loss = history50d.history['loss']\n",
        "val_loss = history50d.history['val_loss']\n",
        "length = len(val_loss)\n",
        "plt = sns.lineplot(y= train_loss, x = np.arange(length), label = 'train_loss', color = 'r')\n",
        "sns.lineplot(y= val_loss, x = np.arange(length), label = 'val_loss', color = 'g')\n",
        "plt.set_xlabel('epochs')\n",
        "plt.set_ylabel('loss')"
      ],
      "execution_count": 0,
      "outputs": [
        {
          "output_type": "execute_result",
          "data": {
            "text/plain": [
              "Text(0, 0.5, 'loss')"
            ]
          },
          "metadata": {
            "tags": []
          },
          "execution_count": 156
        },
        {
          "output_type": "display_data",
          "data": {
            "image/png": "[encoded data removed]",
            "text/plain": [
              "<Figure size 432x288 with 1 Axes>"
            ]
          },
          "metadata": {
            "tags": []
          }
        }
      ]
    },
    {
      "cell_type": "code",
      "metadata": {
        "id": "YdgFFXxqr0fd",
        "colab_type": "code",
        "outputId": "5e312950-0e86-4358-88d4-efddb1ab8cea",
        "colab": {
          "base_uri": "https://localhost:8080/",
          "height": 336
        }
      },
      "source": [
        "ypred = tweetModel.predict(test_tweets, batch_size=20)\n",
        "Label = []\n",
        "for ys in ypred:\n",
        "  if ys > .5:\n",
        "    Label.append(\"Sports\")\n",
        "  else:\n",
        "    Label.append(\"Politics\")\n",
        "    \n",
        "Label= pd.DataFrame(Label, columns=[\"Label\"])\n",
        "sub = pd.concat([test.TweetId, Label], axis = 1)\n",
        "print(sub)\n",
        "\n",
        "!rm sub.csv\n",
        "sub.to_csv(\"sub.csv\", index=False)\n",
        "!kaggle competitions submit -c deeptweets -f sub.csv -m \"\""
      ],
      "execution_count": 0,
      "outputs": [
        {
          "output_type": "stream",
          "text": [
            "                 TweetId     Label\n",
            "0     306486520121012224    Sports\n",
            "1     286353402605228032  Politics\n",
            "2     289531046037438464  Politics\n",
            "3     306451661403062273  Politics\n",
            "4     297941800658812928    Sports\n",
            "...                  ...       ...\n",
            "2605  282023761044189184    Sports\n",
            "2606  303879735006601216    Sports\n",
            "2607  297956846046703616    Sports\n",
            "2608  304265049537658880  Politics\n",
            "2609  306430391928115200    Sports\n",
            "\n",
            "[2610 rows x 2 columns]\n",
            "rm: cannot remove 'sub.csv': No such file or directory\n",
            "Warning: Looks like you're using an outdated API Version, please consider updating (server 1.5.6 / client 1.5.4)\n",
            "100% 67.1k/67.1k [00:06<00:00, 9.84kB/s]\n",
            "Successfully submitted to DeepTweets"
          ],
          "name": "stdout"
        }
      ]
    },
    {
      "cell_type": "markdown",
      "metadata": {
        "id": "MosgsGd4A7qE",
        "colab_type": "text"
      },
      "source": [
        "Problem solved ?\n",
        "\n",
        "Too early to celebrate, there's a somme error analysis and hyperparams tuning, but we'll leave this for a latter section"
      ]
    },
    {
      "cell_type": "markdown",
      "metadata": {
        "id": "oXhEapmH33qM",
        "colab_type": "text"
      },
      "source": [
        "#### Evaluation of different embeddings\n",
        "<a id=\"c32\"></a>"
      ]
    },
    {
      "cell_type": "markdown",
      "metadata": {
        "id": "McjH7b7aB40-",
        "colab_type": "text"
      },
      "source": [
        "Before jumping into the error analysis, it may be interesting to check the results using the different embeddings (Glove: 100d, 200d / FastText: wikipedia, crawl )"
      ]
    },
    {
      "cell_type": "code",
      "metadata": {
        "id": "b06hD5df5ujK",
        "colab_type": "code",
        "outputId": "c94811c4-0205-46de-a5a6-f624b7f11e73",
        "colab": {
          "base_uri": "https://localhost:8080/",
          "height": 1000
        }
      },
      "source": [
        "print('------------ glove 100dim------------')\n",
        "vocab, w2v, i2w, w2i = get_emb(train, i = 100)\n",
        "tweetModel = TweetModel((MAXLEN,))\n",
        "history100d = tweetModel.fit(x_train, Y_train, batch_size= 20, epochs = 5, validation_data= (x_dev, Y_dev), verbose = 1)\n",
        "print('------------ glove 200dim------------')\n",
        "vocab, w2v, i2w, w2i = get_emb(train, i = 200)\n",
        "tweetModel = TweetModel((MAXLEN,))\n",
        "history200d = tweetModel.fit(x_train, Y_train, batch_size= 20, epochs = 5, validation_data= (x_dev, Y_dev), verbose = 1)  \n",
        "print('------------ wiki-fasttext------------')\n",
        "vocab, w2v, i2w, w2i = get_emb(train, emb_vect='wiki-ft')\n",
        "tweetModel = TweetModel((MAXLEN,))\n",
        "historywikift = tweetModel.fit(x_train, Y_train, batch_size= 20, epochs = 5, validation_data= (x_dev, Y_dev), verbose = 1)\n",
        "print('------------ crawl-fasttext------------')\n",
        "vocab, w2v, i2w, w2i = get_emb(train, emb_vect='crawl-ft')\n",
        "tweetModel = TweetModel((MAXLEN,))\n",
        "historycrawlft = tweetModel.fit(x_train, Y_train, batch_size= 20, epochs = 5, validation_data= (x_dev, Y_dev), verbose = 1)\n"
      ],
      "execution_count": 0,
      "outputs": [
        {
          "output_type": "stream",
          "text": [
            "3219it [00:00, 32185.04it/s]"
          ],
          "name": "stderr"
        },
        {
          "output_type": "stream",
          "text": [
            "------------ glove 50dim------------\n",
            "------------ glove 100dim------------\n"
          ],
          "name": "stdout"
        },
        {
          "output_type": "stream",
          "text": [
            "400000it [00:10, 39692.78it/s]\n",
            "916it [00:00, 9155.93it/s]"
          ],
          "name": "stderr"
        },
        {
          "output_type": "stream",
          "text": [
            "Vocab len =  316950\n"
          ],
          "name": "stdout"
        },
        {
          "output_type": "stream",
          "text": [
            "6490it [00:00, 9449.35it/s]\n",
            "966it [00:00, 9655.57it/s]"
          ],
          "name": "stderr"
        },
        {
          "output_type": "stream",
          "text": [
            "\n",
            "Sports # freq  [('indvaus', 347), ('bbl02', 192), ('bigfinals', 163), ('gbfedcup', 93), ('ausopen', 80), ('ausgp', 61), ('f1', 60), ('nzveng', 57), ('bbcfootball', 39), ('ryobiodc', 34), ('wwc13', 32), ('cantwaitforausgp', 29), ('ausavengl', 25), ('capitalonecup', 22), ('ct13', 21), ('savpak', 20), ('ausveng', 19), ('3peat', 19), ('fl125', 19), ('testcricket', 17)]\n",
            "Politics # freq  [('nelsonmandela', 146), ('seckerry', 56), ('ep', 48), ('bcim2013', 43), ('sotu', 35), ('jobsnow', 32), ('eu', 28), ('haroldholzer', 25), ('keepwhatureap', 25), ('euco', 22), ('wedemandavote', 22), ('cantafford4more', 21), ('eubudget', 18), ('disabilityrights', 17), ('euspeech', 15), ('ff', 14), ('pmindia', 12), ('jobsnotcuts', 11), ('nowisthetime', 11), ('bigsociety', 10)]\n"
          ],
          "name": "stdout"
        },
        {
          "output_type": "stream",
          "text": [
            "6490it [00:00, 9575.42it/s]\n",
            "216it [00:00, 2153.57it/s]"
          ],
          "name": "stderr"
        },
        {
          "output_type": "stream",
          "text": [
            "\n",
            "Sports top accounts # freq  [('@BCCI', 201), ('@AustralianOpen', 55), ('@DjokerNole', 40), ('@ausgrandprix', 38), ('@HeatBBL', 28), ('@ScorchersBBL', 27), ('@RafaelNadal', 25), ('@bbc5live', 24), ('@andy_murray', 23), ('@BBCSport', 21), ('@CapitalOne_Cup', 21), ('@StarsBBL', 16), ('@cricketicc', 16), ('@JP_Trophy', 15), ('@AaronFinch5', 15), ('@cricketwallah', 13), ('@NextGenSeries', 13), ('@ESPNStatsInfo', 13), ('@espn', 13), ('@HeatherWatson92', 13)]\n",
            "Politics top accounts  [('@BarackObama', 72), ('@PMOIndia', 58), ('@CONX', 29), ('@ForeignAffairs', 20), ('@whitehouse', 16), ('@State_DRL', 16), ('@UVA', 15), ('@MedvedevRussiaE', 15), ('@PaulRyanVP', 14), ('@milinddeora', 13), ('@fhollande', 11), ('@BDUTT', 11), ('@StateDept', 10), ('@PresidencyZA', 10), ('@Europarltv', 10), ('@FA_books', 10), ('@ShashiTharoor', 10), ('@FeedtheFuture', 10), ('@karincaifaCNN', 9), ('@brownbrumby', 8)]\n"
          ],
          "name": "stdout"
        },
        {
          "output_type": "stream",
          "text": [
            "6490it [00:03, 2090.72it/s]\n"
          ],
          "name": "stderr"
        },
        {
          "output_type": "stream",
          "text": [
            "[('score', 576), ('rt', 410), ('indvaus', 347), ('test', 317), ('bcci', 202), ('runs', 196), ('bbl', 196), ('atp', 183), ('bigfinals', 165), ('cfc', 162), ('tennis', 146), ('final', 142), ('win', 142), ('first', 139), ('aus', 135), ('india', 134), ('day', 121), ('game', 120), ('team', 117), ('thanks', 107), ('great', 106), ('time', 106), ('australia', 105), ('one', 105), ('england', 103), ('cricket', 101), ('gbfedcup', 93), ('match', 92), ('back', 90), ('see', 89), ('new', 87), ('good', 85), ('v', 84), ('get', 83), ('today', 83), ('wicket', 82), ('live', 82), ('ausopen', 80), ('watch', 79), ('play', 79)]\n",
            "[('president', 345), ('rt', 315), ('obama', 276), ('pm', 267), ('u2019s', 164), ('conference', 159), ('video', 157), ('new', 153), ('nelsonmandela', 148), ('medvedev', 144), ('minister', 142), ('press', 140), ('secretary', 136), ('live', 135), ('chief', 130), ('cabinet', 130), ('meeting', 122), ('us', 117), ('prime', 115), ('nhttp', 113), ('today', 111), ('english', 110), ('people', 110), ('india', 99), ('bcim', 95), ('first', 89), ('day', 89), ('putin', 84), ('eu', 83), ('time', 81), ('dmitry', 80), ('america', 79), ('february', 78), ('state', 77), ('economic', 77), ('photo', 74), ('suga', 73), ('barackobama', 72), ('vladimir', 71), ('january', 70)]\n",
            "#W_ADDED: 7\n",
            "Train on 5417 samples, validate on 2322 samples\n",
            "Epoch 1/5\n",
            "5417/5417 [==============================] - 2s 377us/step - loss: 0.2232 - acc: 0.9049 - val_loss: 0.2087 - val_acc: 0.9186\n",
            "Epoch 2/5\n",
            "5417/5417 [==============================] - 2s 303us/step - loss: 0.1630 - acc: 0.9284 - val_loss: 0.1799 - val_acc: 0.9320\n",
            "Epoch 3/5\n",
            "5417/5417 [==============================] - 2s 304us/step - loss: 0.1418 - acc: 0.9376 - val_loss: 0.1810 - val_acc: 0.9315\n",
            "Epoch 4/5\n",
            "5417/5417 [==============================] - 2s 309us/step - loss: 0.1327 - acc: 0.9431 - val_loss: 0.1631 - val_acc: 0.9341\n",
            "Epoch 5/5\n",
            "5417/5417 [==============================] - 2s 310us/step - loss: 0.1255 - acc: 0.9450 - val_loss: 0.1604 - val_acc: 0.9410\n"
          ],
          "name": "stdout"
        },
        {
          "output_type": "stream",
          "text": [
            "2371it [00:00, 23704.54it/s]"
          ],
          "name": "stderr"
        },
        {
          "output_type": "stream",
          "text": [
            "------------ glove 200dim------------\n"
          ],
          "name": "stdout"
        },
        {
          "output_type": "stream",
          "text": [
            "400000it [00:17, 22964.05it/s]\n",
            "955it [00:00, 9547.41it/s]"
          ],
          "name": "stderr"
        },
        {
          "output_type": "stream",
          "text": [
            "Vocab len =  316950\n"
          ],
          "name": "stdout"
        },
        {
          "output_type": "stream",
          "text": [
            "6490it [00:00, 9075.51it/s]\n",
            "946it [00:00, 9456.15it/s]"
          ],
          "name": "stderr"
        },
        {
          "output_type": "stream",
          "text": [
            "\n",
            "Sports # freq  [('indvaus', 347), ('bbl02', 192), ('bigfinals', 163), ('gbfedcup', 93), ('ausopen', 80), ('ausgp', 61), ('f1', 60), ('nzveng', 57), ('bbcfootball', 39), ('ryobiodc', 34), ('wwc13', 32), ('cantwaitforausgp', 29), ('ausavengl', 25), ('capitalonecup', 22), ('ct13', 21), ('savpak', 20), ('ausveng', 19), ('3peat', 19), ('fl125', 19), ('testcricket', 17)]\n",
            "Politics # freq  [('nelsonmandela', 146), ('seckerry', 56), ('ep', 48), ('bcim2013', 43), ('sotu', 35), ('jobsnow', 32), ('eu', 28), ('haroldholzer', 25), ('keepwhatureap', 25), ('euco', 22), ('wedemandavote', 22), ('cantafford4more', 21), ('eubudget', 18), ('disabilityrights', 17), ('euspeech', 15), ('ff', 14), ('pmindia', 12), ('jobsnotcuts', 11), ('nowisthetime', 11), ('bigsociety', 10)]\n"
          ],
          "name": "stdout"
        },
        {
          "output_type": "stream",
          "text": [
            "6490it [00:00, 9375.09it/s]\n",
            "215it [00:00, 2141.99it/s]"
          ],
          "name": "stderr"
        },
        {
          "output_type": "stream",
          "text": [
            "\n",
            "Sports top accounts # freq  [('@BCCI', 201), ('@AustralianOpen', 55), ('@DjokerNole', 40), ('@ausgrandprix', 38), ('@HeatBBL', 28), ('@ScorchersBBL', 27), ('@RafaelNadal', 25), ('@bbc5live', 24), ('@andy_murray', 23), ('@BBCSport', 21), ('@CapitalOne_Cup', 21), ('@StarsBBL', 16), ('@cricketicc', 16), ('@JP_Trophy', 15), ('@AaronFinch5', 15), ('@cricketwallah', 13), ('@NextGenSeries', 13), ('@ESPNStatsInfo', 13), ('@espn', 13), ('@HeatherWatson92', 13)]\n",
            "Politics top accounts  [('@BarackObama', 72), ('@PMOIndia', 58), ('@CONX', 29), ('@ForeignAffairs', 20), ('@whitehouse', 16), ('@State_DRL', 16), ('@UVA', 15), ('@MedvedevRussiaE', 15), ('@PaulRyanVP', 14), ('@milinddeora', 13), ('@fhollande', 11), ('@BDUTT', 11), ('@StateDept', 10), ('@PresidencyZA', 10), ('@Europarltv', 10), ('@FA_books', 10), ('@ShashiTharoor', 10), ('@FeedtheFuture', 10), ('@karincaifaCNN', 9), ('@brownbrumby', 8)]\n"
          ],
          "name": "stdout"
        },
        {
          "output_type": "stream",
          "text": [
            "6490it [00:03, 2076.67it/s]\n"
          ],
          "name": "stderr"
        },
        {
          "output_type": "stream",
          "text": [
            "[('score', 576), ('rt', 410), ('indvaus', 347), ('test', 317), ('bcci', 202), ('runs', 196), ('bbl', 196), ('atp', 183), ('bigfinals', 165), ('cfc', 162), ('tennis', 146), ('final', 142), ('win', 142), ('first', 139), ('aus', 135), ('india', 134), ('day', 121), ('game', 120), ('team', 117), ('thanks', 107), ('great', 106), ('time', 106), ('australia', 105), ('one', 105), ('england', 103), ('cricket', 101), ('gbfedcup', 93), ('match', 92), ('back', 90), ('see', 89), ('new', 87), ('good', 85), ('v', 84), ('get', 83), ('today', 83), ('wicket', 82), ('live', 82), ('ausopen', 80), ('watch', 79), ('play', 79)]\n",
            "[('president', 345), ('rt', 315), ('obama', 276), ('pm', 267), ('u2019s', 164), ('conference', 159), ('video', 157), ('new', 153), ('nelsonmandela', 148), ('medvedev', 144), ('minister', 142), ('press', 140), ('secretary', 136), ('live', 135), ('chief', 130), ('cabinet', 130), ('meeting', 122), ('us', 117), ('prime', 115), ('nhttp', 113), ('today', 111), ('english', 110), ('people', 110), ('india', 99), ('bcim', 95), ('first', 89), ('day', 89), ('putin', 84), ('eu', 83), ('time', 81), ('dmitry', 80), ('america', 79), ('february', 78), ('state', 77), ('economic', 77), ('photo', 74), ('suga', 73), ('barackobama', 72), ('vladimir', 71), ('january', 70)]\n",
            "#W_ADDED: 7\n",
            "Train on 5417 samples, validate on 2322 samples\n",
            "Epoch 1/5\n",
            "5417/5417 [==============================] - 2s 385us/step - loss: 0.2110 - acc: 0.9066 - val_loss: 0.1795 - val_acc: 0.9311\n",
            "Epoch 2/5\n",
            "5417/5417 [==============================] - 2s 301us/step - loss: 0.1471 - acc: 0.9367 - val_loss: 0.1594 - val_acc: 0.9414\n",
            "Epoch 3/5\n",
            "5417/5417 [==============================] - 2s 303us/step - loss: 0.1135 - acc: 0.9490 - val_loss: 0.1672 - val_acc: 0.9367\n",
            "Epoch 4/5\n",
            "5417/5417 [==============================] - 2s 300us/step - loss: 0.0967 - acc: 0.9590 - val_loss: 0.2099 - val_acc: 0.9190\n",
            "Epoch 5/5\n",
            "5417/5417 [==============================] - 2s 305us/step - loss: 0.0780 - acc: 0.9679 - val_loss: 0.1967 - val_acc: 0.9302\n"
          ],
          "name": "stdout"
        },
        {
          "output_type": "stream",
          "text": [
            "1538it [00:00, 15377.70it/s]"
          ],
          "name": "stderr"
        },
        {
          "output_type": "stream",
          "text": [
            "------------ wiki-fasttext------------\n"
          ],
          "name": "stdout"
        },
        {
          "output_type": "stream",
          "text": [
            "999995it [00:56, 17609.81it/s]\n",
            "965it [00:00, 9644.67it/s]"
          ],
          "name": "stderr"
        },
        {
          "output_type": "stream",
          "text": [
            "Vocab len =  577359\n"
          ],
          "name": "stdout"
        },
        {
          "output_type": "stream",
          "text": [
            "6490it [00:00, 9557.39it/s]\n",
            "968it [00:00, 9672.15it/s]"
          ],
          "name": "stderr"
        },
        {
          "output_type": "stream",
          "text": [
            "\n",
            "Sports # freq  [('indvaus', 347), ('bbl02', 192), ('bigfinals', 163), ('gbfedcup', 93), ('ausopen', 80), ('ausgp', 61), ('f1', 60), ('nzveng', 57), ('bbcfootball', 39), ('ryobiodc', 34), ('wwc13', 32), ('cantwaitforausgp', 29), ('ausavengl', 25), ('capitalonecup', 22), ('ct13', 21), ('savpak', 20), ('ausveng', 19), ('3peat', 19), ('fl125', 19), ('testcricket', 17)]\n",
            "Politics # freq  [('nelsonmandela', 146), ('seckerry', 56), ('ep', 48), ('bcim2013', 43), ('jobsnow', 32), ('eu', 28), ('haroldholzer', 25), ('keepwhatureap', 25), ('euco', 22), ('wedemandavote', 22), ('cantafford4more', 21), ('eubudget', 18), ('disabilityrights', 17), ('euspeech', 15), ('ff', 14), ('pmindia', 12), ('jobsnotcuts', 11), ('nowisthetime', 11), ('bigsociety', 10), ('jobsovercuts', 9)]\n"
          ],
          "name": "stdout"
        },
        {
          "output_type": "stream",
          "text": [
            "6490it [00:00, 9261.81it/s]\n",
            "219it [00:00, 2183.51it/s]"
          ],
          "name": "stderr"
        },
        {
          "output_type": "stream",
          "text": [
            "\n",
            "Sports top accounts # freq  [('@BCCI', 201), ('@AustralianOpen', 55), ('@DjokerNole', 40), ('@ausgrandprix', 38), ('@HeatBBL', 28), ('@ScorchersBBL', 27), ('@RafaelNadal', 25), ('@bbc5live', 24), ('@andy_murray', 23), ('@BBCSport', 21), ('@CapitalOne_Cup', 21), ('@StarsBBL', 16), ('@cricketicc', 16), ('@JP_Trophy', 15), ('@AaronFinch5', 15), ('@cricketwallah', 13), ('@NextGenSeries', 13), ('@ESPNStatsInfo', 13), ('@espn', 13), ('@HeatherWatson92', 13)]\n",
            "Politics top accounts  [('@BarackObama', 72), ('@PMOIndia', 58), ('@CONX', 29), ('@ForeignAffairs', 20), ('@whitehouse', 16), ('@State_DRL', 16), ('@UVA', 15), ('@MedvedevRussiaE', 15), ('@PaulRyanVP', 14), ('@milinddeora', 13), ('@fhollande', 11), ('@BDUTT', 11), ('@StateDept', 10), ('@PresidencyZA', 10), ('@Europarltv', 10), ('@FA_books', 10), ('@ShashiTharoor', 10), ('@FeedtheFuture', 10), ('@karincaifaCNN', 9), ('@brownbrumby', 8)]\n"
          ],
          "name": "stdout"
        },
        {
          "output_type": "stream",
          "text": [
            "6490it [00:03, 2087.70it/s]\n"
          ],
          "name": "stderr"
        },
        {
          "output_type": "stream",
          "text": [
            "[('score', 576), ('rt', 410), ('indvaus', 347), ('test', 317), ('bcci', 202), ('runs', 196), ('bbl', 196), ('atp', 183), ('bigfinals', 165), ('cfc', 162), ('tennis', 146), ('final', 142), ('win', 142), ('first', 139), ('aus', 135), ('india', 134), ('day', 121), ('game', 120), ('team', 117), ('thanks', 107), ('great', 106), ('time', 106), ('australia', 105), ('one', 105), ('england', 103), ('cricket', 101), ('gbfedcup', 93), ('match', 92), ('back', 90), ('see', 89), ('new', 87), ('good', 85), ('v', 84), ('get', 83), ('today', 83), ('wicket', 82), ('live', 82), ('ausopen', 80), ('watch', 79), ('play', 79)]\n",
            "[('president', 345), ('rt', 315), ('obama', 276), ('pm', 267), ('u2019s', 164), ('conference', 159), ('video', 157), ('new', 153), ('nelsonmandela', 148), ('medvedev', 144), ('minister', 142), ('press', 140), ('secretary', 136), ('live', 135), ('chief', 130), ('cabinet', 130), ('meeting', 122), ('us', 117), ('prime', 115), ('nhttp', 113), ('today', 111), ('english', 110), ('people', 110), ('india', 99), ('bcim', 95), ('first', 89), ('day', 89), ('putin', 84), ('eu', 83), ('time', 81), ('dmitry', 80), ('america', 79), ('february', 78), ('state', 77), ('economic', 77), ('photo', 74), ('suga', 73), ('barackobama', 72), ('vladimir', 71), ('january', 70)]\n",
            "#W_ADDED: 6\n",
            "Train on 5417 samples, validate on 2322 samples\n",
            "Epoch 1/5\n",
            "5417/5417 [==============================] - 2s 410us/step - loss: 0.6919 - acc: 0.5230 - val_loss: 0.6455 - val_acc: 0.6624\n",
            "Epoch 2/5\n",
            "5417/5417 [==============================] - 2s 296us/step - loss: 0.6145 - acc: 0.6734 - val_loss: 0.5415 - val_acc: 0.7407\n",
            "Epoch 3/5\n",
            "5417/5417 [==============================] - 2s 306us/step - loss: 0.5081 - acc: 0.7469 - val_loss: 0.4737 - val_acc: 0.7550\n",
            "Epoch 4/5\n",
            "5417/5417 [==============================] - 2s 311us/step - loss: 0.4059 - acc: 0.7992 - val_loss: 0.4269 - val_acc: 0.8105\n",
            "Epoch 5/5\n",
            "5417/5417 [==============================] - 2s 310us/step - loss: 0.3453 - acc: 0.8348 - val_loss: 0.3800 - val_acc: 0.8234\n"
          ],
          "name": "stdout"
        },
        {
          "output_type": "stream",
          "text": [
            "1714it [00:00, 17136.87it/s]"
          ],
          "name": "stderr"
        },
        {
          "output_type": "stream",
          "text": [
            "------------ crawl-fasttext------------\n"
          ],
          "name": "stdout"
        },
        {
          "output_type": "stream",
          "text": [
            "999995it [00:57, 17245.12it/s]\n",
            "983it [00:00, 9824.62it/s]"
          ],
          "name": "stderr"
        },
        {
          "output_type": "stream",
          "text": [
            "Vocab len =  577359\n"
          ],
          "name": "stdout"
        },
        {
          "output_type": "stream",
          "text": [
            "6490it [00:00, 9614.39it/s]\n",
            "920it [00:00, 9191.57it/s]"
          ],
          "name": "stderr"
        },
        {
          "output_type": "stream",
          "text": [
            "\n",
            "Sports # freq  [('indvaus', 347), ('bbl02', 192), ('bigfinals', 163), ('gbfedcup', 93), ('ausopen', 80), ('ausgp', 61), ('f1', 60), ('nzveng', 57), ('bbcfootball', 39), ('ryobiodc', 34), ('wwc13', 32), ('cantwaitforausgp', 29), ('ausavengl', 25), ('capitalonecup', 22), ('ct13', 21), ('savpak', 20), ('ausveng', 19), ('3peat', 19), ('fl125', 19), ('testcricket', 17)]\n",
            "Politics # freq  [('nelsonmandela', 146), ('seckerry', 56), ('ep', 48), ('bcim2013', 43), ('jobsnow', 32), ('eu', 28), ('haroldholzer', 25), ('keepwhatureap', 25), ('euco', 22), ('wedemandavote', 22), ('cantafford4more', 21), ('eubudget', 18), ('disabilityrights', 17), ('euspeech', 15), ('ff', 14), ('pmindia', 12), ('jobsnotcuts', 11), ('nowisthetime', 11), ('bigsociety', 10), ('jobsovercuts', 9)]\n"
          ],
          "name": "stdout"
        },
        {
          "output_type": "stream",
          "text": [
            "6490it [00:00, 9113.78it/s]\n",
            "207it [00:00, 2069.02it/s]"
          ],
          "name": "stderr"
        },
        {
          "output_type": "stream",
          "text": [
            "\n",
            "Sports top accounts # freq  [('@BCCI', 201), ('@AustralianOpen', 55), ('@DjokerNole', 40), ('@ausgrandprix', 38), ('@HeatBBL', 28), ('@ScorchersBBL', 27), ('@RafaelNadal', 25), ('@bbc5live', 24), ('@andy_murray', 23), ('@BBCSport', 21), ('@CapitalOne_Cup', 21), ('@StarsBBL', 16), ('@cricketicc', 16), ('@JP_Trophy', 15), ('@AaronFinch5', 15), ('@cricketwallah', 13), ('@NextGenSeries', 13), ('@ESPNStatsInfo', 13), ('@espn', 13), ('@HeatherWatson92', 13)]\n",
            "Politics top accounts  [('@BarackObama', 72), ('@PMOIndia', 58), ('@CONX', 29), ('@ForeignAffairs', 20), ('@whitehouse', 16), ('@State_DRL', 16), ('@UVA', 15), ('@MedvedevRussiaE', 15), ('@PaulRyanVP', 14), ('@milinddeora', 13), ('@fhollande', 11), ('@BDUTT', 11), ('@StateDept', 10), ('@PresidencyZA', 10), ('@Europarltv', 10), ('@FA_books', 10), ('@ShashiTharoor', 10), ('@FeedtheFuture', 10), ('@karincaifaCNN', 9), ('@brownbrumby', 8)]\n"
          ],
          "name": "stdout"
        },
        {
          "output_type": "stream",
          "text": [
            "6490it [00:03, 2055.08it/s]\n"
          ],
          "name": "stderr"
        },
        {
          "output_type": "stream",
          "text": [
            "[('score', 576), ('rt', 410), ('indvaus', 347), ('test', 317), ('bcci', 202), ('runs', 196), ('bbl', 196), ('atp', 183), ('bigfinals', 165), ('cfc', 162), ('tennis', 146), ('final', 142), ('win', 142), ('first', 139), ('aus', 135), ('india', 134), ('day', 121), ('game', 120), ('team', 117), ('thanks', 107), ('great', 106), ('time', 106), ('australia', 105), ('one', 105), ('england', 103), ('cricket', 101), ('gbfedcup', 93), ('match', 92), ('back', 90), ('see', 89), ('new', 87), ('good', 85), ('v', 84), ('get', 83), ('today', 83), ('wicket', 82), ('live', 82), ('ausopen', 80), ('watch', 79), ('play', 79)]\n",
            "[('president', 345), ('rt', 315), ('obama', 276), ('pm', 267), ('u2019s', 164), ('conference', 159), ('video', 157), ('new', 153), ('nelsonmandela', 148), ('medvedev', 144), ('minister', 142), ('press', 140), ('secretary', 136), ('live', 135), ('chief', 130), ('cabinet', 130), ('meeting', 122), ('us', 117), ('prime', 115), ('nhttp', 113), ('today', 111), ('english', 110), ('people', 110), ('india', 99), ('bcim', 95), ('first', 89), ('day', 89), ('putin', 84), ('eu', 83), ('time', 81), ('dmitry', 80), ('america', 79), ('february', 78), ('state', 77), ('economic', 77), ('photo', 74), ('suga', 73), ('barackobama', 72), ('vladimir', 71), ('january', 70)]\n",
            "#W_ADDED: 6\n",
            "Train on 5417 samples, validate on 2322 samples\n",
            "Epoch 1/5\n",
            "5417/5417 [==============================] - 2s 429us/step - loss: 0.6959 - acc: 0.5042 - val_loss: 0.6933 - val_acc: 0.5095\n",
            "Epoch 2/5\n",
            "5417/5417 [==============================] - 2s 306us/step - loss: 0.6934 - acc: 0.5051 - val_loss: 0.6943 - val_acc: 0.4905\n",
            "Epoch 3/5\n",
            "5417/5417 [==============================] - 2s 312us/step - loss: 0.6943 - acc: 0.4986 - val_loss: 0.6930 - val_acc: 0.5095\n",
            "Epoch 4/5\n",
            "5417/5417 [==============================] - 2s 306us/step - loss: 0.6936 - acc: 0.5047 - val_loss: 0.6935 - val_acc: 0.4918\n",
            "Epoch 5/5\n",
            "5417/5417 [==============================] - 2s 303us/step - loss: 0.6929 - acc: 0.5025 - val_loss: 0.6928 - val_acc: 0.5095\n"
          ],
          "name": "stdout"
        }
      ]
    },
    {
      "cell_type": "code",
      "metadata": {
        "id": "nV5I2Ywb7ka4",
        "colab_type": "code",
        "outputId": "1b48da22-a4c1-44ee-dd53-e7ace6f59cc5",
        "colab": {
          "base_uri": "https://localhost:8080/",
          "height": 422
        }
      },
      "source": [
        "l1 = history50d.history['val_loss']\n",
        "l2 = history100d.history['val_loss']\n",
        "l3 = history200d.history['val_loss']\n",
        "l4 = historywikift.history['val_loss']\n",
        "l5 = historycrawlft.history['val_loss']\n",
        "\n",
        "\n",
        "acc1 = history50d.history['val_acc']\n",
        "acc2 = history100d.history['val_acc']\n",
        "acc3 = history200d.history['val_acc']\n",
        "acc4 = historywikift.history['val_acc']\n",
        "acc5 = historycrawlft.history['val_acc']\n",
        "\n",
        "fig, ax = plt.subplots(1, 2, figsize = (6,6))\n",
        "fig.set_size_inches(15,6)\n",
        "\n",
        "length = np.arange(len(l1))\n",
        "\n",
        "print('Loss/Acc of different embedding vectors')\n",
        "\n",
        "sns.lineplot(y= l1, x = length, label = 'glove50d_loss', color = 'r', ax= ax[0])\n",
        "sns.lineplot(y= l2, x = length, label = 'glove100d_loss', color = 'b',  ax= ax[0])\n",
        "sns.lineplot(y= l3, x = length, label = 'glove200d_loss', color = 'g', ax= ax[0])\n",
        "sns.lineplot(y= l4, x = length, label = 'wikifasttext_loss', color = 'm', ax= ax[0])\n",
        "sns.lineplot(y= l5, x = length, label = 'crawlfasttext_loss', color = 'c', ax= ax[0])\n",
        "ax[0].set_xlabel('epochs')\n",
        "ax[0].set_ylabel('loss')\n",
        "\n",
        "sns.lineplot(y= acc1, x = length, label = 'glove50d_acc', color = 'r', ax= ax[1])\n",
        "sns.lineplot(y= acc2, x = length, label = 'glove100d_acc', color = 'b',  ax= ax[1])\n",
        "sns.lineplot(y= acc3, x = length, label = 'glove200d_acc', color = 'g', ax= ax[1])\n",
        "sns.lineplot(y= acc4, x = length, label = 'wikifasttext_acc', color = 'm', ax= ax[1])\n",
        "sns.lineplot(y= acc5, x = length, label = 'crawlfasttext_acc', color = 'c', ax= ax[1])\n",
        "ax[1].set_xlabel('epochs')\n",
        "ax[1].set_ylabel('acc')"
      ],
      "execution_count": 0,
      "outputs": [
        {
          "output_type": "stream",
          "text": [
            "Loss/Acc of different embedding vectors\n"
          ],
          "name": "stdout"
        },
        {
          "output_type": "execute_result",
          "data": {
            "text/plain": [
              "Text(0, 0.5, 'acc')"
            ]
          },
          "metadata": {
            "tags": []
          },
          "execution_count": 79
        },
        {
          "output_type": "display_data",
          "data": {
            "image/png": "[encoded data removed]",
            "text/plain": [
              "<Figure size 1080x432 with 2 Axes>"
            ]
          },
          "metadata": {
            "tags": []
          }
        }
      ]
    },
    {
      "cell_type": "code",
      "metadata": {
        "id": "dfz7Aaz0H2sv",
        "colab_type": "code",
        "outputId": "c767efac-d2a3-4d19-9d65-8d5ec448f370",
        "colab": {
          "base_uri": "https://localhost:8080/",
          "height": 285
        }
      },
      "source": [
        "# The glove 100d seems having the best performance\n",
        "vocab, w2v, i2w, w2i = get_emb(train, i = 100)"
      ],
      "execution_count": 28,
      "outputs": [
        {
          "output_type": "stream",
          "text": [
            "400000it [00:10, 37736.74it/s]\n",
            "912it [00:00, 9113.66it/s]"
          ],
          "name": "stderr"
        },
        {
          "output_type": "stream",
          "text": [
            "Vocab len =  316950\n"
          ],
          "name": "stdout"
        },
        {
          "output_type": "stream",
          "text": [
            "6490it [00:00, 8922.43it/s]\n",
            "837it [00:00, 8362.39it/s]"
          ],
          "name": "stderr"
        },
        {
          "output_type": "stream",
          "text": [
            "\n",
            "Sports # freq  [('indvaus', 347), ('bbl02', 192), ('bigfinals', 163), ('gbfedcup', 93), ('ausopen', 80), ('ausgp', 61), ('f1', 60), ('nzveng', 57), ('bbcfootball', 39), ('ryobiodc', 34), ('wwc13', 32), ('cantwaitforausgp', 29), ('ausavengl', 25), ('capitalonecup', 22), ('ct13', 21), ('savpak', 20), ('ausveng', 19), ('3peat', 19), ('fl125', 19), ('testcricket', 17)]\n",
            "Politics # freq  [('nelsonmandela', 146), ('seckerry', 56), ('ep', 48), ('bcim2013', 43), ('sotu', 35), ('jobsnow', 32), ('eu', 28), ('haroldholzer', 25), ('keepwhatureap', 25), ('euco', 22), ('wedemandavote', 22), ('cantafford4more', 21), ('eubudget', 18), ('disabilityrights', 17), ('euspeech', 15), ('ff', 14), ('pmindia', 12), ('jobsnotcuts', 11), ('nowisthetime', 11), ('bigsociety', 10)]\n"
          ],
          "name": "stdout"
        },
        {
          "output_type": "stream",
          "text": [
            "6490it [00:00, 8830.89it/s]\n",
            "206it [00:00, 2052.57it/s]"
          ],
          "name": "stderr"
        },
        {
          "output_type": "stream",
          "text": [
            "\n",
            "Sports top accounts # freq  [('@BCCI', 201), ('@AustralianOpen', 55), ('@DjokerNole', 40), ('@ausgrandprix', 38), ('@HeatBBL', 28), ('@ScorchersBBL', 27), ('@RafaelNadal', 25), ('@bbc5live', 24), ('@andy_murray', 23), ('@BBCSport', 21), ('@CapitalOne_Cup', 21), ('@StarsBBL', 16), ('@cricketicc', 16), ('@JP_Trophy', 15), ('@AaronFinch5', 15), ('@cricketwallah', 13), ('@NextGenSeries', 13), ('@ESPNStatsInfo', 13), ('@espn', 13), ('@HeatherWatson92', 13)]\n",
            "Politics top accounts  [('@BarackObama', 72), ('@PMOIndia', 58), ('@CONX', 29), ('@ForeignAffairs', 20), ('@whitehouse', 16), ('@State_DRL', 16), ('@UVA', 15), ('@MedvedevRussiaE', 15), ('@PaulRyanVP', 14), ('@milinddeora', 13), ('@fhollande', 11), ('@BDUTT', 11), ('@StateDept', 10), ('@PresidencyZA', 10), ('@Europarltv', 10), ('@FA_books', 10), ('@ShashiTharoor', 10), ('@FeedtheFuture', 10), ('@karincaifaCNN', 9), ('@brownbrumby', 8)]\n"
          ],
          "name": "stdout"
        },
        {
          "output_type": "stream",
          "text": [
            "6490it [00:03, 1981.87it/s]\n"
          ],
          "name": "stderr"
        },
        {
          "output_type": "stream",
          "text": [
            "[('score', 576), ('rt', 410), ('indvaus', 347), ('test', 317), ('bcci', 202), ('runs', 196), ('bbl', 196), ('atp', 183), ('bigfinals', 165), ('cfc', 162), ('tennis', 146), ('final', 142), ('win', 142), ('first', 139), ('aus', 135), ('india', 134), ('day', 121), ('game', 120), ('team', 117), ('thanks', 107), ('great', 106), ('time', 106), ('australia', 105), ('one', 105), ('england', 103), ('cricket', 101), ('gbfedcup', 93), ('match', 92), ('back', 90), ('see', 89), ('new', 87), ('good', 85), ('v', 84), ('get', 83), ('today', 83), ('wicket', 82), ('live', 82), ('ausopen', 80), ('watch', 79), ('play', 79)]\n",
            "[('president', 345), ('rt', 315), ('obama', 276), ('pm', 267), ('u2019s', 164), ('conference', 159), ('video', 157), ('new', 153), ('nelsonmandela', 148), ('medvedev', 144), ('minister', 142), ('press', 140), ('secretary', 136), ('live', 135), ('chief', 130), ('cabinet', 130), ('meeting', 122), ('us', 117), ('prime', 115), ('nhttp', 113), ('today', 111), ('english', 110), ('people', 110), ('india', 99), ('bcim', 95), ('first', 89), ('day', 89), ('putin', 84), ('eu', 83), ('time', 81), ('dmitry', 80), ('america', 79), ('february', 78), ('state', 77), ('economic', 77), ('photo', 74), ('suga', 73), ('barackobama', 72), ('vladimir', 71), ('january', 70)]\n",
            "#W_ADDED: 7\n"
          ],
          "name": "stdout"
        }
      ]
    },
    {
      "cell_type": "markdown",
      "metadata": {
        "id": "bw7fHyfU4FRd",
        "colab_type": "text"
      },
      "source": [
        "#### Error analysis\n",
        "<a id=\"c33\"></a>"
      ]
    },
    {
      "cell_type": "code",
      "metadata": {
        "id": "KjvKLKtvCQXQ",
        "colab_type": "code",
        "outputId": "d98c2d51-83e6-441d-d796-881a4449308c",
        "colab": {
          "base_uri": "https://localhost:8080/",
          "height": 720
        }
      },
      "source": [
        "#Checking errors in the train set\n",
        "lb = LabelEncoder()\n",
        "lb.fit(train.Label)\n",
        "\n",
        "y_pred = tweetModel.predict(x_train, batch_size= 20)\n",
        "label = []\n",
        "\n",
        "for y in y_pred:\n",
        "  if y > .5:\n",
        "    label.append(\"Sports\")\n",
        "  else:\n",
        "    label.append(\"Politics\") \n",
        "\n",
        "y_train = pd.Series(lb.inverse_transform(Y_train.astype(int)), name = 'Label', index = X_train.index)\n",
        "\n",
        "label = pd.DataFrame(label, columns=[\"predLabel\"], index = X_train.index)\n",
        "res = pd.concat([X_train, label, y_train], axis=1)\n",
        "res = res.loc[res.predLabel != res.Label]\n",
        "pd.set_option('display.max_colwidth', -1)\n",
        "\n",
        "\n",
        "display(res)\n",
        "sns.countplot(res.Label)"
      ],
      "execution_count": 0,
      "outputs": [
        {
          "output_type": "display_data",
          "data": {
            "text/html": [
              "<div>\n",
              "<style scoped>\n",
              "    .dataframe tbody tr th:only-of-type {\n",
              "        vertical-align: middle;\n",
              "    }\n",
              "\n",
              "    .dataframe tbody tr th {\n",
              "        vertical-align: top;\n",
              "    }\n",
              "\n",
              "    .dataframe thead th {\n",
              "        text-align: right;\n",
              "    }\n",
              "</style>\n",
              "<table border=\"1\" class=\"dataframe\">\n",
              "  <thead>\n",
              "    <tr style=\"text-align: right;\">\n",
              "      <th></th>\n",
              "      <th>TweetText</th>\n",
              "      <th>predLabel</th>\n",
              "      <th>Label</th>\n",
              "    </tr>\n",
              "  </thead>\n",
              "  <tbody>\n",
              "    <tr>\n",
              "      <th>2510</th>\n",
              "      <td>'For #snow updates this weekend - follow @WinterHighways and @MetOffice #FF'</td>\n",
              "      <td>Sports</td>\n",
              "      <td>Politics</td>\n",
              "    </tr>\n",
              "    <tr>\n",
              "      <th>3672</th>\n",
              "      <td>'RT @bisgovuk: Pose @Nigel_Shadbolt your questions on #midata in advance of a Twitter Q&amp;amp;A this Wednesday from 1-2pm using #askmidata ...'</td>\n",
              "      <td>Sports</td>\n",
              "      <td>Politics</td>\n",
              "    </tr>\n",
              "    <tr>\n",
              "      <th>3134</th>\n",
              "      <td>'@100rabhsinha ha ha thanks :)'</td>\n",
              "      <td>Sports</td>\n",
              "      <td>Politics</td>\n",
              "    </tr>\n",
              "    <tr>\n",
              "      <th>5909</th>\n",
              "      <td>'Two blasts in Dilsukh Nagar in Hyderabad, several casualties, 5o reported injured.'</td>\n",
              "      <td>Sports</td>\n",
              "      <td>Politics</td>\n",
              "    </tr>\n",
              "    <tr>\n",
              "      <th>5738</th>\n",
              "      <td>Happy Presidents' Day! http://t.co/CnSkCqXv</td>\n",
              "      <td>Sports</td>\n",
              "      <td>Politics</td>\n",
              "    </tr>\n",
              "    <tr>\n",
              "      <th>...</th>\n",
              "      <td>...</td>\n",
              "      <td>...</td>\n",
              "      <td>...</td>\n",
              "    </tr>\n",
              "    <tr>\n",
              "      <th>4000</th>\n",
              "      <td>'Of course, this spot will have the best view of the Inauguration parade http://t.co/iI3hifO5'</td>\n",
              "      <td>Sports</td>\n",
              "      <td>Politics</td>\n",
              "    </tr>\n",
              "    <tr>\n",
              "      <th>6015</th>\n",
              "      <td>'@SalmanWood why do you care or pay attention to fools'</td>\n",
              "      <td>Sports</td>\n",
              "      <td>Politics</td>\n",
              "    </tr>\n",
              "    <tr>\n",
              "      <th>6251</th>\n",
              "      <td>@dasmathur that's the fear. Numbed into no feeling</td>\n",
              "      <td>Sports</td>\n",
              "      <td>Politics</td>\n",
              "    </tr>\n",
              "    <tr>\n",
              "      <th>5411</th>\n",
              "      <td>'\"The demand has never been the release of #Mandela as an individual, the demand has been the release of all political prisoners\" #Madiba'</td>\n",
              "      <td>Sports</td>\n",
              "      <td>Politics</td>\n",
              "    </tr>\n",
              "    <tr>\n",
              "      <th>3566</th>\n",
              "      <td>'@SandipGhose always ! :-) thanks'</td>\n",
              "      <td>Sports</td>\n",
              "      <td>Politics</td>\n",
              "    </tr>\n",
              "  </tbody>\n",
              "</table>\n",
              "<p>127 rows × 3 columns</p>\n",
              "</div>"
            ],
            "text/plain": [
              "                                                                                                                                          TweetText  ...     Label\n",
              "2510  'For #snow updates this weekend - follow @WinterHighways and @MetOffice #FF'                                                                   ...  Politics\n",
              "3672  'RT @bisgovuk: Pose @Nigel_Shadbolt your questions on #midata in advance of a Twitter Q&amp;A this Wednesday from 1-2pm using #askmidata ...'  ...  Politics\n",
              "3134  '@100rabhsinha ha ha thanks :)'                                                                                                                ...  Politics\n",
              "5909  'Two blasts in Dilsukh Nagar in Hyderabad, several casualties, 5o reported injured.'                                                           ...  Politics\n",
              "5738  Happy Presidents' Day! http://t.co/CnSkCqXv                                                                                                    ...  Politics\n",
              "...                                           ...                                                                                                    ...       ...\n",
              "4000  'Of course, this spot will have the best view of the Inauguration parade http://t.co/iI3hifO5'                                                 ...  Politics\n",
              "6015  '@SalmanWood why do you care or pay attention to fools'                                                                                        ...  Politics\n",
              "6251  @dasmathur that's the fear. Numbed into no feeling                                                                                             ...  Politics\n",
              "5411  '\"The demand has never been the release of #Mandela as an individual, the demand has been the release of all political prisoners\" #Madiba'     ...  Politics\n",
              "3566  '@SandipGhose always ! :-) thanks'                                                                                                             ...  Politics\n",
              "\n",
              "[127 rows x 3 columns]"
            ]
          },
          "metadata": {
            "tags": []
          }
        },
        {
          "output_type": "execute_result",
          "data": {
            "text/plain": [
              "<matplotlib.axes._subplots.AxesSubplot at 0x7fabcf641cc0>"
            ]
          },
          "metadata": {
            "tags": []
          },
          "execution_count": 61
        },
        {
          "output_type": "display_data",
          "data": {
            "image/png": "[encoded data removed]",
            "text/plain": [
              "<Figure size 432x288 with 1 Axes>"
            ]
          },
          "metadata": {
            "tags": []
          }
        }
      ]
    },
    {
      "cell_type": "code",
      "metadata": {
        "id": "iFFQHPT-CHC1",
        "colab_type": "code",
        "outputId": "79c22d4f-a026-4af2-9bfa-2a00090cb263",
        "colab": {
          "base_uri": "https://localhost:8080/",
          "height": 703
        }
      },
      "source": [
        "# #Checking errors in the dev set\n",
        "y_pred = tweetModel.predict(x_dev, batch_size=20)\n",
        "label = []\n",
        "\n",
        "for y in y_pred:\n",
        "  if y > .5:\n",
        "    label.append(\"Sports\")\n",
        "  else:\n",
        "    label.append(\"Politics\")\n",
        "  \n",
        "label= pd.DataFrame(label, index = X_dev.index, columns=[\"predLabel\"])\n",
        "y_dev = pd.Series(lb.inverse_transform(Y_dev.astype(int)), name = 'Label', index = X_dev.index)\n",
        "res = pd.concat([X_dev,  y_dev, label], axis=1)\n",
        "res = res.loc[res.predLabel != res.Label]\n",
        "pd.set_option('display.max_colwidth', -1)\n",
        "\n",
        "display(res)\n",
        "sns.countplot(res.Label)"
      ],
      "execution_count": 0,
      "outputs": [
        {
          "output_type": "display_data",
          "data": {
            "text/html": [
              "<div>\n",
              "<style scoped>\n",
              "    .dataframe tbody tr th:only-of-type {\n",
              "        vertical-align: middle;\n",
              "    }\n",
              "\n",
              "    .dataframe tbody tr th {\n",
              "        vertical-align: top;\n",
              "    }\n",
              "\n",
              "    .dataframe thead th {\n",
              "        text-align: right;\n",
              "    }\n",
              "</style>\n",
              "<table border=\"1\" class=\"dataframe\">\n",
              "  <thead>\n",
              "    <tr style=\"text-align: right;\">\n",
              "      <th></th>\n",
              "      <th>TweetText</th>\n",
              "      <th>Label</th>\n",
              "      <th>predLabel</th>\n",
              "    </tr>\n",
              "  </thead>\n",
              "  <tbody>\n",
              "    <tr>\n",
              "      <th>1720</th>\n",
              "      <td>'@bhupendrachaube didnt check !'</td>\n",
              "      <td>Politics</td>\n",
              "      <td>Sports</td>\n",
              "    </tr>\n",
              "    <tr>\n",
              "      <th>1555</th>\n",
              "      <td>Catch up with the day's events at #Davos http://t.co/RV9RBGxR #WEF</td>\n",
              "      <td>Politics</td>\n",
              "      <td>Sports</td>\n",
              "    </tr>\n",
              "    <tr>\n",
              "      <th>3728</th>\n",
              "      <td>'Find out what MEPs are on our Twitter in our handy list http://t.co/tE62BhqrPb'</td>\n",
              "      <td>Politics</td>\n",
              "      <td>Sports</td>\n",
              "    </tr>\n",
              "    <tr>\n",
              "      <th>5800</th>\n",
              "      <td>It's written by @joshualoveridge</td>\n",
              "      <td>Sports</td>\n",
              "      <td>Politics</td>\n",
              "    </tr>\n",
              "    <tr>\n",
              "      <th>5873</th>\n",
              "      <td>'@szliu thanks!'</td>\n",
              "      <td>Politics</td>\n",
              "      <td>Sports</td>\n",
              "    </tr>\n",
              "    <tr>\n",
              "      <th>...</th>\n",
              "      <td>...</td>\n",
              "      <td>...</td>\n",
              "      <td>...</td>\n",
              "    </tr>\n",
              "    <tr>\n",
              "      <th>527</th>\n",
              "      <td>None of the progress the President spoke about last night is going to happen without you behind him. Say you're in: http://t.co/7mFutzKV</td>\n",
              "      <td>Politics</td>\n",
              "      <td>Sports</td>\n",
              "    </tr>\n",
              "    <tr>\n",
              "      <th>4224</th>\n",
              "      <td>'@Brats01 @nitingokhale :- ) mercifully sardars have a great sense of humour'</td>\n",
              "      <td>Politics</td>\n",
              "      <td>Sports</td>\n",
              "    </tr>\n",
              "    <tr>\n",
              "      <th>3202</th>\n",
              "      <td>'@bhuto ha ha now that is pushing it'</td>\n",
              "      <td>Politics</td>\n",
              "      <td>Sports</td>\n",
              "    </tr>\n",
              "    <tr>\n",
              "      <th>5808</th>\n",
              "      <td>'\\u201cHope is found in what works. This works. If you\\u2019re looking for a good bang for your educational buck\\u2014this is it.\\u201d \\u2014Obama on expanding Pre-K'</td>\n",
              "      <td>Politics</td>\n",
              "      <td>Sports</td>\n",
              "    </tr>\n",
              "    <tr>\n",
              "      <th>2110</th>\n",
              "      <td>'I love @HeadlinesToday\\'s promo for \"Right to be Heard\". Very well done guys'</td>\n",
              "      <td>Politics</td>\n",
              "      <td>Sports</td>\n",
              "    </tr>\n",
              "  </tbody>\n",
              "</table>\n",
              "<p>125 rows × 3 columns</p>\n",
              "</div>"
            ],
            "text/plain": [
              "                                                                                                                                                                    TweetText  ... predLabel\n",
              "1720  '@bhupendrachaube didnt check !'                                                                                                                                         ...  Sports  \n",
              "1555  Catch up with the day's events at #Davos http://t.co/RV9RBGxR #WEF                                                                                                       ...  Sports  \n",
              "3728  'Find out what MEPs are on our Twitter in our handy list http://t.co/tE62BhqrPb'                                                                                         ...  Sports  \n",
              "5800  It's written by @joshualoveridge                                                                                                                                         ...  Politics\n",
              "5873  '@szliu thanks!'                                                                                                                                                         ...  Sports  \n",
              "...                ...                                                                                                                                                         ...     ...  \n",
              "527   None of the progress the President spoke about last night is going to happen without you behind him. Say you're in: http://t.co/7mFutzKV                                 ...  Sports  \n",
              "4224  '@Brats01 @nitingokhale :- ) mercifully sardars have a great sense of humour'                                                                                            ...  Sports  \n",
              "3202  '@bhuto ha ha now that is pushing it'                                                                                                                                    ...  Sports  \n",
              "5808  '\\u201cHope is found in what works. This works. If you\\u2019re looking for a good bang for your educational buck\\u2014this is it.\\u201d \\u2014Obama on expanding Pre-K'  ...  Sports  \n",
              "2110  'I love @HeadlinesToday\\'s promo for \"Right to be Heard\". Very well done guys'                                                                                           ...  Sports  \n",
              "\n",
              "[125 rows x 3 columns]"
            ]
          },
          "metadata": {
            "tags": []
          }
        },
        {
          "output_type": "execute_result",
          "data": {
            "text/plain": [
              "<matplotlib.axes._subplots.AxesSubplot at 0x7fabcdf12208>"
            ]
          },
          "metadata": {
            "tags": []
          },
          "execution_count": 62
        },
        {
          "output_type": "display_data",
          "data": {
            "image/png": "[encoded data removed]",
            "text/plain": [
              "<Figure size 432x288 with 1 Axes>"
            ]
          },
          "metadata": {
            "tags": []
          }
        }
      ]
    },
    {
      "cell_type": "markdown",
      "metadata": {
        "id": "b89B_R7qOAb4",
        "colab_type": "text"
      },
      "source": [
        "The model is not doing great on the politics prediction, we can see a lot of ambiguious examples where even humans wouldn't get it right.\n",
        "\n",
        "\n",
        "Also it's clear that there is somme wrong labels are assigned to the data"
      ]
    },
    {
      "cell_type": "code",
      "metadata": {
        "id": "-sJDh7t3C370",
        "colab_type": "code",
        "colab": {}
      },
      "source": [
        "#Label mismatch correction\n",
        "\n",
        "# # After multiple iteration using different settings and random states,\n",
        "# # We've noticed multiple data having the wrong labels\n",
        "# # Note that the previous results happens after this \"correction\"\n",
        "\n",
        "\"\"\"\n",
        "This sentences should be sports instead of politics\n",
        "  'Congrats to Brandt Snedeker on his win of the tour championship and FedEx Cup. He is a class act.'\t5517\n",
        "  'Congrats to the Detroit @Tigers on making it to the World Series! Part of the heart and soul of Detroit.': 1021\n",
        "  ?'Chat with @angelahucles, former @ussoccer_wnt member, 2x Olympic gold medalist &amp; World Cup athlete 2/21 @CONX: http://t.co/lJJHxkiMOC #LGBT'\t \n",
        "  'Cricket fever in cambodia http://t.co/fu2GUtmx' 5314\n",
        "  'Our team will be blogging regularly from the BCIM Car Rally on our blog: http://t.co/bWg0NWOh'\t 4682\n",
        "  1043\t'Meeting with representatives of student sports clubs: funding of sports and physical training at universities http://t.co/DiNwdCdq'\n",
        "  5421\t'Players like Jermaine Jones make #Football more popular in the US. http://t.co/E39aIHNf @USConGenNRW #Schalke04\n",
        "  290\t'Players like Jermaine Jones introduce more #US fans to the beautiful game. http://t.co/E39aIHNf #football @SportsDiplomacy'\n",
        "  3004 @PeculiarBlend @HRCIndia will be in Delhi. Who's playing and in which city?\tsports\n",
        "  4182 'Players like Jermaine Jones introduce more #US fans to the beautiful game. http://t.co/E39aIHNf #football @usbotschaft'\t\n",
        "\n",
        "\n",
        "This sentences should be politics instead of sports  \n",
        "  'RT @ranjona: Time to confront child sex abuse: my column for Mid-Day @mid_day @SachinKalbag http://t.co/UkCSZLlnI8'\t\n",
        "  '@rossgrosvenor Hi Ross - yes, important to remember others so we mentioned journalists, club staff, crew &amp; passengers also lost their lives'\t:6282\n",
        "  'Foxes support mental health campaign http://t.co/cyyhJylZcz' :3415\n",
        "  According to @Klout, @FollowTheAshes's Klout score is 25. How influential are you? http://t.co/2DBiECf\t:4720\n",
        "  'RT @amlahash: One of the challenges of life is addressing our own hypocrisy and also.. handling the hypocrisy of others.'\t1634\n",
        "  4766\tHappy President's Day! -&gt; http://t.co/ycLQ9Fep\n",
        "  2492\t'RT @abdullah_omar: There is NO ban on newspapers in Kashmir. Papers are choosing not to print because restrictions make delivery of news ...'\n",
        "  5086\t'RT @BDUTT: Newspapers make a return to the stands in Kashmir valley after four days as a partial lifting of restrictions begins'\t\n",
        "  1634\t'RT @amlahash: One of the challenges of life is addressing our own hypocrisy and also.. handling the hypocrisy of others.'\t \n",
        "  2564\t'Reistrations open for #AusGP Driving Careers, Driving Success seminars. Inspire next gen of engineers &amp; manufacturers http://t.co/Fa1nxV0ulZ\n",
        "  1434\t@allsopp162 @kashd23 it's a recognition that recreational drugs are used by people in society, but we of course do not condone it\t\n",
        "  \n",
        "\n",
        "This sentence label was clearly determined by @PaulRyanVP a politician\n",
        "  'Sign up for your chance to score a guitar signed by @KidRock and @PaulRyanVP http://t.co/XztAFdep' : 267\n",
        "  \n",
        "\"\"\"\n",
        "\n",
        "p2s_inds = [5517, 5314, 1021, 4682, 1043, 5421, 290, 3004, 4182]\n",
        "train.loc[p2s_inds, 'Label'] = \"Sports\"\n",
        "\n",
        "\n",
        "s2p_inds = [ 2746, 267, 6282, 3415, 4720, 1634, 4766, 2492, 5086, 2564, 1434]\n",
        "train.loc[s2p_inds, 'Label'] = \"Politics\"\n",
        "\n"
      ],
      "execution_count": 0,
      "outputs": []
    },
    {
      "cell_type": "markdown",
      "metadata": {
        "id": "JZwyltz6RL81",
        "colab_type": "text"
      },
      "source": [
        "#### Fine-Tuning\n",
        "<a id=\"c34\"></a>"
      ]
    },
    {
      "cell_type": "code",
      "metadata": {
        "id": "9u3wz83ARWM0",
        "colab_type": "code",
        "colab": {}
      },
      "source": [
        "#Defining the hyperparams search space\n",
        "\n",
        "# Hyperparams:\n",
        "## lstm activation dim = n_a, learning_rate = lr, epochs, DROPOUT,  R_DROPOUT\n",
        "## The decay as rule of thumb = lr/10\n",
        "\n",
        "batch_size = [32, 64 ,128]\n",
        "epochs = [5, 10]\n",
        "lr = [0.001, 0.01]\n",
        "\n",
        "n_a = [32, 64, 128]\n",
        "DROPOUT = [0, 0.2, 0.5]\n",
        "R_DROPOUT = [0, 0.2]\n",
        "\n",
        "# we have 216 combinaisons we'll only explore a random subset of 10\n",
        "\n",
        "param_grid = dict(    \n",
        "    batch_size = batch_size,\n",
        "    epochs = epochs,\n",
        "    lr = lr,\n",
        "    n_a = n_a,    \n",
        "    DROPOUT = DROPOUT,\n",
        "    R_DROPOUT = R_DROPOUT\n",
        "        \n",
        ")\n",
        "\n",
        "\n",
        "#Hyperparam tuning\n",
        "model = KerasClassifier(build_fn = TweetModel, verbose = 0)\n",
        "grid = RandomizedSearchCV(estimator=model, param_distributions=param_grid, n_iter = 10, cv= 3, verbose = 0)\n",
        "tweets = np.concatenate([x_train, x_dev])\n",
        "labels = np.concatenate([y_train, y_dev])\n",
        "tweetModel_result = grid.fit(tweets, labels)"
      ],
      "execution_count": 0,
      "outputs": []
    },
    {
      "cell_type": "code",
      "metadata": {
        "id": "Tqr0QPZZeDCS",
        "colab_type": "code",
        "outputId": "73b39512-2296-49d2-c309-82cca396d605",
        "colab": {
          "base_uri": "https://localhost:8080/",
          "height": 119
        }
      },
      "source": [
        "tweetModel_result.best_params_"
      ],
      "execution_count": 0,
      "outputs": [
        {
          "output_type": "execute_result",
          "data": {
            "text/plain": [
              "{'DROPOUT': 0.2,\n",
              " 'R_DROPOUT': 0,\n",
              " 'batch_size': 32,\n",
              " 'epochs': 10,\n",
              " 'lr': 0.001,\n",
              " 'n_a': 64}"
            ]
          },
          "metadata": {
            "tags": []
          },
          "execution_count": 183
        }
      ]
    },
    {
      "cell_type": "code",
      "metadata": {
        "id": "VSBAy0ntQxZr",
        "colab_type": "code",
        "outputId": "aba9593e-1d0f-44a1-b8c4-d77c7347e45a",
        "colab": {
          "base_uri": "https://localhost:8080/",
          "height": 51
        }
      },
      "source": [
        "tweetModel_result.best_estimator_.model.evaluate(x_test, Y_test)"
      ],
      "execution_count": 0,
      "outputs": [
        {
          "output_type": "stream",
          "text": [
            "779/779 [==============================] - 6s 8ms/step\n"
          ],
          "name": "stdout"
        },
        {
          "output_type": "execute_result",
          "data": {
            "text/plain": [
              "[0.18563604434241993, 0.9409499361977192]"
            ]
          },
          "metadata": {
            "tags": []
          },
          "execution_count": 190
        }
      ]
    },
    {
      "cell_type": "markdown",
      "metadata": {
        "id": "LB_T6PSnPh9-",
        "colab_type": "text"
      },
      "source": [
        "After tuning we've reduced the loss by 10% !\n",
        "\n",
        "The model is more confident in the predictions."
      ]
    },
    {
      "cell_type": "markdown",
      "metadata": {
        "id": "OvwBqr684fjV",
        "colab_type": "text"
      },
      "source": [
        "#### Evaluation of different architectures\n",
        "<a id=\"c35\"></a>\n",
        "\n",
        "So far we didn't suffer from high bias, but trying more complex architectures will certainly help us capture more complicated features.\n",
        "\n",
        "\n",
        "\n",
        "*   Deeper lstm\n",
        "*   CNN-LSTM\n",
        "\n",
        "\n"
      ]
    },
    {
      "cell_type": "code",
      "metadata": {
        "id": "FsZ7NSbOvJRr",
        "colab_type": "code",
        "colab": {}
      },
      "source": [
        "#Stacked LSTM\n",
        "def StackedLSTM_TweetModel(n_a, n_l, DROPOUT, lr , input_shape =  (25,)):  \n",
        "\n",
        "  sentence_ind = Input(shape = input_shape)  \n",
        "  emb_layer = pretrained_emb()\n",
        "  emb_layer = emb_layer(sentence_ind)\n",
        "  \n",
        "\n",
        "  lstm = Bidirectional(CuDNNLSTM(n_a, name = 'LSTM-1', return_sequences = True))(emb_layer)\n",
        "  lstm = Dropout(DROPOUT)(lstm)\n",
        "  lstm = CuDNNLSTM(n_a, name = 'LSTM-2', return_sequences = True)(lstm)\n",
        "  lstm = Dropout(DROPOUT)(lstm)\n",
        "  lstm = CuDNNLSTM(n_a, name = 'LSTM-3')(lstm)\n",
        "  lstm = Dropout(DROPOUT)(lstm)\n",
        "      \n",
        "  X = Dense(n_l, activation=\"relu\")(lstm)  \n",
        "  X = Dropout(DROPOUT)(X)    \n",
        "\n",
        "  output = Dense(1, activation = \"sigmoid\", name = 'output')(X)\n",
        "  \n",
        "  model = Model(inputs=sentence_ind, outputs= output, name = \"StackedLSTM_TweetModel\")\n",
        "  opt = adam(lr=lr, decay = lr/10)\n",
        "  model.compile(loss= 'binary_crossentropy', optimizer = opt, metrics = [\"accuracy\"])\n",
        "  \n",
        "  return model"
      ],
      "execution_count": 0,
      "outputs": []
    },
    {
      "cell_type": "code",
      "metadata": {
        "id": "NVXGBWgsa9Mw",
        "colab_type": "code",
        "outputId": "b53083ff-f89d-4784-f764-64a320efa196",
        "colab": {
          "base_uri": "https://localhost:8080/",
          "height": 550
        }
      },
      "source": [
        "stackedLSTM_TweetModel = StackedLSTM_TweetModel(64, 32, 0.5, 0.001, (MAXLEN,))\n",
        "stackedLSTM_TweetModel.summary()"
      ],
      "execution_count": 34,
      "outputs": [
        {
          "output_type": "stream",
          "text": [
            "Model: \"StackedLSTM_TweetModel\"\n",
            "_________________________________________________________________\n",
            "Layer (type)                 Output Shape              Param #   \n",
            "=================================================================\n",
            "input_4 (InputLayer)         (None, 25)                0         \n",
            "_________________________________________________________________\n",
            "embedding_4 (Embedding)      (None, 25, 100)           31703400  \n",
            "_________________________________________________________________\n",
            "bidirectional_2 (Bidirection (None, 25, 128)           84992     \n",
            "_________________________________________________________________\n",
            "dropout_5 (Dropout)          (None, 25, 128)           0         \n",
            "_________________________________________________________________\n",
            "LSTM-2 (CuDNNLSTM)           (None, 25, 64)            49664     \n",
            "_________________________________________________________________\n",
            "dropout_6 (Dropout)          (None, 25, 64)            0         \n",
            "_________________________________________________________________\n",
            "LSTM-3 (CuDNNLSTM)           (None, 64)                33280     \n",
            "_________________________________________________________________\n",
            "dropout_7 (Dropout)          (None, 64)                0         \n",
            "_________________________________________________________________\n",
            "dense_4 (Dense)              (None, 32)                2080      \n",
            "_________________________________________________________________\n",
            "dropout_8 (Dropout)          (None, 32)                0         \n",
            "_________________________________________________________________\n",
            "output (Dense)               (None, 1)                 33        \n",
            "=================================================================\n",
            "Total params: 31,873,449\n",
            "Trainable params: 170,049\n",
            "Non-trainable params: 31,703,400\n",
            "_________________________________________________________________\n"
          ],
          "name": "stdout"
        }
      ]
    },
    {
      "cell_type": "code",
      "metadata": {
        "id": "E26NuaWibaIE",
        "colab_type": "code",
        "outputId": "ddd5520e-7a3d-431e-fe63-6896c0cd7588",
        "colab": {
          "base_uri": "https://localhost:8080/",
          "height": 836
        }
      },
      "source": [
        "#Instead of early stopping we'll let our model train longer and save the best result \n",
        "ckpt = ModelCheckpoint('stackedLSTM_TweetModel.h5',\n",
        "                             monitor='val_loss',\n",
        "                             mode='min',\n",
        "                             save_best_only=True,\n",
        "                             verbose=1)\n",
        "history1 = stackedLSTM_TweetModel.fit(x_train, Y_train, batch_size= 32, epochs = 10, validation_data= (x_dev, Y_dev), verbose = 1, callbacks = [ckpt])"
      ],
      "execution_count": 35,
      "outputs": [
        {
          "output_type": "stream",
          "text": [
            "WARNING:tensorflow:From /usr/local/lib/python3.6/dist-packages/keras/backend/tensorflow_backend.py:1033: The name tf.assign_add is deprecated. Please use tf.compat.v1.assign_add instead.\n",
            "\n",
            "WARNING:tensorflow:From /usr/local/lib/python3.6/dist-packages/keras/backend/tensorflow_backend.py:1020: The name tf.assign is deprecated. Please use tf.compat.v1.assign instead.\n",
            "\n",
            "Train on 4543 samples, validate on 1168 samples\n",
            "Epoch 1/10\n",
            "4543/4543 [==============================] - 6s 1ms/step - loss: 0.2730 - acc: 0.9007 - val_loss: 0.1868 - val_acc: 0.9289\n",
            "\n",
            "Epoch 00001: val_loss improved from inf to 0.18679, saving model to stackedLSTM_TweetModel.h5\n",
            "Epoch 2/10\n",
            "4543/4543 [==============================] - 2s 393us/step - loss: 0.1728 - acc: 0.9390 - val_loss: 0.1571 - val_acc: 0.9298\n",
            "\n",
            "Epoch 00002: val_loss improved from 0.18679 to 0.15705, saving model to stackedLSTM_TweetModel.h5\n",
            "Epoch 3/10\n",
            "4543/4543 [==============================] - 2s 385us/step - loss: 0.1492 - acc: 0.9450 - val_loss: 0.1494 - val_acc: 0.9315\n",
            "\n",
            "Epoch 00003: val_loss improved from 0.15705 to 0.14937, saving model to stackedLSTM_TweetModel.h5\n",
            "Epoch 4/10\n",
            "4543/4543 [==============================] - 2s 395us/step - loss: 0.1332 - acc: 0.9503 - val_loss: 0.1445 - val_acc: 0.9384\n",
            "\n",
            "Epoch 00004: val_loss improved from 0.14937 to 0.14448, saving model to stackedLSTM_TweetModel.h5\n",
            "Epoch 5/10\n",
            "4543/4543 [==============================] - 2s 396us/step - loss: 0.1198 - acc: 0.9536 - val_loss: 0.1464 - val_acc: 0.9358\n",
            "\n",
            "Epoch 00005: val_loss did not improve from 0.14448\n",
            "Epoch 6/10\n",
            "4543/4543 [==============================] - 2s 380us/step - loss: 0.1018 - acc: 0.9632 - val_loss: 0.1703 - val_acc: 0.9401\n",
            "\n",
            "Epoch 00006: val_loss did not improve from 0.14448\n",
            "Epoch 7/10\n",
            "4543/4543 [==============================] - 2s 374us/step - loss: 0.1024 - acc: 0.9626 - val_loss: 0.1760 - val_acc: 0.9375\n",
            "\n",
            "Epoch 00007: val_loss did not improve from 0.14448\n",
            "Epoch 8/10\n",
            "4543/4543 [==============================] - 2s 389us/step - loss: 0.0808 - acc: 0.9742 - val_loss: 0.1667 - val_acc: 0.9392\n",
            "\n",
            "Epoch 00008: val_loss did not improve from 0.14448\n",
            "Epoch 9/10\n",
            "4543/4543 [==============================] - 2s 378us/step - loss: 0.0687 - acc: 0.9760 - val_loss: 0.1950 - val_acc: 0.9418\n",
            "\n",
            "Epoch 00009: val_loss did not improve from 0.14448\n",
            "Epoch 10/10\n",
            "4543/4543 [==============================] - 2s 372us/step - loss: 0.0589 - acc: 0.9855 - val_loss: 0.1883 - val_acc: 0.9452\n",
            "\n",
            "Epoch 00010: val_loss did not improve from 0.14448\n"
          ],
          "name": "stdout"
        }
      ]
    },
    {
      "cell_type": "code",
      "metadata": {
        "id": "TTI0hiVobwXZ",
        "colab_type": "code",
        "outputId": "d8bf29ae-0d78-4b0c-bc7e-c62cbe2c80c7",
        "colab": {
          "base_uri": "https://localhost:8080/",
          "height": 296
        }
      },
      "source": [
        "train_loss = history1.history['loss']\n",
        "val_loss = history1.history['val_loss']\n",
        "length = len(val_loss)\n",
        "plt = sns.lineplot(y= train_loss, x = np.arange(length), label = 'train_loss', color = 'r')\n",
        "sns.lineplot(y= val_loss, x = np.arange(length), label = 'val_loss', color = 'g')\n",
        "plt.set_xlabel('epochs')\n",
        "plt.set_ylabel('loss')"
      ],
      "execution_count": 36,
      "outputs": [
        {
          "output_type": "execute_result",
          "data": {
            "text/plain": [
              "Text(0, 0.5, 'loss')"
            ]
          },
          "metadata": {
            "tags": []
          },
          "execution_count": 36
        },
        {
          "output_type": "display_data",
          "data": {
            "image/png": "[encoded data removed]",
            "text/plain": [
              "<Figure size 432x288 with 1 Axes>"
            ]
          },
          "metadata": {
            "tags": []
          }
        }
      ]
    },
    {
      "cell_type": "code",
      "metadata": {
        "id": "4Mq46JaIcGlf",
        "colab_type": "code",
        "outputId": "6ef46eaa-9ad2-4132-b554-5e6abec3b7ad",
        "colab": {
          "base_uri": "https://localhost:8080/",
          "height": 87
        }
      },
      "source": [
        "stackedLSTM_TweetModel = load_model('stackedLSTM_TweetModel.h5')\n",
        "\n",
        "loss, acc = stackedLSTM_TweetModel.evaluate(x_dev, Y_dev)\n",
        "print('dev evaluation:' , loss, ' / ',acc)\n",
        "loss, acc = stackedLSTM_TweetModel.evaluate(x_test, Y_test)\n",
        "print('test evaluation:' , loss, ' / ',acc)\n"
      ],
      "execution_count": 37,
      "outputs": [
        {
          "output_type": "stream",
          "text": [
            "1168/1168 [==============================] - 0s 377us/step\n",
            "dev evaluation: 0.14447985620123066  /  0.9383561643835616\n",
            "779/779 [==============================] - 0s 147us/step\n",
            "test evaluation: 0.13868518793460494  /  0.9486521184826999\n"
          ],
          "name": "stdout"
        }
      ]
    },
    {
      "cell_type": "markdown",
      "metadata": {
        "id": "DmXl2EGUcH4P",
        "colab_type": "text"
      },
      "source": [
        "---"
      ]
    },
    {
      "cell_type": "code",
      "metadata": {
        "id": "RZyBAEbia4GJ",
        "colab_type": "code",
        "outputId": "1ee4c3f3-c90b-43a4-f4e9-ed0b6550897a",
        "colab": {
          "base_uri": "https://localhost:8080/",
          "height": 541
        }
      },
      "source": [
        "Image('convlstm_architecture.PNG')"
      ],
      "execution_count": 0,
      "outputs": [
        {
          "output_type": "execute_result",
          "data": {
            "image/png": "[encoded data removed]",
            "text/plain": [
              "<IPython.core.display.Image object>"
            ]
          },
          "metadata": {
            "tags": []
          },
          "execution_count": 24
        }
      ]
    },
    {
      "cell_type": "code",
      "metadata": {
        "colab_type": "code",
        "id": "WEvEd4XcDVuX",
        "colab": {}
      },
      "source": [
        "#Conv-LSTM architecture\n",
        "\n",
        "def CNNLSTM_TweetModel(n_a, n_l, DROPOUT, lr,  input_shape =  (25,)):\n",
        "  \n",
        "  sentence_ind = Input(shape = input_shape)\n",
        "  \n",
        "  emb_layer = pretrained_emb()\n",
        "  emb_layer = emb_layer(sentence_ind)\n",
        "  \n",
        "\n",
        "  conv1 = Conv1D(filters = 32, kernel_size = 3, padding='same', activation='relu')(emb_layer)  \n",
        "  conv1 = MaxPooling1D(pool_size=2)(conv1)\n",
        "  conv2 = Conv1D(filters = 32, kernel_size = 5, padding='same', activation='relu')(emb_layer)  \n",
        "  conv2 = MaxPooling1D(pool_size=2)(conv2)\n",
        "  conv3 = Conv1D(filters = 32, kernel_size = 7, padding='same', activation='relu')(emb_layer)  \n",
        "  conv3 = MaxPooling1D(pool_size=2)(conv3)\n",
        "  \n",
        "  concat = concatenate([conv1, conv2, conv3])\n",
        "  \n",
        "  \n",
        "  lstm = Bidirectional(CuDNNLSTM(n_a))(concat)\n",
        "  X = Dropout(DROPOUT)(lstm)\n",
        "  \n",
        "\n",
        "  X = Dense(n_l, activation=\"relu\")(X)  \n",
        "  X = Dropout(DROPOUT)(X)    \n",
        "\n",
        "  output = Dense(1, activation = \"sigmoid\", name = 'output')(X)\n",
        "    \n",
        "  model = Model(inputs=sentence_ind, outputs = output, name = \"CNNLSTM_TweetModel\")\n",
        "  \n",
        "  opt = adam(lr=lr, decay = lr/10)\n",
        "  model.compile(loss= 'binary_crossentropy', optimizer = opt, metrics = [\"accuracy\"])\n",
        "\n",
        "  return model"
      ],
      "execution_count": 0,
      "outputs": []
    },
    {
      "cell_type": "code",
      "metadata": {
        "colab_type": "code",
        "id": "7DgSBJzpcRZA",
        "outputId": "f7f223a7-c3fc-460e-ec83-9048eb734093",
        "colab": {
          "base_uri": "https://localhost:8080/",
          "height": 747
        }
      },
      "source": [
        "cnnLSTM_TweetModel = CNNLSTM_TweetModel(64, 32, 0.5, .001, (MAXLEN,))\n",
        "cnnLSTM_TweetModel.summary()"
      ],
      "execution_count": 40,
      "outputs": [
        {
          "output_type": "stream",
          "text": [
            "WARNING:tensorflow:From /usr/local/lib/python3.6/dist-packages/keras/backend/tensorflow_backend.py:4267: The name tf.nn.max_pool is deprecated. Please use tf.nn.max_pool2d instead.\n",
            "\n",
            "Model: \"CNNLSTM_TweetModel\"\n",
            "__________________________________________________________________________________________________\n",
            "Layer (type)                    Output Shape         Param #     Connected to                     \n",
            "==================================================================================================\n",
            "input_5 (InputLayer)            (None, 25)           0                                            \n",
            "__________________________________________________________________________________________________\n",
            "embedding_5 (Embedding)         (None, 25, 100)      31703400    input_5[0][0]                    \n",
            "__________________________________________________________________________________________________\n",
            "conv1d_1 (Conv1D)               (None, 25, 32)       9632        embedding_5[0][0]                \n",
            "__________________________________________________________________________________________________\n",
            "conv1d_2 (Conv1D)               (None, 25, 32)       16032       embedding_5[0][0]                \n",
            "__________________________________________________________________________________________________\n",
            "conv1d_3 (Conv1D)               (None, 25, 32)       22432       embedding_5[0][0]                \n",
            "__________________________________________________________________________________________________\n",
            "max_pooling1d_1 (MaxPooling1D)  (None, 12, 32)       0           conv1d_1[0][0]                   \n",
            "__________________________________________________________________________________________________\n",
            "max_pooling1d_2 (MaxPooling1D)  (None, 12, 32)       0           conv1d_2[0][0]                   \n",
            "__________________________________________________________________________________________________\n",
            "max_pooling1d_3 (MaxPooling1D)  (None, 12, 32)       0           conv1d_3[0][0]                   \n",
            "__________________________________________________________________________________________________\n",
            "concatenate_1 (Concatenate)     (None, 12, 96)       0           max_pooling1d_1[0][0]            \n",
            "                                                                 max_pooling1d_2[0][0]            \n",
            "                                                                 max_pooling1d_3[0][0]            \n",
            "__________________________________________________________________________________________________\n",
            "bidirectional_3 (Bidirectional) (None, 128)          82944       concatenate_1[0][0]              \n",
            "__________________________________________________________________________________________________\n",
            "dropout_9 (Dropout)             (None, 128)          0           bidirectional_3[0][0]            \n",
            "__________________________________________________________________________________________________\n",
            "dense_5 (Dense)                 (None, 32)           4128        dropout_9[0][0]                  \n",
            "__________________________________________________________________________________________________\n",
            "dropout_10 (Dropout)            (None, 32)           0           dense_5[0][0]                    \n",
            "__________________________________________________________________________________________________\n",
            "output (Dense)                  (None, 1)            33          dropout_10[0][0]                 \n",
            "==================================================================================================\n",
            "Total params: 31,838,601\n",
            "Trainable params: 135,201\n",
            "Non-trainable params: 31,703,400\n",
            "__________________________________________________________________________________________________\n"
          ],
          "name": "stdout"
        }
      ]
    },
    {
      "cell_type": "code",
      "metadata": {
        "colab_type": "code",
        "id": "354tUSabcRZL",
        "outputId": "1813c9b7-d65e-40ec-d4bc-4010525a90cc",
        "colab": {
          "base_uri": "https://localhost:8080/",
          "height": 745
        }
      },
      "source": [
        "ckpt = ModelCheckpoint('cnnLSTM_TweetModel.h5',\n",
        "                             monitor='val_loss',\n",
        "                             mode='min',\n",
        "                             save_best_only=True,\n",
        "                             verbose=1)\n",
        "\n",
        "history2 = cnnLSTM_TweetModel.fit(x_train, Y_train, batch_size= 32, epochs = 10, validation_data= (x_dev, Y_dev), verbose = 1, callbacks = [ckpt])"
      ],
      "execution_count": 41,
      "outputs": [
        {
          "output_type": "stream",
          "text": [
            "Train on 4543 samples, validate on 1168 samples\n",
            "Epoch 1/10\n",
            "4543/4543 [==============================] - 3s 661us/step - loss: 0.2605 - acc: 0.8968 - val_loss: 0.1575 - val_acc: 0.9332\n",
            "\n",
            "Epoch 00001: val_loss improved from inf to 0.15749, saving model to cnnLSTM_TweetModel.h5\n",
            "Epoch 2/10\n",
            "4543/4543 [==============================] - 1s 299us/step - loss: 0.1440 - acc: 0.9448 - val_loss: 0.1583 - val_acc: 0.9255\n",
            "\n",
            "Epoch 00002: val_loss did not improve from 0.15749\n",
            "Epoch 3/10\n",
            "4543/4543 [==============================] - 1s 277us/step - loss: 0.1155 - acc: 0.9577 - val_loss: 0.1800 - val_acc: 0.9298\n",
            "\n",
            "Epoch 00003: val_loss did not improve from 0.15749\n",
            "Epoch 4/10\n",
            "4543/4543 [==============================] - 1s 284us/step - loss: 0.0754 - acc: 0.9740 - val_loss: 0.2226 - val_acc: 0.9332\n",
            "\n",
            "Epoch 00004: val_loss did not improve from 0.15749\n",
            "Epoch 5/10\n",
            "4543/4543 [==============================] - 1s 280us/step - loss: 0.0669 - acc: 0.9789 - val_loss: 0.1865 - val_acc: 0.9366\n",
            "\n",
            "Epoch 00005: val_loss did not improve from 0.15749\n",
            "Epoch 6/10\n",
            "4543/4543 [==============================] - 1s 282us/step - loss: 0.0324 - acc: 0.9936 - val_loss: 0.2827 - val_acc: 0.9264\n",
            "\n",
            "Epoch 00006: val_loss did not improve from 0.15749\n",
            "Epoch 7/10\n",
            "4543/4543 [==============================] - 1s 288us/step - loss: 0.0343 - acc: 0.9903 - val_loss: 0.2738 - val_acc: 0.9332\n",
            "\n",
            "Epoch 00007: val_loss did not improve from 0.15749\n",
            "Epoch 8/10\n",
            "4543/4543 [==============================] - 1s 282us/step - loss: 0.0287 - acc: 0.9910 - val_loss: 0.2131 - val_acc: 0.9298\n",
            "\n",
            "Epoch 00008: val_loss did not improve from 0.15749\n",
            "Epoch 9/10\n",
            "4543/4543 [==============================] - 1s 293us/step - loss: 0.0201 - acc: 0.9945 - val_loss: 0.3050 - val_acc: 0.9332\n",
            "\n",
            "Epoch 00009: val_loss did not improve from 0.15749\n",
            "Epoch 10/10\n",
            "4543/4543 [==============================] - 1s 285us/step - loss: 0.0081 - acc: 0.9985 - val_loss: 0.3131 - val_acc: 0.9366\n",
            "\n",
            "Epoch 00010: val_loss did not improve from 0.15749\n"
          ],
          "name": "stdout"
        }
      ]
    },
    {
      "cell_type": "code",
      "metadata": {
        "colab_type": "code",
        "id": "QjX7Ag5ZcRZP",
        "outputId": "46dc553d-82e2-4aaa-d2fc-faf8a4525d51",
        "colab": {
          "base_uri": "https://localhost:8080/",
          "height": 296
        }
      },
      "source": [
        "train_loss = history2.history['loss']\n",
        "val_loss = history2.history['val_loss']\n",
        "length = len(val_loss)\n",
        "plt = sns.lineplot(y= train_loss, x = np.arange(length), label = 'train_loss', color = 'r')\n",
        "sns.lineplot(y= val_loss, x = np.arange(length), label = 'val_loss', color = 'g')\n",
        "plt.set_xlabel('epochs')\n",
        "plt.set_ylabel('loss')"
      ],
      "execution_count": 42,
      "outputs": [
        {
          "output_type": "execute_result",
          "data": {
            "text/plain": [
              "Text(0, 0.5, 'loss')"
            ]
          },
          "metadata": {
            "tags": []
          },
          "execution_count": 42
        },
        {
          "output_type": "display_data",
          "data": {
            "image/png": "[encoded data removed]",
            "text/plain": [
              "<Figure size 432x288 with 1 Axes>"
            ]
          },
          "metadata": {
            "tags": []
          }
        }
      ]
    },
    {
      "cell_type": "code",
      "metadata": {
        "colab_type": "code",
        "id": "menq5e9kcRZT",
        "outputId": "33b8d31a-69af-4d98-8f33-977039a5aabe",
        "colab": {
          "base_uri": "https://localhost:8080/",
          "height": 87
        }
      },
      "source": [
        "cnnLSTM_TweetModel = load_model('cnnLSTM_TweetModel.h5')\n",
        "\n",
        "loss, acc = cnnLSTM_TweetModel.evaluate(x_dev, Y_dev)\n",
        "print('dev evaluation:' , loss, ' / ',acc)\n",
        "loss, acc = cnnLSTM_TweetModel.evaluate(x_test, Y_test)\n",
        "print('test evaluation:' , loss, ' / ',acc)"
      ],
      "execution_count": 43,
      "outputs": [
        {
          "output_type": "stream",
          "text": [
            "1168/1168 [==============================] - 0s 426us/step\n",
            "dev evaluation: 0.15749187767505646  /  0.9332191780821918\n",
            "779/779 [==============================] - 0s 118us/step\n",
            "test evaluation: 0.14555238361383127  /  0.9319640564061558\n"
          ],
          "name": "stdout"
        }
      ]
    },
    {
      "cell_type": "markdown",
      "metadata": {
        "id": "KXxYMzjbcKQg",
        "colab_type": "text"
      },
      "source": [
        "---"
      ]
    },
    {
      "cell_type": "code",
      "metadata": {
        "id": "Cu7XnuIO1mNN",
        "colab_type": "code",
        "outputId": "ce1bbb33-d41b-4254-8111-6d7105d34153",
        "colab": {
          "base_uri": "https://localhost:8080/",
          "height": 423
        }
      },
      "source": [
        "import matplotlib.pyplot as plt\n",
        "l1 = history1.history['val_loss']\n",
        "l2 = history2.history['val_loss']\n",
        "\n",
        "\n",
        "acc1 = history1.history['val_acc']\n",
        "acc2 = history2.history['val_acc']\n",
        "\n",
        "\n",
        "fig, ax = plt.subplots(1, 2, figsize = (6,6))\n",
        "fig.set_size_inches(15,6)\n",
        "\n",
        "print('Loss/Acc of the different models')\n",
        "\n",
        "sns.lineplot(y= l1, x = np.arange(len(l1)), label = 'stackedLSTM_loss', color = 'r', ax= ax[0])\n",
        "sns.lineplot(y= l2, x = np.arange(len(l2)), label = 'CONVLSTM_loss', color = 'b',  ax= ax[0])\n",
        "ax[0].set_xlabel('epochs')\n",
        "ax[0].set_ylabel('val_loss')\n",
        "\n",
        "sns.lineplot(y= acc1, x = np.arange(len(acc1)), label = 'stackedLSTM_acc', color = 'r', ax= ax[1])\n",
        "sns.lineplot(y= acc2, x = np.arange(len(acc2)), label = 'CONVLSTM_acc', color = 'b',  ax= ax[1])\n",
        "\n",
        "ax[1].set_xlabel('epochs')\n",
        "ax[1].set_ylabel('val_acc')"
      ],
      "execution_count": 45,
      "outputs": [
        {
          "output_type": "stream",
          "text": [
            "Loss/Acc of the different models\n"
          ],
          "name": "stdout"
        },
        {
          "output_type": "execute_result",
          "data": {
            "text/plain": [
              "Text(0, 0.5, 'val_acc')"
            ]
          },
          "metadata": {
            "tags": []
          },
          "execution_count": 45
        },
        {
          "output_type": "display_data",
          "data": {
            "image/png": "[encoded data removed]",
            "text/plain": [
              "<Figure size 1080x432 with 2 Axes>"
            ]
          },
          "metadata": {
            "tags": []
          }
        }
      ]
    },
    {
      "cell_type": "markdown",
      "metadata": {
        "id": "USiND4Ln6wBY",
        "colab_type": "text"
      },
      "source": [
        "####  Ensembling\n",
        "<a id=\"c36\"></a>"
      ]
    },
    {
      "cell_type": "code",
      "metadata": {
        "id": "rojEo_aByXeP",
        "colab_type": "code",
        "outputId": "3b0af372-ce12-47ea-d26f-b91369e372de",
        "colab": {
          "base_uri": "https://localhost:8080/",
          "height": 318
        }
      },
      "source": [
        "#Ensembling\n",
        "\n",
        "ypred1 = stackedLSTM_TweetModel.predict(test_tweets)\n",
        "ypred2 = cnnLSTM_TweetModel.predict(test_tweets)\n",
        "\n",
        "ypred = (ypred1 + ypred2) / 2\n",
        "\n",
        "\n",
        "Label = []\n",
        "for ys in ypred2:\n",
        "  if ys > .5:\n",
        "    Label.append(\"Sports\")\n",
        "  else:\n",
        "    Label.append(\"Politics\")\n",
        "  \n",
        "Label= pd.DataFrame(Label, columns=[\"Label\"])\n",
        "sub = pd.concat([test.TweetId, Label], axis = 1)\n",
        "print(sub)\n",
        "\n",
        "!rm sub.csv\n",
        "sub.to_csv(\"sub.csv\", index=False)\n",
        "!kaggle competitions submit -c deeptweets -f sub.csv -m \"\""
      ],
      "execution_count": 49,
      "outputs": [
        {
          "output_type": "stream",
          "text": [
            "                 TweetId     Label\n",
            "0     306486520121012224    Sports\n",
            "1     286353402605228032    Sports\n",
            "2     289531046037438464  Politics\n",
            "3     306451661403062273  Politics\n",
            "4     297941800658812928    Sports\n",
            "...                  ...       ...\n",
            "2605  282023761044189184    Sports\n",
            "2606  303879735006601216  Politics\n",
            "2607  297956846046703616    Sports\n",
            "2608  304265049537658880  Politics\n",
            "2609  306430391928115200  Politics\n",
            "\n",
            "[2610 rows x 2 columns]\n",
            "Warning: Looks like you're using an outdated API Version, please consider updating (server 1.5.6 / client 1.5.4)\n",
            "100% 67.6k/67.6k [00:05<00:00, 12.3kB/s]\n",
            "Successfully submitted to DeepTweets"
          ],
          "name": "stdout"
        }
      ]
    },
    {
      "cell_type": "markdown",
      "metadata": {
        "id": "WxXDtWCnn5T4",
        "colab_type": "text"
      },
      "source": [
        "Summary:\n",
        "\n",
        "\n",
        "\n",
        "<table style=\"width:100%\">\n",
        "  <tr>\n",
        "    <th>Model</th>\n",
        "    <th>Dev_loss</th>\n",
        "    <th>Test_loss</th>\n",
        "    <th>Kaggle_accuracy</th>\n",
        "  </tr>\n",
        "  <tr>\n",
        "    <td>Simple model</td>\n",
        "    <td>0.1851</td>\n",
        "    <td>0.2839</td>\n",
        "    <td>----------</td>\n",
        "  </tr>\n",
        "  <tr>\n",
        "    <td>Tuned Simple model</td>\n",
        "    <td>----------</td>\n",
        "    <td>0.1856</td>\n",
        "    <td>0.8863</td>\n",
        "  </tr>\n",
        "  <tr>\n",
        "    <td>Stacked LSTM model</td>\n",
        "    <td>0.1395</td>\n",
        "    <td>0.1636</td>\n",
        "    <td>0.8902</td>\n",
        "  </tr>\n",
        "  <tr>  \n",
        "    <td>CNN-LSTM model</td>\n",
        "    <td>0.1575</td>\n",
        "    <td>0.1455</td>\n",
        "    <td>0.8838</td>\n",
        "    \n",
        "  </tr>\n",
        "  \n",
        "  <tr>  \n",
        "    <td>Ensembling</td>\n",
        "    <td>----------</td>\n",
        "    <td>----------</td>\n",
        "    <td>0.8863</td>\n",
        "  </tr>  \n",
        "</table>\n",
        "\n",
        "\n"
      ]
    },
    {
      "cell_type": "markdown",
      "metadata": {
        "id": "via3yhscuh2h",
        "colab_type": "text"
      },
      "source": [
        "#### Data augmentation\n",
        "<a id=\"c37\"></a>"
      ]
    },
    {
      "cell_type": "markdown",
      "metadata": {
        "id": "Nzo5ShLC8wAZ",
        "colab_type": "text"
      },
      "source": [
        "Data augmentation is great way to unsure generalization and avoid overfitting.\n",
        "\n",
        "\n",
        "We'll use the following:\n",
        "\n",
        "\n",
        "*   Using synonyms/antonyms\n",
        "*   Cosine similarity\n",
        "*   Most common words\n",
        "\n"
      ]
    },
    {
      "cell_type": "code",
      "metadata": {
        "id": "iDc7o7l-FYSu",
        "colab_type": "code",
        "colab": {}
      },
      "source": [
        "train_aug = train.loc[list(X_train.index)]\n",
        "\n",
        "ind_sports = train_aug[train_aug.Label == 'Sports'].index.tolist()\n",
        "ind_politics = train_aug[train_aug.Label == 'Politics'].index.tolist()\n",
        "\n",
        "\n",
        "def get_inds(ind_sports, ind_politics):\n",
        "  \"\"\" Returns random subset of indices\"\"\"\n",
        "  ind_sports = random.sample(ind_sports, int(len(ind_sports)/5))\n",
        "  ind_politics = random.sample(ind_politics, int(len(ind_politics)/5))\n",
        "\n",
        "  inds = []\n",
        "  inds.extend(ind_sports)\n",
        "  inds.extend(ind_politics)\n",
        "  return inds\n"
      ],
      "execution_count": 0,
      "outputs": []
    },
    {
      "cell_type": "code",
      "metadata": {
        "id": "8oCypIlZJtKz",
        "colab_type": "code",
        "outputId": "07a496fe-82f2-4141-bbd7-68a3411baa0e",
        "colab": {
          "base_uri": "https://localhost:8080/",
          "height": 66,
          "referenced_widgets": [
            "9669fed5cb164be7929bcc7f65d4d606",
            "7635ee4be94240b4a36ff4ecafcd418b",
            "a68b1a07077f4906a48a9aa7518aab68",
            "6ea5e203d4604ba6a7bbbf6c73a61ad6",
            "25e01d1f25af48ec9e525f11ceb0344b",
            "1243c96e2599431380a2752565b3181b",
            "02ba2d6edcde4d62953aea090851bfa8",
            "3a5b824df45b407bb6a1fb6260dbea09"
          ]
        }
      },
      "source": [
        "# Synonym/antonyms dict using wordnet \n",
        "\n",
        "sim_dict = dict()\n",
        "\n",
        "for w in progress_bar(vocab):  \n",
        "  synonyms = []\n",
        "  antonyms = []\n",
        "  for syn in wordnet.synsets(w):\n",
        "    for l in syn.lemmas():\n",
        "      synm = l.name()      \n",
        "      if synm in vocab and synm != w:\n",
        "        synonyms.append(synm)\n",
        "      if l.antonyms():\n",
        "        ant = l.antonyms()[0].name()        \n",
        "        if ant in vocab :\n",
        "          antonyms.append(ant)\n",
        "    synonyms.extend(antonyms)\n",
        "    if len(synonyms) > 0:\n",
        "      sim_dict[w] = set(synonyms)\n",
        "\n"
      ],
      "execution_count": 51,
      "outputs": [
        {
          "output_type": "display_data",
          "data": {
            "application/vnd.jupyter.widget-view+json": {
              "model_id": "9669fed5cb164be7929bcc7f65d4d606",
              "version_minor": 0,
              "version_major": 2
            },
            "text/plain": [
              "HBox(children=(IntProgress(value=0, max=317033), HTML(value='')))"
            ]
          },
          "metadata": {
            "tags": []
          }
        },
        {
          "output_type": "stream",
          "text": [
            "\n"
          ],
          "name": "stdout"
        }
      ]
    },
    {
      "cell_type": "code",
      "metadata": {
        "id": "nd4XTvR7rlYD",
        "colab_type": "code",
        "outputId": "85fa0859-5ad2-42aa-ed55-5ded9e1df82f",
        "colab": {
          "base_uri": "https://localhost:8080/",
          "height": 70
        }
      },
      "source": [
        "# Generating similar sentences\n",
        "def gen_similar(tweet, sim_dict, n = 3):\n",
        "  tokens = getToken(tweet)  \n",
        "  keys= sim_dict.keys()\n",
        "  res = []  \n",
        "  for token in tokens:    \n",
        "    if token not in keys:\n",
        "      continue\n",
        "    sim = list(sim_dict[token])    \n",
        "    for s in sim:      \n",
        "      res.append(re.sub(token , s, tweet))\n",
        "  if len(res) > n:\n",
        "    sample = random.sample(res, n)\n",
        "  else:\n",
        "    sample = res\n",
        "\n",
        "  return sample\n",
        "\n",
        "gen_similar(\"obamacare would pay last year east classes people\", sim_dict)"
      ],
      "execution_count": 52,
      "outputs": [
        {
          "output_type": "execute_result",
          "data": {
            "text/plain": [
              "['obamacare would pay lowest year east classes people',\n",
              " 'obamacare would pay conclusion year east classes people',\n",
              " 'obamacare would salary last year east classes people']"
            ]
          },
          "metadata": {
            "tags": []
          },
          "execution_count": 52
        }
      ]
    },
    {
      "cell_type": "code",
      "metadata": {
        "id": "R4p_BM_lqUIw",
        "colab_type": "code",
        "outputId": "20d2d8cc-958a-44f0-e8b7-7c0a9005c749",
        "colab": {
          "base_uri": "https://localhost:8080/",
          "height": 34
        }
      },
      "source": [
        "inds = get_inds(ind_sports, ind_politics)\n",
        "new_ind = train_aug.index.max() + 1\n",
        "\n",
        "for i in tqdm(inds):    \n",
        "  r = train_aug.loc[i, :]\n",
        "  gen_sim = gen_similar(r.TweetText, sim_dict)  \n",
        "  for gen in gen_sim:\n",
        "    row = pd.DataFrame(dict(TweetId = 'data_aug', TweetText = gen, Label = r.Label), index= [new_ind])\n",
        "    train_aug = train_aug.append(row , ignore_index=False, sort = False)    \n",
        "    new_ind += 1\n"
      ],
      "execution_count": 53,
      "outputs": [
        {
          "output_type": "stream",
          "text": [
            "100%|██████████| 908/908 [00:05<00:00, 156.01it/s]\n"
          ],
          "name": "stderr"
        }
      ]
    },
    {
      "cell_type": "code",
      "metadata": {
        "colab_type": "code",
        "outputId": "31d77ebd-d26a-49ff-a0b4-925f86f50fd9",
        "id": "p5Na4UaePQPh",
        "colab": {
          "base_uri": "https://localhost:8080/",
          "height": 34
        }
      },
      "source": [
        "# Similar words using the cosine similarity on between the embedding vectors\n",
        "def cos_sim(u, v):\n",
        "  num = u.dot(v)\n",
        "  denom = np.sqrt(np.sum(u ** 2)) * np.sqrt(np.sum(v ** 2))\n",
        "  return num / denom\n",
        "\n",
        "cos_sim(w2v['ball'], w2v['player'])"
      ],
      "execution_count": 54,
      "outputs": [
        {
          "output_type": "execute_result",
          "data": {
            "text/plain": [
              "0.591834566192892"
            ]
          },
          "metadata": {
            "tags": []
          },
          "execution_count": 54
        }
      ]
    },
    {
      "cell_type": "code",
      "metadata": {
        "id": "MSpbP7ahd4SJ",
        "colab_type": "code",
        "outputId": "a153a11d-bde8-4f24-fba6-5c9d129f1123",
        "colab": {
          "base_uri": "https://localhost:8080/",
          "height": 34
        }
      },
      "source": [
        "def most_sim(word, threshold = .7):\n",
        "  u = w2v[word]\n",
        "  for w in vocab:\n",
        "    if cos_sim(u, w2v[w]) >= threshold:\n",
        "      return w  \n",
        "  return word\n",
        "most_sim('song')  "
      ],
      "execution_count": 55,
      "outputs": [
        {
          "output_type": "execute_result",
          "data": {
            "text/plain": [
              "'music'"
            ]
          },
          "metadata": {
            "tags": []
          },
          "execution_count": 55
        }
      ]
    },
    {
      "cell_type": "code",
      "metadata": {
        "id": "uOizRgoddhuO",
        "colab_type": "code",
        "outputId": "ac196d46-41f5-4dfc-d9cc-a50145e6e9dc",
        "colab": {
          "base_uri": "https://localhost:8080/",
          "height": 66,
          "referenced_widgets": [
            "463db75b0fd04bb98defd05dbe8580bf",
            "97082d617a574b39b6ffafdead085fb9",
            "46c377371d974fc4b67d1bb6ccd4f64e",
            "fec4f9a5b3d24e439886fc72ff075353",
            "b130b3f5a3b24ab1b1789d01b85b9e7f",
            "f79581858fe649ab9c8787ab3ab73a2f",
            "f768131e22b444c89ba7545e0dc69bb4",
            "ab3432ac78194619aa1701e50fdba06b"
          ]
        }
      },
      "source": [
        "#E.g \n",
        "# given: i like this song\n",
        "# append : i like this album\n",
        "max_token_replace = 2\n",
        "n_token_replace = 0\n",
        "inds = get_inds(ind_sports, ind_politics)\n",
        "\n",
        "for i in progress_bar(inds):\n",
        "  r = train_aug.loc[i,:]\n",
        "  tokens = getToken(r.TweetText) \n",
        "  tokens = random.sample(tokens, len(tokens)) #shuffling the array\n",
        "  new_r = ''  \n",
        "  n_token_replace = 0\n",
        "  for token in tokens:    \n",
        "    if token in vocab:   \n",
        "      replacement = most_sim(token)         \n",
        "      if replacement != token:\n",
        "        new_r = re.sub(token, replacement, r.TweetText)        \n",
        "        n_token_replace += 1\n",
        "        if n_token_replace == max_token_replace:\n",
        "          break\n",
        "  if new_r != r.TweetText  and len(new_r) > 0:                  \n",
        "    row = pd.DataFrame(dict(TweetId = 'data_aug', TweetText = new_r, Label = r.Label), index= [new_ind])\n",
        "    train_aug = train_aug.append(row , ignore_index=False, sort = False)    \n",
        "    new_ind += 1\n"
      ],
      "execution_count": 56,
      "outputs": [
        {
          "output_type": "display_data",
          "data": {
            "application/vnd.jupyter.widget-view+json": {
              "model_id": "463db75b0fd04bb98defd05dbe8580bf",
              "version_minor": 0,
              "version_major": 2
            },
            "text/plain": [
              "HBox(children=(IntProgress(value=0, max=908), HTML(value='')))"
            ]
          },
          "metadata": {
            "tags": []
          }
        },
        {
          "output_type": "stream",
          "text": [
            "\n"
          ],
          "name": "stdout"
        }
      ]
    },
    {
      "cell_type": "code",
      "metadata": {
        "id": "7YAUkGGCx6Qm",
        "colab_type": "code",
        "outputId": "ce639242-26b9-4746-b82c-74e4bd757321",
        "colab": {
          "base_uri": "https://localhost:8080/",
          "height": 66,
          "referenced_widgets": [
            "75c6bc4782774e288e1d4fcd345a310d",
            "27196596375a49f2915bb2148dcc6878",
            "966f9236b2104b7cb2364e42100dba00",
            "7bedcb9c8dcb4c7c8207b1f124ceadc1",
            "f49e9bb2b1bd44f2a0891abab6e0313d",
            "bbd6ec61456b4382a6dfd5bb09915363",
            "0190433eae94484492aa625f8128ffb8",
            "3cb299ee8c3349e0a3aec30c426d6768"
          ]
        }
      },
      "source": [
        "# Adding new rows without low cosine-similarity with the corresponding label\n",
        "\n",
        "max_token_rm = 2\n",
        "token_rm = 0\n",
        "inds = get_inds(ind_sports, ind_politics)\n",
        "\n",
        "for i in progress_bar(inds):\n",
        "  r = train_aug.loc[i,:]\n",
        "  tokens = getToken(r.TweetText) \n",
        "  tokens = random.sample(tokens, len(tokens)) #shuffling the array\n",
        "  new_r = ''  \n",
        "  token_rm = 0\n",
        "  for token in tokens:    \n",
        "    if token in vocab:            \n",
        "      if cos_sim(w2v[token], w2v[r.Label.lower()]) < 0:\n",
        "        new_r = re.sub(token, '', r.TweetText)        \n",
        "        token_rm += 1\n",
        "        if token_rm == max_token_rm:\n",
        "          break\n",
        "  if new_r != r.TweetText  and len(new_r) > 0:                  \n",
        "    row = pd.DataFrame(dict(TweetId = 'data_aug', TweetText = new_r, Label = r.Label), index= [new_ind])\n",
        "    train_aug = train_aug.append(row , ignore_index=False, sort = False)    \n",
        "    new_ind += 1\n"
      ],
      "execution_count": 57,
      "outputs": [
        {
          "output_type": "display_data",
          "data": {
            "application/vnd.jupyter.widget-view+json": {
              "model_id": "75c6bc4782774e288e1d4fcd345a310d",
              "version_minor": 0,
              "version_major": 2
            },
            "text/plain": [
              "HBox(children=(IntProgress(value=0, max=908), HTML(value='')))"
            ]
          },
          "metadata": {
            "tags": []
          }
        },
        {
          "output_type": "stream",
          "text": [
            "\n"
          ],
          "name": "stdout"
        }
      ]
    },
    {
      "cell_type": "code",
      "metadata": {
        "id": "1cCSbe_reF30",
        "colab_type": "code",
        "outputId": "d84f7d82-212d-4438-a625-3f8e472a8b4a",
        "colab": {
          "base_uri": "https://localhost:8080/",
          "height": 125
        }
      },
      "source": [
        "#Adding random sentences using the most common keywords\n",
        "h_sports = []\n",
        "h_politics = []\n",
        "for i, r in tqdm(train.iterrows()):  \n",
        "  tokens = getToken(r.TweetText)\n",
        "  for token in tokens:        \n",
        "    if r.Label == 'Sports':\n",
        "      h_sports.append(token)\n",
        "    else:\n",
        "      h_politics.append(token)\n",
        "\n",
        "common_sports = Counter(h_sports).most_common(40)\n",
        "common_politics = Counter(h_politics).most_common(40)\n",
        "print()\n",
        "print('Sports # freq ', common_sports)\n",
        "print('Politics # freq ',common_politics)\n",
        "\n",
        "def generate_sentence(sport = True):\n",
        "  i = random.randint(3, MAXLEN-1)\n",
        "  sentence = ''\n",
        "  if sport:\n",
        "    for w, _ in random.sample(common_sports, i):\n",
        "      sentence += w + ' '\n",
        "  else:\n",
        "    for w, _ in random.sample(common_politics, i):\n",
        "      sentence += w + ' '\n",
        "\n",
        "  return sentence\n",
        "  \n",
        "generate_sentence(sport = False)"
      ],
      "execution_count": 58,
      "outputs": [
        {
          "output_type": "stream",
          "text": [
            "6490it [00:03, 1641.87it/s]\n"
          ],
          "name": "stderr"
        },
        {
          "output_type": "stream",
          "text": [
            "\n",
            "Sports # freq  [('score', 575), ('rt', 406), ('indvaus', 347), ('test', 317), ('bcci', 202), ('runs', 196), ('bbl', 196), ('atp', 183), ('bigfinals', 165), ('cfc', 162), ('tennis', 146), ('win', 143), ('final', 142), ('first', 139), ('aus', 135), ('india', 133), ('game', 122), ('day', 119), ('team', 118), ('thanks', 107), ('great', 106), ('australia', 105), ('time', 105), ('one', 104), ('england', 103), ('cricket', 102), ('gbfedcup', 93), ('match', 92), ('back', 90), ('see', 89), ('new', 87), ('good', 85), ('v', 84), ('get', 83), ('today', 83), ('wicket', 82), ('live', 82), ('ausopen', 80), ('watch', 79), ('play', 79)]\n",
            "Politics # freq  [('president', 346), ('rt', 319), ('obama', 276), ('pm', 267), ('u2019s', 164), ('conference', 159), ('video', 157), ('new', 153), ('nelsonmandela', 148), ('medvedev', 144), ('minister', 142), ('press', 140), ('secretary', 136), ('live', 135), ('chief', 130), ('cabinet', 130), ('meeting', 121), ('prime', 115), ('us', 114), ('nhttp', 113), ('today', 111), ('people', 111), ('english', 110), ('india', 100), ('bcim', 94), ('day', 91), ('first', 89), ('putin', 84), ('eu', 83), ('time', 82), ('dmitry', 80), ('america', 79), ('february', 78), ('state', 77), ('economic', 77), ('photo', 74), ('suga', 73), ('barackobama', 72), ('vladimir', 71), ('january', 70)]\n"
          ],
          "name": "stdout"
        },
        {
          "output_type": "execute_result",
          "data": {
            "text/plain": [
              "'india day pm english obama medvedev '"
            ]
          },
          "metadata": {
            "tags": []
          },
          "execution_count": 58
        }
      ]
    },
    {
      "cell_type": "code",
      "metadata": {
        "id": "6ydY6S_cg0y7",
        "colab_type": "code",
        "colab": {}
      },
      "source": [
        "for _ in range(200):\n",
        "  new_r = generate_sentence()\n",
        "  row = pd.DataFrame(dict(TweetId = 'data_aug', TweetText = new_r, Label = 'Sports'), index= [new_ind])\n",
        "  train_aug = train_aug.append(row , ignore_index=False, sort = False)    \n",
        "  new_ind += 1\n",
        "  new_r = generate_sentence(sport = False)\n",
        "  row = pd.DataFrame(dict(TweetId = 'data_aug', TweetText = new_r, Label = 'Politics'), index= [new_ind])\n",
        "  train_aug = train_aug.append(row , ignore_index=False, sort = False)    \n",
        "  new_ind += 1\n",
        "    "
      ],
      "execution_count": 0,
      "outputs": []
    },
    {
      "cell_type": "code",
      "metadata": {
        "id": "jqIBuwjwlp9o",
        "colab_type": "code",
        "outputId": "9c0b4133-04ac-4ff3-dc17-3e88b5987911",
        "colab": {
          "base_uri": "https://localhost:8080/",
          "height": 477
        }
      },
      "source": [
        "display(train_aug.tail())\n",
        "sns.countplot(train_aug.Label)"
      ],
      "execution_count": 60,
      "outputs": [
        {
          "output_type": "display_data",
          "data": {
            "text/html": [
              "<div>\n",
              "<style scoped>\n",
              "    .dataframe tbody tr th:only-of-type {\n",
              "        vertical-align: middle;\n",
              "    }\n",
              "\n",
              "    .dataframe tbody tr th {\n",
              "        vertical-align: top;\n",
              "    }\n",
              "\n",
              "    .dataframe thead th {\n",
              "        text-align: right;\n",
              "    }\n",
              "</style>\n",
              "<table border=\"1\" class=\"dataframe\">\n",
              "  <thead>\n",
              "    <tr style=\"text-align: right;\">\n",
              "      <th></th>\n",
              "      <th>TweetId</th>\n",
              "      <th>Label</th>\n",
              "      <th>TweetText</th>\n",
              "    </tr>\n",
              "  </thead>\n",
              "  <tbody>\n",
              "    <tr>\n",
              "      <th>10231</th>\n",
              "      <td>data_aug</td>\n",
              "      <td>Politics</td>\n",
              "      <td>economic india barackobama video cabinet obama...</td>\n",
              "    </tr>\n",
              "    <tr>\n",
              "      <th>10232</th>\n",
              "      <td>data_aug</td>\n",
              "      <td>Sports</td>\n",
              "      <td>great score cricket new bbl tennis bigfinals s...</td>\n",
              "    </tr>\n",
              "    <tr>\n",
              "      <th>10233</th>\n",
              "      <td>data_aug</td>\n",
              "      <td>Politics</td>\n",
              "      <td>state first january minister time press vladim...</td>\n",
              "    </tr>\n",
              "    <tr>\n",
              "      <th>10234</th>\n",
              "      <td>data_aug</td>\n",
              "      <td>Sports</td>\n",
              "      <td>get one first win back time test score bbl new...</td>\n",
              "    </tr>\n",
              "    <tr>\n",
              "      <th>10235</th>\n",
              "      <td>data_aug</td>\n",
              "      <td>Politics</td>\n",
              "      <td>time us america</td>\n",
              "    </tr>\n",
              "  </tbody>\n",
              "</table>\n",
              "</div>"
            ],
            "text/plain": [
              "        TweetId     Label                                          TweetText\n",
              "10231  data_aug  Politics  economic india barackobama video cabinet obama...\n",
              "10232  data_aug    Sports  great score cricket new bbl tennis bigfinals s...\n",
              "10233  data_aug  Politics  state first january minister time press vladim...\n",
              "10234  data_aug    Sports  get one first win back time test score bbl new...\n",
              "10235  data_aug  Politics                                   time us america "
            ]
          },
          "metadata": {
            "tags": []
          }
        },
        {
          "output_type": "execute_result",
          "data": {
            "text/plain": [
              "<matplotlib.axes._subplots.AxesSubplot at 0x7f0378a8edd8>"
            ]
          },
          "metadata": {
            "tags": []
          },
          "execution_count": 60
        },
        {
          "output_type": "display_data",
          "data": {
            "image/png": "[encoded data removed]",
            "text/plain": [
              "<Figure size 432x288 with 1 Axes>"
            ]
          },
          "metadata": {
            "tags": []
          }
        }
      ]
    },
    {
      "cell_type": "code",
      "metadata": {
        "id": "OrqHi4ras8aV",
        "colab_type": "code",
        "outputId": "4dbc936a-9280-4332-918a-50d1e7aa4171",
        "colab": {
          "base_uri": "https://localhost:8080/",
          "height": 66,
          "referenced_widgets": [
            "c721d560b49a43c4b53389994ed1d101",
            "11c0f386f4fd4885bdc09d2f2ff30904",
            "328ba48fb92e461a85016a98121fe6df",
            "993dae0fc00b4f4dbbbefb2cc5109bec",
            "54ec603b02fc4c3a9a274852af6dd24c",
            "a27e05d5e9254989b5c8f6a14f11069e",
            "fe0e9f18e8564b25b92bd5f5a5e359cf",
            "d497c9357ea243b6a7a4c563c1773034"
          ]
        }
      },
      "source": [
        "x_train_aug = sentences2indice(np.array(train_aug.TweetText), w2i, vocab, MAXLEN)\n",
        "\n",
        "lb = LabelEncoder().fit(train.Label)\n",
        "Y_train_aug = lb.transform(train_aug.Label)"
      ],
      "execution_count": 61,
      "outputs": [
        {
          "output_type": "display_data",
          "data": {
            "application/vnd.jupyter.widget-view+json": {
              "model_id": "c721d560b49a43c4b53389994ed1d101",
              "version_minor": 0,
              "version_major": 2
            },
            "text/plain": [
              "HBox(children=(IntProgress(value=0, max=8255), HTML(value='')))"
            ]
          },
          "metadata": {
            "tags": []
          }
        },
        {
          "output_type": "stream",
          "text": [
            "\n"
          ],
          "name": "stdout"
        }
      ]
    },
    {
      "cell_type": "markdown",
      "metadata": {
        "id": "LNXdSbAkOWIP",
        "colab_type": "text"
      },
      "source": [
        "#### Final evaluation\n",
        "<a id=\"c38\"></a>"
      ]
    },
    {
      "cell_type": "code",
      "metadata": {
        "id": "UuDmDqjEus16",
        "colab_type": "code",
        "colab": {}
      },
      "source": [
        "# We will also use random fine-tuning\n",
        "BATCH_SIZE = [32, 64 ,128]\n",
        "LEARNING_RATE = [0.001, 0.01]\n",
        "n_a = [32, 64, 128]\n",
        "n_l = [32, 64]\n",
        "DROPOUT = [0, 0.2, 0.5]"
      ],
      "execution_count": 0,
      "outputs": []
    },
    {
      "cell_type": "code",
      "metadata": {
        "id": "hT0XZR43zuHu",
        "colab_type": "code",
        "outputId": "fe7cf2d7-d5bd-477b-881a-449ad53c8161",
        "colab": {
          "base_uri": "https://localhost:8080/",
          "height": 34
        }
      },
      "source": [
        "ckpt = ModelCheckpoint('stackedLSTM_TweetModel_aug.h5',\n",
        "                             monitor='val_loss',\n",
        "                             mode='min',\n",
        "                             save_best_only=True,\n",
        "                             verbose=0)\n",
        "\n",
        "\n",
        "best_params1 = dict()\n",
        "min_loss = 100\n",
        "for _ in range(10):\n",
        "  batch_size = random.choice(BATCH_SIZE)\n",
        "  lr = random.choice(LEARNING_RATE)\n",
        "\n",
        "  a = random.choice(n_a)\n",
        "  l = random.choice(n_l)\n",
        "  d = random.choice(DROPOUT)\n",
        "  \n",
        "  stackedLSTM_TweetModel = StackedLSTM_TweetModel(a, l, d, lr, (MAXLEN,))\n",
        "  hist = stackedLSTM_TweetModel.fit(x_train_aug, Y_train_aug, batch_size= batch_size, epochs = 10, validation_data= (x_dev, Y_dev), verbose = 0, callbacks = [ckpt])\n",
        "  if min(hist.history['val_loss']) < min_loss:\n",
        "    best_params1['BATCH_SIZE'] = batch_size\n",
        "    best_params1['LEARNING_RATE'] = lr\n",
        "    best_params1['n_a'] = a\n",
        "    best_params1['n_l'] = l\n",
        "    best_params1['DROPOUT'] = d\n",
        "\n",
        "print(best_params1)"
      ],
      "execution_count": 63,
      "outputs": [
        {
          "output_type": "stream",
          "text": [
            "{'BATCH_SIZE': 64, 'LEARNING_RATE': 0.01, 'n_a': 64, 'n_l': 32, 'DROPOUT': 0.5}\n"
          ],
          "name": "stdout"
        }
      ]
    },
    {
      "cell_type": "code",
      "metadata": {
        "id": "5sTnTUYB6Wmi",
        "colab_type": "code",
        "outputId": "7bdebf33-d712-45c8-b1ae-3a703088861d",
        "colab": {
          "base_uri": "https://localhost:8080/",
          "height": 87
        }
      },
      "source": [
        "stackedLSTM_TweetModel = load_model('stackedLSTM_TweetModel_aug.h5')\n",
        "\n",
        "loss, acc = stackedLSTM_TweetModel.evaluate(x_dev, Y_dev)\n",
        "print('dev evaluation:' , loss, ' / ',acc)\n",
        "loss, acc = stackedLSTM_TweetModel.evaluate(x_test, Y_test)\n",
        "print('test evaluation:' , loss, ' / ',acc)\n"
      ],
      "execution_count": 84,
      "outputs": [
        {
          "output_type": "stream",
          "text": [
            "1168/1168 [==============================] - 4s 3ms/step\n",
            "dev evaluation: 0.14085765101321757  /  0.9452054794520548\n",
            "779/779 [==============================] - 0s 168us/step\n",
            "test evaluation: 0.1414194626779091  /  0.9460847243877063\n"
          ],
          "name": "stdout"
        }
      ]
    },
    {
      "cell_type": "code",
      "metadata": {
        "id": "GLpaiqqv0te8",
        "colab_type": "code",
        "outputId": "f35d862e-91a9-4abc-9db5-b05c0e8920c3",
        "colab": {
          "base_uri": "https://localhost:8080/",
          "height": 34
        }
      },
      "source": [
        "ckpt = ModelCheckpoint('CNNLSTM_TweetModel_aug.h5',\n",
        "                             monitor='val_loss',\n",
        "                             mode='min',\n",
        "                             save_best_only=True,\n",
        "                             verbose=0)\n",
        "\n",
        "\n",
        "best_params2 = dict()\n",
        "min_loss = 100\n",
        "for i in range(10):\n",
        "  \n",
        "  batch_size = random.choice(BATCH_SIZE)\n",
        "  lr = random.choice(LEARNING_RATE)\n",
        "\n",
        "  a = random.choice(n_a)\n",
        "  l = random.choice(n_l)\n",
        "  d = random.choice(DROPOUT)\n",
        "  \n",
        "\n",
        "  cnnLSTM_TweetModel = CNNLSTM_TweetModel(a, l, d, lr, (MAXLEN,))  \n",
        "  hist = cnnLSTM_TweetModel.fit(x_train_aug, Y_train_aug, batch_size= batch_size, epochs = 10, validation_data= (x_dev, Y_dev), verbose = 0, callbacks = [ckpt])\n",
        "  \n",
        "  if min(hist.history['val_loss']) < min_loss:\n",
        "    best_params2['BATCH_SIZE'] = batch_size\n",
        "    best_params2['LEARNING_RATE'] = lr\n",
        "    best_params2['n_a'] = a\n",
        "    best_params2['n_l'] = l\n",
        "    best_params2['DROPOUT'] = d\n",
        "\n",
        "\n",
        "print(best_params2)  "
      ],
      "execution_count": 65,
      "outputs": [
        {
          "output_type": "stream",
          "text": [
            "{'BATCH_SIZE': 32, 'LEARNING_RATE': 0.001, 'n_a': 32, 'n_l': 32, 'DROPOUT': 0.2}\n"
          ],
          "name": "stdout"
        }
      ]
    },
    {
      "cell_type": "code",
      "metadata": {
        "id": "cSxY5T0H6dZ9",
        "colab_type": "code",
        "outputId": "586bf438-7eae-465b-b38d-f0aa21fe5f99",
        "colab": {
          "base_uri": "https://localhost:8080/",
          "height": 87
        }
      },
      "source": [
        "cnnLSTM_TweetModel = load_model('CNNLSTM_TweetModel_aug.h5')\n",
        "\n",
        "loss, acc = cnnLSTM_TweetModel.evaluate(x_dev, Y_dev)\n",
        "print('dev evaluation:' , loss, ' / ',acc)\n",
        "loss, acc = cnnLSTM_TweetModel.evaluate(x_test, Y_test)\n",
        "print('test evaluation:' , loss, ' / ',acc)\n"
      ],
      "execution_count": 83,
      "outputs": [
        {
          "output_type": "stream",
          "text": [
            "1168/1168 [==============================] - 4s 3ms/step\n",
            "dev evaluation: 0.14507235188598502  /  0.9323630136986302\n",
            "779/779 [==============================] - 0s 136us/step\n",
            "test evaluation: 0.12389588616166708  /  0.9460847243877063\n"
          ],
          "name": "stdout"
        }
      ]
    },
    {
      "cell_type": "code",
      "metadata": {
        "id": "BQL3QjO4J_K-",
        "colab_type": "code",
        "outputId": "f3dc757a-7fcf-43df-a45e-b6461150027f",
        "colab": {
          "base_uri": "https://localhost:8080/",
          "height": 753
        }
      },
      "source": [
        "# Evaluation over the dev set\n",
        "ypred1 = stackedLSTM_TweetModel.predict(x_dev)\n",
        "ypred2 = cnnLSTM_TweetModel.predict(x_dev)\n",
        "\n",
        "\n",
        "ypred = (ypred1 + ypred2) / 2\n",
        "\n",
        "label = []\n",
        "\n",
        "for y in ypred:\n",
        "  if y > .5:\n",
        "    label.append(\"Sports\")\n",
        "  else:\n",
        "    label.append(\"Politics\") \n",
        "\n",
        "label= pd.DataFrame(label, index = X_dev.index, columns=[\"predLabel\"])\n",
        "y_dev = pd.Series(lb.inverse_transform(Y_dev.astype(int)), name = 'Label', index = X_dev.index)\n",
        "res = pd.concat([X_dev,  y_dev, label], axis=1)\n",
        "res = res.loc[res.predLabel != res.Label]\n",
        "pd.set_option('display.max_colwidth', -1)\n",
        "\n",
        "display(res)\n",
        "sns.countplot(res.Label)\n"
      ],
      "execution_count": 85,
      "outputs": [
        {
          "output_type": "display_data",
          "data": {
            "text/html": [
              "<div>\n",
              "<style scoped>\n",
              "    .dataframe tbody tr th:only-of-type {\n",
              "        vertical-align: middle;\n",
              "    }\n",
              "\n",
              "    .dataframe tbody tr th {\n",
              "        vertical-align: top;\n",
              "    }\n",
              "\n",
              "    .dataframe thead th {\n",
              "        text-align: right;\n",
              "    }\n",
              "</style>\n",
              "<table border=\"1\" class=\"dataframe\">\n",
              "  <thead>\n",
              "    <tr style=\"text-align: right;\">\n",
              "      <th></th>\n",
              "      <th>TweetText</th>\n",
              "      <th>Label</th>\n",
              "      <th>predLabel</th>\n",
              "    </tr>\n",
              "  </thead>\n",
              "  <tbody>\n",
              "    <tr>\n",
              "      <th>6129</th>\n",
              "      <td>@madmanweb that's what I laughed !</td>\n",
              "      <td>Politics</td>\n",
              "      <td>Sports</td>\n",
              "    </tr>\n",
              "    <tr>\n",
              "      <th>21</th>\n",
              "      <td>'Sadly, Sharmila Tagore could not come as she was ailing...'</td>\n",
              "      <td>Sports</td>\n",
              "      <td>Politics</td>\n",
              "    </tr>\n",
              "    <tr>\n",
              "      <th>3055</th>\n",
              "      <td>'@SAMI_hadyh thanks.'</td>\n",
              "      <td>Politics</td>\n",
              "      <td>Sports</td>\n",
              "    </tr>\n",
              "    <tr>\n",
              "      <th>1044</th>\n",
              "      <td>'@aGaInStcOmMuNaL thank you :)'</td>\n",
              "      <td>Politics</td>\n",
              "      <td>Sports</td>\n",
              "    </tr>\n",
              "    <tr>\n",
              "      <th>1165</th>\n",
              "      <td>'Thanks for the suggestions. I may not have answers, but will ensure that those who do hear you. The rape survivor &amp;amp; constable deserve better'</td>\n",
              "      <td>Politics</td>\n",
              "      <td>Sports</td>\n",
              "    </tr>\n",
              "    <tr>\n",
              "      <th>...</th>\n",
              "      <td>...</td>\n",
              "      <td>...</td>\n",
              "      <td>...</td>\n",
              "    </tr>\n",
              "    <tr>\n",
              "      <th>3984</th>\n",
              "      <td>'@thebf_ Ok, thanks for letting us know. We tried to be more up to date with different views of the Open. Glad that came across :-) Thanks.'</td>\n",
              "      <td>Sports</td>\n",
              "      <td>Politics</td>\n",
              "    </tr>\n",
              "    <tr>\n",
              "      <th>1048</th>\n",
              "      <td>'RT @imsabbah: @BDUTT @sagarikaghose FYI. Please tag with #MisogynyAlert for any instances of online misogyny. We are planning interventi ...'</td>\n",
              "      <td>Politics</td>\n",
              "      <td>Sports</td>\n",
              "    </tr>\n",
              "    <tr>\n",
              "      <th>1897</th>\n",
              "      <td>'@DriveDontDie yeps. Seen both seasons'</td>\n",
              "      <td>Politics</td>\n",
              "      <td>Sports</td>\n",
              "    </tr>\n",
              "    <tr>\n",
              "      <th>5125</th>\n",
              "      <td>'Job opportunities at Prasar Bharati-visit http://t.co/xMEf2apI'</td>\n",
              "      <td>Politics</td>\n",
              "      <td>Sports</td>\n",
              "    </tr>\n",
              "    <tr>\n",
              "      <th>2916</th>\n",
              "      <td>'RT @iluvthefword: @milinddeora jus watchin ur interview on #Vh1india club class it gives a great insight into the new age young Indian p ...'</td>\n",
              "      <td>Politics</td>\n",
              "      <td>Sports</td>\n",
              "    </tr>\n",
              "  </tbody>\n",
              "</table>\n",
              "<p>64 rows × 3 columns</p>\n",
              "</div>"
            ],
            "text/plain": [
              "                                                                                                                                               TweetText  ... predLabel\n",
              "6129  @madmanweb that's what I laughed !                                                                                                                  ...  Sports  \n",
              "21    'Sadly, Sharmila Tagore could not come as she was ailing...'                                                                                        ...  Politics\n",
              "3055  '@SAMI_hadyh thanks.'                                                                                                                               ...  Sports  \n",
              "1044  '@aGaInStcOmMuNaL thank you :)'                                                                                                                     ...  Sports  \n",
              "1165  'Thanks for the suggestions. I may not have answers, but will ensure that those who do hear you. The rape survivor &amp; constable deserve better'  ...  Sports  \n",
              "...                                                                                                                                                  ...  ...     ...  \n",
              "3984  '@thebf_ Ok, thanks for letting us know. We tried to be more up to date with different views of the Open. Glad that came across :-) Thanks.'        ...  Politics\n",
              "1048  'RT @imsabbah: @BDUTT @sagarikaghose FYI. Please tag with #MisogynyAlert for any instances of online misogyny. We are planning interventi ...'      ...  Sports  \n",
              "1897  '@DriveDontDie yeps. Seen both seasons'                                                                                                             ...  Sports  \n",
              "5125  'Job opportunities at Prasar Bharati-visit http://t.co/xMEf2apI'                                                                                    ...  Sports  \n",
              "2916  'RT @iluvthefword: @milinddeora jus watchin ur interview on #Vh1india club class it gives a great insight into the new age young Indian p ...'      ...  Sports  \n",
              "\n",
              "[64 rows x 3 columns]"
            ]
          },
          "metadata": {
            "tags": []
          }
        },
        {
          "output_type": "execute_result",
          "data": {
            "text/plain": [
              "<matplotlib.axes._subplots.AxesSubplot at 0x7f01af3564e0>"
            ]
          },
          "metadata": {
            "tags": []
          },
          "execution_count": 85
        },
        {
          "output_type": "display_data",
          "data": {
            "image/png": "[encoded data removed]",
            "text/plain": [
              "<Figure size 432x288 with 1 Axes>"
            ]
          },
          "metadata": {
            "tags": []
          }
        }
      ]
    },
    {
      "cell_type": "markdown",
      "metadata": {
        "id": "c5R2sjqaLI9u",
        "colab_type": "text"
      },
      "source": [
        "This is great the models performs now better on politics (recall the error analysis previously)"
      ]
    },
    {
      "cell_type": "markdown",
      "metadata": {
        "id": "x3vq1ig-9R3Q",
        "colab_type": "text"
      },
      "source": [
        "Now let's compare the performance of our model to human(myself) performance"
      ]
    },
    {
      "cell_type": "code",
      "metadata": {
        "id": "8L13FrhbdJhm",
        "colab_type": "code",
        "colab": {}
      },
      "source": [
        "# Ensembling over the test data\n",
        "ypred1 = stackedLSTM_TweetModel.predict(x_test)\n",
        "ypred2 = cnnLSTM_TweetModel.predict(x_test)\n",
        "\n",
        "ypred = (ypred1 + ypred2) / 2\n",
        "\n",
        "label = []\n",
        "\n",
        "for y in ypred:\n",
        "  if y > .5:\n",
        "    label.append(1)\n",
        "  else:\n",
        "    label.append(0) \n"
      ],
      "execution_count": 0,
      "outputs": []
    },
    {
      "cell_type": "code",
      "metadata": {
        "id": "NbUSBSX69Htf",
        "colab_type": "code",
        "outputId": "19f81073-a2e1-4ce7-a28d-50f88a5eacbb",
        "colab": {
          "base_uri": "https://localhost:8080/",
          "height": 52
        }
      },
      "source": [
        "human_test = pd.read_excel('humanLabeledX_test1.xlsx', index_col=0, header= None)\n",
        "print('models f1 score: ',f1_score(Y_test[:100], label[:100]))\n",
        "print('Human f1 score: ',f1_score(Y_test[:100], human_test[1]))"
      ],
      "execution_count": 74,
      "outputs": [
        {
          "output_type": "stream",
          "text": [
            "models f1 score:  0.9444444444444444\n",
            "Human f1 score:  0.8679245283018869\n"
          ],
          "name": "stdout"
        }
      ]
    },
    {
      "cell_type": "markdown",
      "metadata": {
        "id": "aeTurl9T80aI",
        "colab_type": "text"
      },
      "source": [
        "This is proof that we are near the optimal/bayesian error, with that we are ready to submit the results"
      ]
    },
    {
      "cell_type": "markdown",
      "metadata": {
        "id": "ALlDEDiA8s_s",
        "colab_type": "text"
      },
      "source": [
        "---\n"
      ]
    },
    {
      "cell_type": "code",
      "metadata": {
        "id": "NrJeZpu1MQRe",
        "colab_type": "code",
        "outputId": "00703e7b-c6d4-4cf7-d120-ec26a8f738c6",
        "colab": {
          "base_uri": "https://localhost:8080/",
          "height": 34
        }
      },
      "source": [
        "lb.classes_"
      ],
      "execution_count": 0,
      "outputs": [
        {
          "output_type": "execute_result",
          "data": {
            "text/plain": [
              "array(['Politics', 'Sports'], dtype=object)"
            ]
          },
          "metadata": {
            "tags": []
          },
          "execution_count": 81
        }
      ]
    },
    {
      "cell_type": "code",
      "metadata": {
        "id": "q4DWFRjb6wgg",
        "colab_type": "code",
        "colab": {}
      },
      "source": [
        "# More training over dev/test data\n",
        "stackedLSTM_TweetModel.fit(x_dev, Y_dev, batch_size= best_params1['BATCH_SIZE'], epochs = 3, verbose = 0 )\n",
        "stackedLSTM_TweetModel.fit(x_test, Y_test, batch_size= best_params1['BATCH_SIZE'], epochs = 3, verbose = 0 )\n",
        "\n",
        "cnnLSTM_TweetModel.fit(x_dev, Y_dev, batch_size= best_params2['BATCH_SIZE'], epochs = 3, verbose = 0 )\n",
        "cnnLSTM_TweetModel.fit(x_test, Y_test, batch_size= best_params2['BATCH_SIZE'], epochs = 3, verbose = 0 )"
      ],
      "execution_count": 0,
      "outputs": []
    },
    {
      "cell_type": "code",
      "metadata": {
        "id": "PFhXAFA3AVMk",
        "colab_type": "code",
        "outputId": "f15f78e4-b80e-414b-bd99-2070df997278",
        "colab": {
          "base_uri": "https://localhost:8080/",
          "height": 318
        }
      },
      "source": [
        "# #Kaggle submission\n",
        "\n",
        "ypred1 = stackedLSTM_TweetModel.predict(test_tweets)\n",
        "ypred2 = cnnLSTM_TweetModel.predict(test_tweets)\n",
        "\n",
        "ypred = (ypred1 + ypred2) / 2\n",
        "\n",
        "\n",
        "\n",
        "Label = []\n",
        "for ys in ypred:\n",
        "  if ys > .5:    \n",
        "    Label.append(\"Sports\")\n",
        "  else:\n",
        "    Label.append(\"Politics\")\n",
        "  \n",
        "Label= pd.Series(Label, name = \"Label\")\n",
        "sub = pd.concat([test.TweetId, Label], axis = 1)\n",
        "print(sub)\n",
        "!rm sub.csv\n",
        "sub.to_csv(\"sub.csv\", index=False)\n",
        "!kaggle competitions submit -c deeptweets -f sub.csv -m \"\""
      ],
      "execution_count": 82,
      "outputs": [
        {
          "output_type": "stream",
          "text": [
            "                 TweetId     Label\n",
            "0     306486520121012224  Sports  \n",
            "1     286353402605228032  Sports  \n",
            "2     289531046037438464  Politics\n",
            "3     306451661403062273  Politics\n",
            "4     297941800658812928  Sports  \n",
            "...                  ...     ...  \n",
            "2605  282023761044189184  Sports  \n",
            "2606  303879735006601216  Politics\n",
            "2607  297956846046703616  Sports  \n",
            "2608  304265049537658880  Politics\n",
            "2609  306430391928115200  Politics\n",
            "\n",
            "[2610 rows x 2 columns]\n",
            "Warning: Looks like you're using an outdated API Version, please consider updating (server 1.5.6 / client 1.5.4)\n",
            "100% 67.4k/67.4k [00:03<00:00, 18.8kB/s]\n",
            "Successfully submitted to DeepTweets"
          ],
          "name": "stdout"
        }
      ]
    },
    {
      "cell_type": "code",
      "metadata": {
        "id": "wEkVXkZBxtBr",
        "colab_type": "code",
        "outputId": "3dc8fac9-97e7-477a-dd6c-a17546b411ae",
        "colab": {
          "base_uri": "https://localhost:8080/",
          "height": 296
        }
      },
      "source": [
        "sns.countplot(sub.Label)"
      ],
      "execution_count": 0,
      "outputs": [
        {
          "output_type": "execute_result",
          "data": {
            "text/plain": [
              "<matplotlib.axes._subplots.AxesSubplot at 0x7fe9d0949908>"
            ]
          },
          "metadata": {
            "tags": []
          },
          "execution_count": 129
        },
        {
          "output_type": "display_data",
          "data": {
            "image/png": "[encoded data removed]",
            "text/plain": [
              "<Figure size 432x288 with 1 Axes>"
            ]
          },
          "metadata": {
            "tags": []
          }
        }
      ]
    },
    {
      "cell_type": "markdown",
      "metadata": {
        "colab_type": "text",
        "id": "7yByhpN0-yzd"
      },
      "source": [
        "Results after augmentation of x_train:\n",
        "\n",
        "\n",
        "\n",
        "<table style=\"width:100%\">\n",
        "  <tr>\n",
        "    <th>Model</th>\n",
        "    <th>Dev_loss</th>\n",
        "    <th>Test_loss</th>\n",
        "    <th>Kaggle_accuracy</th>\n",
        "  </tr>    \n",
        "  <tr>  \n",
        "    <td>Stacked LSTM model</td>\n",
        "    <td>0.1409</td>\n",
        "    <td>0.1414</td>    \n",
        "    <td></td>\n",
        "  </tr>\n",
        "  <tr>    \n",
        "    <td>CNN-LSTM model</td>\n",
        "    <td>0.1450</td>\n",
        "    <td>0.1239</td>\n",
        "    <td></td>\n",
        "    \n",
        "  </tr>  \n",
        "  <tr>  \n",
        "    <td>Ensembling</td>\n",
        "    <td>----------</td>\n",
        "    <td>----------</td>\n",
        "    <td>0.9144</td>\n",
        "  </tr>\n",
        "</table>\n",
        "\n",
        "\n"
      ]
    },
    {
      "cell_type": "markdown",
      "metadata": {
        "id": "NmLkN7jtbEgv",
        "colab_type": "text"
      },
      "source": [
        "## 4 - Conclusion\n",
        "<a id=\"c4\"></a>"
      ]
    },
    {
      "cell_type": "markdown",
      "metadata": {
        "id": "eva6wMQYbGBC",
        "colab_type": "text"
      },
      "source": [
        "Conclusion and perspectives:\n",
        "\n",
        "\n",
        "The results seems satisfying, but we could have explore more options:\n",
        "\n",
        "*   Start with simpler machine learning approche: Naive bayes\n",
        "*   Other preprocessing techniques (Lemmatization / Stemming / use of tf-idf)\n",
        "*   Remove other non telling sentences from X_train (e.g '@rainaa102 Thank you')\n",
        "*   More hyperparams fine-tuning \n",
        "*   Try GRUs, deeper CNN-LSTM blocks\n",
        "*   Transfert learning\n",
        "*   Concatenatening different embedding + lstm (https://www.kaggle.com/shujian/blend-of-lstm-and-cnn-with-4-embeddings-1200d)\n",
        "*   Dynamic word embedding BERT (https://medium.com/@adriensieg/from-pre-trained-word-embeddings-to-pre-trained-language-models-focus-on-bert-343815627598)\n",
        "\n"
      ]
    },
    {
      "cell_type": "code",
      "metadata": {
        "id": "ExoeZTxA7iOn",
        "colab_type": "code",
        "colab": {}
      },
      "source": [
        ""
      ],
      "execution_count": 0,
      "outputs": []
    }
  ]
}